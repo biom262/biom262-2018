{
 "cells": [
  {
   "cell_type": "markdown",
   "metadata": {
    "collapsed": true
   },
   "source": [
    "# BIOM262: Quantitative Methods in Genetics and Genomics\n",
    "**University of California San Diego (UCSD)**  \n",
    "**Winter 2018**  \n",
    "\n",
    "### Contact us:\n",
    "Lead Instructor [Dr. Gene Yeo](mailto:geneyeo@ucsd.edu \"Gene Yeo\") (geneyeo@ucsd.edu)   \n",
    "Teaching Assistant [Patrick Fiaux](mailto:pfiaux@eng.ucsd.edu) (pfiaux@ucsd.edu)  \n",
    "  \n",
    "Lecture-specific contact info provided below.\n",
    "\n",
    "### Course Description \n",
    "Quantitative Methods in Genetics and Genomics is designed to teach experimental and analytical approaches in modern genetics and genomics, from experimental design through data analysis in each of several topic areas. \n",
    "*This course is a requirement for students in the UCSD Genetics Training Program. 4 units.*\n",
    "\n",
    "### Lecture Location\n",
    "Lectures will all be held at the Sanford Consortium for Regenerative Medicine (SCRM) from 9AM - 12PM.  Class will be held in the first floor conference room 1013A/B located off the main lobby at SCRM.\n",
    "\n",
    "\n",
    "### Homework Submission\n",
    "Homework will be assigned on Thursdays and due on Tuesdays throughout the semester. There will not be an assignment every week. Assignments will be announced in the week they are assigned. \n",
    "Submission of homework will be conducted **by email** to pfiaux@eng.ucsd.edu and will be **due by 9 AM PST on Tuesday mornings.**\n",
    "\n",
    "### Office Hours\n",
    "**Time:** TBA\n",
    "\n",
    "**Patrick's Location:** Salk Institute, room TBD (Check in at the front desk for access to building)  \n",
    "\n",
    "**Schedule:** TBA \n",
    "\n",
    "Special office hours will be announced depending on the lecturer."
   ]
  },
  {
   "cell_type": "markdown",
   "metadata": {
    "collapsed": true
   },
   "source": [
    "## Syllabus\n",
    "\n",
    "| Module Num. | Date |  Lecturer | Topic | Lecture | Homework | Solutions |\n",
    "| ----------- | ---- |  -------- | ----- | ------- | -------- | --------- |\n",
    "| **0** |  |  | Pre-class Setup |  |  |  |\n",
    "| **1** | 1/9/17 | **Ryan Marina** ([contact](mailto:rmarina@ucsd.edu)) | Unix, TSCC, Jupyter I (RNA-seq I) |  |  |  |\n",
    "|       | 1/11/17 | Ryan Marina | RNA-seq II | | | |\n",
    "| **2** | 1/16/17 | Ryan Marina | RNA-seq III| | | |\n",
    "|       | 1/18/17 | Ryan Marina | RNA-seq IV | | | |\n",
    "| **3** | 1/23/17 | **Scott Rifkin** ([contact](mailto:sarifkin@ucsd.edu)) | Statistics | | | |\n",
    "|       | 1/25/17 | Scott Rifkin | Statistics | | |\n",
    "| **4** | 1/30/17 | **Emily Wheeler** ([contact](mailto:ecwheele@ucsd.edu)) | Single Cell Analyses I | | | |\n",
    "|       | 2/1/17 | Emily Wheeler | Single Cell Analyses II | | | |\n",
    "| **5** | 2/6/16 | **Alon Goren** ([contact](mailto:agoren@ucsd.edu)) | CHIP-Seq  |  | | |\n",
    "|       | 2/8/16 | Alon Goren | CHIP-Seq | | | |\n",
    "| **6** | 2/13/16 | Alon Goren | CHIP-Seq | | | |\n",
    "|       | 2/15/16 | Alon Goren | CHIP-Seq | | | |\n",
    "| **7** | 2/20/16 | **Olivier Harismendy** ([contact](mailto:oharismendy@ucsd.edu@ucsd.edu)) | DNA Variant Calling | | | |\n",
    "|       | 2/22/16 | Olivier Harismendy | DNA Variant Calling | | | |\n",
    "| **8** | 2/27/16 | **Graham McVicker** ([contact](mailto:gmcvicker@salk.edu)) | Genetic Variation and Transcription Regulation I | | | |\n",
    "|       | 3/1/16 | Graham McVicker | Genetic Variation and Transcription Regulation II | | |  |\n",
    "| **9** | 3/6/16 | **Hannah Carter** ([contact](mailto:hcarte10@gmail.com)) | Variation (genetic, inherited, somatic variation.) | | | |\n",
    "|       | 3/8/16 | Hannah Carter | Variation (genetic, inherited, somatic variation.) | |\n",
    "| **10** | 3/13/16 | **Nicholas Schork** ([contact](mailto:nschork@ucsd.edu)) | Modern Applied Population Genetics. Admixture Mapping. | | | |\n",
    "|       | 3/15/16 | Nicholas Schork ([contact](mailto:ondrej@mdrevolution.com)) | Python and PLINK | | | |"
   ]
  },
  {
   "cell_type": "markdown",
   "metadata": {},
   "source": [
    "\n",
    "\n",
    "## Take Home Exams\n",
    "\n",
    "**Midterm:** TBA\n",
    "**Final Exam:** TBA"
   ]
  },
  {
   "cell_type": "code",
   "execution_count": null,
   "metadata": {
    "collapsed": true
   },
   "outputs": [],
   "source": []
  }
 ],
 "metadata": {
  "kernelspec": {
   "display_name": "Python [Root]",
   "language": "python",
   "name": "Python [Root]"
  },
  "language_info": {
   "codemirror_mode": {
    "name": "ipython",
    "version": 2
   },
   "file_extension": ".py",
   "mimetype": "text/x-python",
   "name": "python",
   "nbconvert_exporter": "python",
   "pygments_lexer": "ipython2",
   "version": "2.7.12"
  }
 },
 "nbformat": 4,
 "nbformat_minor": 1
}
