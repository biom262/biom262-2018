{
 "cells": [
  {
   "cell_type": "markdown",
   "metadata": {},
   "source": [
    "# CMM262 midterm exam:"
   ]
  },
  {
   "cell_type": "markdown",
   "metadata": {},
   "source": [
    "Files required, all are located in this directory: \n",
    "\n",
    "    /oasis/tscc/scratch/biom200/cmm262/single_cell/raw_data/\n",
    "    \n",
    "Metadata with cellID, batch number, and cell assignment from paper: \n",
    "\n",
    "    cell_names_batch_and_celltype.csv\n",
    "    \n",
    "Batch1 and 7 counts data:\n",
    "\n",
    "    raw_counts_batches1_and7.csv"
   ]
  },
  {
   "cell_type": "markdown",
   "metadata": {},
   "source": [
    "**Formatting instructions**\n",
    "\n",
    "Title your notebook: lastname_firstname_single_cell\n",
    "\n",
    "DO EVERYTHING IN JUPYTER. Toggle between markdown and code cell types in your notebook to write your code and the answers to corresponding quetsions. You can also use headings to split your notebook up and make it easy to read. \n",
    "\n",
    "When you are finished, change permissions on your notebook to give me permissions to make a copy. \n",
    "\n",
    "    chmod 777 /full/path/to/notebook/lastname_firstname_single_cell.ipynb\n",
    "    \n",
    "Send me an email with the full path of where your notebook is located. (ecwheele@ucsd.edu) I will make a copy at that time and grade that copy. I will respond to let you know your exam has been received. "
   ]
  },
  {
   "cell_type": "markdown",
   "metadata": {},
   "source": [
    "# Assignment "
   ]
  },
  {
   "cell_type": "markdown",
   "metadata": {},
   "source": [
    "**1) Data filtering**\n",
    "\n",
    "Load the counts matrix (batches 1 and 7) and filter out genes that are not expressed in the data. What filtering cutoffs did you choose? Make a plot summarizing the number of genes and UMIs detected per cell (2 plots total). Give a 1-2 sentence interpretation of each plot, and make sure your axes are labeled (you can make a new cell in jupyter below your plot and change the type to markdown to write your interpretation for the plot directly in the notebook). "
   ]
  },
  {
   "cell_type": "markdown",
   "metadata": {},
   "source": [
    "**2) Find Variable Genes**\n",
    "\n",
    "We did not properly scale the variance in class as was done in the paper. __The squared coefficient of variation is actually the (standard deviation / mean ) ^ 2__. Correct the code we used and class and find the most variable genes in your dataset. Note that we used .var to calculate variance, you can use .std to calculate standard deviation. Make a plot labeling the highly variable genes in a different color (make sure to properly label your axes and give the plot a title). What cutoff did you use for the difference between the expected and calculated value to determine variable genes? Subset your full counts matrix for these variable genes. How many genes did you keep for clustering? Does this number seem reasonable to you? "
   ]
  },
  {
   "cell_type": "markdown",
   "metadata": {},
   "source": [
    "**3) Clustering**\n",
    "\n",
    "What is the difference between k-means and KNN clustering? Briefly explain how each one works to generate clusters. Which one are we using with phenograph? Why? (No code required to answer this question)"
   ]
  },
  {
   "cell_type": "markdown",
   "metadata": {},
   "source": [
    "**4) How does k affect the number of clusters and number of cells assigned per cluster?**\n",
    "\n",
    "Try three different values of k. Explain why you chose those values. How many clusters were found for each value of k and how many cells were there in each cluster? What does this tell you about how you can vary the value for k? How does your choice of k affect the Q value and how do you interpret that in terms of how well the clustering worked? \n"
   ]
  },
  {
   "cell_type": "markdown",
   "metadata": {},
   "source": [
    "**5) Generate t-SNE**\n",
    "\n",
    "Perform the clustering and briefly describe the steps you used (after selecting variable genes). What dimensionality reduction did you use and when? How did you choose any cutoffs along the way? Make 2 t-SNE plots, one that is colored by batch and one that is colored by cluster assignment from your favorite phenograph run (one of the 3 k values you tried). Hint: to color by batch, load the metadata file with the cellID as the index of the dataframe. Then use this to join the batch assignment onto the dataframe that you made with the x, y coordinates of the tSNE output:\n",
    "\n",
    "    df_tsne_counts = df_tsne_counts.join(metadata['batch'])\n",
    "    \n",
    "What do you notice? Write a 1-2 sentence interpretation of the result."
   ]
  }
 ],
 "metadata": {
  "kernelspec": {
   "display_name": "Python 3 (cmm262)",
   "language": "python",
   "name": "python3"
  },
  "language_info": {
   "codemirror_mode": {
    "name": "ipython",
    "version": 3
   },
   "file_extension": ".py",
   "mimetype": "text/x-python",
   "name": "python",
   "nbconvert_exporter": "python",
   "pygments_lexer": "ipython3",
   "version": "3.6.1"
  }
 },
 "nbformat": 4,
 "nbformat_minor": 1
}
