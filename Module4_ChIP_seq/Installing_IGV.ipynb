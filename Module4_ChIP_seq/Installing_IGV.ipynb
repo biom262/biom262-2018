{
 "cells": [
  {
   "cell_type": "markdown",
   "metadata": {},
   "source": [
    "# Installing IGV (Integrative Genomics Viewer)"
   ]
  },
  {
   "cell_type": "markdown",
   "metadata": {},
   "source": [
    "1: Navigate to the IGV [download page](https://software.broadinstitute.org/software/igv/download) and either chose download steps 1. or 2., depending if you're a Mac or Windows user (we want to have a local version)."
   ]
  },
  {
   "cell_type": "markdown",
   "metadata": {},
   "source": [
    "2: The download might take a few minutes so be patient"
   ]
  },
  {
   "cell_type": "markdown",
   "metadata": {},
   "source": [
    "3: Unzip IGV and place it in a meaningful location (can be a CMM262 class folder but I recommend moving it to a more meaningful/accessible location)"
   ]
  },
  {
   "cell_type": "markdown",
   "metadata": {},
   "source": [
    "4: Double click on the IGV executable (labelled 'igv'). In Windows the type of file is called a batch file."
   ]
  },
  {
   "cell_type": "markdown",
   "metadata": {},
   "source": [
    "5: Be patient once more. It migth take 30 seconds or more for IGV to launch. You should be seeing an empty IGV screen and in the top-left corner you should see that 'Human gh19' is selected as default genome. "
   ]
  },
  {
   "attachments": {},
   "cell_type": "markdown",
   "metadata": {},
   "source": []
  }
 ],
 "metadata": {
  "kernelspec": {
   "display_name": "Python 2",
   "language": "python",
   "name": "python2"
  },
  "language_info": {
   "codemirror_mode": {
    "name": "ipython",
    "version": 2
   },
   "file_extension": ".py",
   "mimetype": "text/x-python",
   "name": "python",
   "nbconvert_exporter": "python",
   "pygments_lexer": "ipython2",
   "version": "2.7.13"
  }
 },
 "nbformat": 4,
 "nbformat_minor": 2
}
