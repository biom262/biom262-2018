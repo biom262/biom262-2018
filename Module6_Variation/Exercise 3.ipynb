{
 "cells": [
  {
   "cell_type": "code",
   "execution_count": null,
   "metadata": {
    "collapsed": true
   },
   "outputs": [],
   "source": [
    "# Random Networks with iGraph"
   ]
  },
  {
   "cell_type": "code",
   "execution_count": null,
   "metadata": {
    "collapsed": true
   },
   "outputs": [],
   "source": [
    "# Load relevant libraries\n",
    "# Extensive documentation for iGraph here: http://igraph.org/r/doc/\n",
    "suppressMessages(library(igraph))"
   ]
  },
  {
   "cell_type": "code",
   "execution_count": null,
   "metadata": {},
   "outputs": [],
   "source": [
    "#igraph has a function for generating random networks of varying size and connectance (i.e. density). \n",
    "graph.random.gnp<-erdos.renyi.game(n=20,p.or.m=.5,type=\"gnp\",directed=T)\n",
    "plot.igraph(graph.random.gnp)\n",
    " \n",
    "# We can also change the layout of the graph, here we will plot the nodes in a circle\n",
    "plot.igraph(graph.random.gnp,layout=layout.circle)"
   ]
  },
  {
   "cell_type": "code",
   "execution_count": null,
   "metadata": {},
   "outputs": [],
   "source": [
    "# The above random directed graph has 20 nodes (\"n\")\n",
    "# type='gnp' tells the function to assign links with the probability \"p\" that we sepecify \n",
    "# In this case, any two nodes have a 50% probability of being connected.\n",
    "\n",
    "# Can also set the number of links in the system to a value \"m\"\n",
    "graph.random.gnm<-erdos.renyi.game(n=20,p.or.m=100,type=\"gnm\",directed=T)\n",
    "plot.igraph(graph.random.gnm)"
   ]
  },
  {
   "cell_type": "code",
   "execution_count": null,
   "metadata": {},
   "outputs": [],
   "source": [
    "# Random graphs with preferential connection\n",
    "# Because real world graphs tend to be scale-free, we may prefer to \n",
    "# generate random graphs with similar properties\n",
    "\n",
    "# In igraph we can use the barabasi.game() function:\n",
    "graph.barabasi.1<-barabasi.game(n=50,power=1)\n",
    "\n",
    "plot.igraph(graph.barabasi.1,\n",
    "layout=layout.fruchterman.reingold,\n",
    "vertex.size=10,         # sets size of the vertex, default is 15\n",
    "vertex.label.cex=.5,    # size of the vertex label\n",
    "edge.arrow.size=.5        # sets size of the arrow at the end of the edge\n",
    ")\n",
    "\n",
    "# Relative to Erdos-Renyi random netowrks, we observe the emergence of hub nodes\n"
   ]
  },
  {
   "cell_type": "code",
   "execution_count": null,
   "metadata": {},
   "outputs": [],
   "source": [
    "# Side Note: You can highlight regions of a graph manually by specifying \n",
    "# lists of nodes and colors\n",
    "plot.igraph(graph.barabasi.1,\n",
    "layout=layout.fruchterman.reingold,\n",
    "vertex.size=10,\n",
    "vertex.label.cex=.5,\n",
    "edge.arrow.size=.5,\n",
    "mark.groups=list(c(1,7,4,13,10,16,15,41,42,29),\n",
    "c(2,48,5,36,43,33,9)), # draws polygon around nodes\n",
    "mark.col=c(\"green\",\"blue\"))"
   ]
  },
  {
   "cell_type": "code",
   "execution_count": null,
   "metadata": {},
   "outputs": [],
   "source": [
    "# Reminder of what communities looked like in this network\n",
    "barabasi.community<-walktrap.community(graph.barabasi.1)\n",
    "plot(barabasi.community, graph.barabasi.1)"
   ]
  },
  {
   "cell_type": "code",
   "execution_count": null,
   "metadata": {},
   "outputs": [],
   "source": [
    "# Now we will play around with the \"power\" argument to see how that impacts the graphs.\n",
    "# We will generate 4 networks with preferential attachment at varying levels.\n",
    "# A power of 1 corresponds to a linear probability of attachement w.r.t. node degree\n",
    "barabasi.game.2<-barabasi.game(n=50,power=.75)\n",
    "barabasi.game.3<-barabasi.game(n=50,power=.5)\n",
    "barabasi.game.4<-barabasi.game(n=50,power=.25)\n",
    "barabasi.game.5<-barabasi.game(n=50,power=0)\n",
    " \n",
    "# These can be organized into a list for convenience.\n",
    "barabasi.graphs<-list(barabasi.game.2,barabasi.game.3,barabasi.game.4,barabasi.game.5)\n",
    " \n",
    "# Now lets use community detection, this time with the walktrap algorithm.\n",
    "bg.community.list<-lapply(barabasi.graphs,walktrap.community)\n",
    "bg.membership.list<-lapply(bg.community.list,membership)\n",
    " \n",
    "txt<-c(\"a\",\"b\",\"c\",\"d\")    # vector for labeling the graphs\n",
    " \n",
    "# Plot these four graphs in one window with:\n",
    "par(mfrow=c(2,2),mar=c(.2,.2,.2,.2))\n",
    "# The for loop here plots each graph in the list one by one into the window prepared by par.\n",
    "for(i in 1:4){\n",
    "plot(bg.community.list[[i]],barabasi.graphs[[i]])\n",
    "}"
   ]
  },
  {
   "cell_type": "code",
   "execution_count": null,
   "metadata": {
    "collapsed": true
   },
   "outputs": [],
   "source": [
    "deg.distr.2<-degree.distribution(barabasi.game.2,cumulative=T,mode=\"all\")\n",
    "power.2<-power.law.fit(degree(barabasi.game.2,v=V(barabasi.game.2),mode=\"all\"))\n",
    "deg.distr.3<-degree.distribution(barabasi.game.3,cumulative=T,mode=\"all\")\n",
    "power.3<-power.law.fit(degree(barabasi.game.3,v=V(barabasi.game.3),mode=\"all\"))\n",
    "deg.distr.4<-degree.distribution(barabasi.game.4,cumulative=T,mode=\"all\")\n",
    "power.4<-power.law.fit(degree(barabasi.game.4,v=V(barabasi.game.4),mode=\"all\"))\n",
    "deg.distr.5<-degree.distribution(barabasi.game.5,cumulative=T,mode=\"all\")\n",
    "power.5<-power.law.fit(degree(barabasi.game.5,v=V(barabasi.game.5),mode=\"all\"))\n"
   ]
  },
  {
   "cell_type": "code",
   "execution_count": null,
   "metadata": {},
   "outputs": [],
   "source": [
    "par(mfrow=c(2,2))\n",
    "plot(deg.distr.2,log=\"xy\",\n",
    "ylim=c(.01,10),\n",
    "bg=\"black\",pch=21,\n",
    "xlab=\"Degree\",\n",
    "ylab=\"Cumulative Frequency\")\n",
    "lines(1:20,10*(1:20)^((-power.2$alpha)+1),col=\"blue\")\n",
    "\n",
    "plot(deg.distr.3,log=\"xy\",\n",
    "ylim=c(.01,10),\n",
    "bg=\"black\",pch=21,\n",
    "xlab=\"Degree\",\n",
    "ylab=\"Cumulative Frequency\")\n",
    "lines(1:20,10*(1:20)^((-power.3$alpha)+1),col=\"blue\")\n",
    "\n",
    "plot(deg.distr.4,log=\"xy\",\n",
    "ylim=c(.01,10),\n",
    "bg=\"black\",pch=21,\n",
    "xlab=\"Degree\",\n",
    "ylab=\"Cumulative Frequency\")\n",
    "lines(1:20,10*(1:20)^((-power.4$alpha)+1),col=\"blue\")\n",
    "\n",
    "plot(deg.distr.5,log=\"xy\",\n",
    "ylim=c(.01,10),\n",
    "bg=\"black\",pch=21,\n",
    "xlab=\"Degree\",\n",
    "ylab=\"Cumulative Frequency\")\n",
    "lines(1:20,10*(1:20)^((-power.5$alpha)+1),col=\"blue\")\n",
    "\n",
    "par(mfrow=c(2,2))\n",
    "hist(degree(barabasi.game.2,v=V(barabasi.game.2),mode=\"all\"))\n",
    "lines(1:20,10*(1:20)^((-power.2$alpha)+1),col=\"blue\")\n",
    "hist(degree(barabasi.game.3,v=V(barabasi.game.3),mode=\"all\"))\n",
    "lines(1:20,10*(1:20)^((-power.3$alpha)+1),col=\"blue\")\n",
    "hist(degree(barabasi.game.4,v=V(barabasi.game.4),mode=\"all\"))\n",
    "lines(1:20,10*(1:20)^((-power.4$alpha)+1),col=\"blue\")\n",
    "hist(degree(barabasi.game.5,v=V(barabasi.game.5),mode=\"all\"))\n",
    "lines(1:20,10*(1:20)^((-power.5$alpha)+1),col=\"blue\")\n"
   ]
  },
  {
   "cell_type": "code",
   "execution_count": null,
   "metadata": {},
   "outputs": [],
   "source": [
    "# Randomization for networks\n",
    "\n",
    "# Permute vertices\n",
    "g <- sample_gnm(20, 50)\n",
    "g2 <- permute(g, sample(vcount(g))) # second parameter is a new vertex order\n",
    "graph.isomorphic(g, g2) \n",
    "\n",
    "par(mfrow=c(1,2))\n",
    "plot(g,layout=layout.fruchterman.reingold,\n",
    "vertex.size=10,\n",
    "vertex.label.cex=.5,\n",
    "edge.arrow.size=.5)\n",
    "plot(g2,layout=layout.fruchterman.reingold,\n",
    "vertex.size=10,\n",
    "vertex.label.cex=.5,\n",
    "edge.arrow.size=.5)\n"
   ]
  },
  {
   "cell_type": "code",
   "execution_count": null,
   "metadata": {},
   "outputs": [],
   "source": [
    "# Permute edges\n",
    "\n",
    "# One strategy would be to shuffle the adjacency matrix\n",
    "# Considerations would include whether edges are directed\n",
    "# or the graph has self-loops\n",
    "\n",
    "# Alternatively, iGraph provides the 'rewire' command instead\n",
    "g <- make_ring(10)\n",
    "g2 <- rewire(g, each_edge(p=0.3, loops=F))\n",
    "par(mfrow=c(1,2))\n",
    "plot(g)\n",
    "plot(g2)"
   ]
  },
  {
   "cell_type": "code",
   "execution_count": null,
   "metadata": {
    "collapsed": true
   },
   "outputs": [],
   "source": [
    "# Degree preserving permutation\n",
    "\n",
    "# How would you change the above command to force all vertices to retain \n",
    "# the same number of edges? \n",
    "?rewire"
   ]
  },
  {
   "cell_type": "code",
   "execution_count": null,
   "metadata": {
    "collapsed": true
   },
   "outputs": [],
   "source": [
    "?keeping_degseq"
   ]
  },
  {
   "cell_type": "code",
   "execution_count": null,
   "metadata": {},
   "outputs": [],
   "source": [
    "g3 <- rewire(g, keeping_degseq(loops=F, niter=5))\n",
    "par(mfrow=c(1,2))\n",
    "plot(g)\n",
    "plot(g3)"
   ]
  }
 ],
 "metadata": {
  "kernelspec": {
   "display_name": "R",
   "language": "R",
   "name": "ir"
  },
  "language_info": {
   "codemirror_mode": "r",
   "file_extension": ".r",
   "mimetype": "text/x-r-source",
   "name": "R",
   "pygments_lexer": "r",
   "version": "3.4.2"
  }
 },
 "nbformat": 4,
 "nbformat_minor": 2
}
