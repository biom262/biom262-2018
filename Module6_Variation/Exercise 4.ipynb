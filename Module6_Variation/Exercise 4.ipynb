{
 "cells": [
  {
   "cell_type": "code",
   "execution_count": null,
   "metadata": {
    "collapsed": true
   },
   "outputs": [],
   "source": [
    "# Motif finding with iGraph"
   ]
  },
  {
   "cell_type": "code",
   "execution_count": null,
   "metadata": {
    "collapsed": true
   },
   "outputs": [],
   "source": [
    "# Load relevant libraries\n",
    "# Extensive documentation for iGraph here: http://igraph.org/r/doc/\n",
    "suppressMessages(library(igraph))"
   ]
  },
  {
   "cell_type": "code",
   "execution_count": null,
   "metadata": {},
   "outputs": [],
   "source": [
    "# Generate a graph \n",
    "test.graph<-barabasi.game(100,power=0.5,m=2)\n",
    "plot(test.graph,\n",
    "layout=layout.fruchterman.reingold,\n",
    "vertex.size=10,         \n",
    "vertex.label.cex=.5,    \n",
    "edge.arrow.size=.5)"
   ]
  },
  {
   "cell_type": "code",
   "execution_count": null,
   "metadata": {},
   "outputs": [],
   "source": [
    "# Every graph can be decomposed into its component n-node subgraphs.\n",
    "# In particular there are 13 unique ways to arrange 3 nodes in directed graphs.\n",
    "# Here are the adjacency matrices for each of the 13 connected subgraphs\n",
    "s1<-matrix(c(0,1,0,0,0,1,0,0,0),nrow=3,ncol=3)\n",
    "s2<-matrix(c(0,1,1,0,0,1,0,0,0),nrow=3,ncol=3)\n",
    "s3<-matrix(c(0,1,0,0,0,1,1,0,0),nrow=3,ncol=3)\n",
    "s4<-matrix(c(0,0,1,0,0,1,0,0,0),nrow=3,ncol=3)\n",
    "s5<-matrix(c(0,1,1,0,0,0,0,0,0),nrow=3,ncol=3)\n",
    "d1<-matrix(c(0,1,1,0,0,1,0,1,0),nrow=3,ncol=3)\n",
    "d2<-matrix(c(0,1,1,1,0,1,0,0,0),nrow=3,ncol=3)\n",
    "d3<-matrix(c(0,0,1,1,0,0,1,0,0),nrow=3,ncol=3)\n",
    "d4<-matrix(c(0,0,0,1,0,1,0,1,0),nrow=3,ncol=3)\n",
    "d5<-matrix(c(0,1,1,0,0,1,1,0,0),nrow=3,ncol=3)\n",
    "d6<-matrix(c(0,1,1,1,0,1,1,1,0),nrow=3,ncol=3)\n",
    "d7<-matrix(c(0,1,1,1,0,1,1,0,0),nrow=3,ncol=3)\n",
    "d8<-matrix(c(0,1,1,1,0,0,1,0,0),nrow=3,ncol=3)\n",
    " \n",
    "# Make the 13 matrices into a list\n",
    "subgraph3.mat<-list(s1,s2,s3,s4,s5,d1,d2,d3,d4,d5,d6,d7,d8)\n",
    "# And convert the matrices into graph objects\n",
    "subgraph3.graph<-lapply(subgraph3.mat,graph.adjacency)\n",
    "\n",
    "# Here's what they look like\n",
    "par(mar=c(0,0,0,0),mfrow=c(5,3))\n",
    "plot.igraph(subgraph3.graph[[1]])\n",
    "plot.igraph(subgraph3.graph[[2]])\n",
    "plot.igraph(subgraph3.graph[[3]])\n",
    "plot.igraph(subgraph3.graph[[4]])\n",
    "plot.igraph(subgraph3.graph[[5]])\n",
    "plot.igraph(subgraph3.graph[[6]])\n",
    "plot.igraph(subgraph3.graph[[7]])\n",
    "plot.igraph(subgraph3.graph[[8]])\n",
    "plot.igraph(subgraph3.graph[[9]])\n",
    "plot.igraph(subgraph3.graph[[10]])\n",
    "plot.igraph(subgraph3.graph[[11]])\n",
    "plot.igraph(subgraph3.graph[[12]])\n",
    "plot.igraph(subgraph3.graph[[13]])"
   ]
  },
  {
   "cell_type": "code",
   "execution_count": null,
   "metadata": {},
   "outputs": [],
   "source": [
    "# Loop through the list of subgraphs and count how many times that subgraph appears in the larger test.graph\n",
    "subgraph.count<-c()\n",
    "for(i in 1:13){\n",
    "subgraph.count[i]<- graph.count.subisomorphisms.vf2(test.graph,subgraph3.graph[[i]],vertex.color1=NULL,vertex.color2=NULL,edge.color1=NULL,edge.color2=NULL)\n",
    "}\n",
    "subgraph.count\n",
    "\n",
    "# Note by default, barabasi.game does not create single edges with 2 arrows\n",
    "# so any isomorphisms with a double arrow should have a count of 0"
   ]
  },
  {
   "cell_type": "code",
   "execution_count": null,
   "metadata": {},
   "outputs": [],
   "source": [
    "# If unconnected solutions are allowed, there are 16 was to create\n",
    "# a 3 node directed graph\n",
    "par(mar=c(0,0,0,0),mfrow=c(4,4))\n",
    "plot.igraph(graph.isocreate(size=3,0,directed=T),edge.arrow.size=.2)\n",
    "plot.igraph(graph.isocreate(size=3,1,directed=T),edge.arrow.size=.2)\n",
    "plot.igraph(graph.isocreate(size=3,2,directed=T),edge.arrow.size=.2)\n",
    "plot.igraph(graph.isocreate(size=3,3,directed=T),edge.arrow.size=.2)\n",
    "plot.igraph(graph.isocreate(size=3,4,directed=T),edge.arrow.size=.2)\n",
    "plot.igraph(graph.isocreate(size=3,5,directed=T),edge.arrow.size=.2)\n",
    "plot.igraph(graph.isocreate(size=3,6,directed=T),edge.arrow.size=.2)\n",
    "plot.igraph(graph.isocreate(size=3,7,directed=T),edge.arrow.size=.2)\n",
    "plot.igraph(graph.isocreate(size=3,8,directed=T),edge.arrow.size=.2)\n",
    "plot.igraph(graph.isocreate(size=3,9,directed=T),edge.arrow.size=.2)\n",
    "plot.igraph(graph.isocreate(size=3,10,directed=T),edge.arrow.size=.2)\n",
    "plot.igraph(graph.isocreate(size=3,11,directed=T),edge.arrow.size=.2)\n",
    "plot.igraph(graph.isocreate(size=3,12,directed=T),edge.arrow.size=.2)\n",
    "plot.igraph(graph.isocreate(size=3,13,directed=T),edge.arrow.size=.2)\n",
    "plot.igraph(graph.isocreate(size=3,14,directed=T),edge.arrow.size=.2)\n",
    "plot.igraph(graph.isocreate(size=3,15,directed=T),edge.arrow.size=.2)"
   ]
  },
  {
   "cell_type": "code",
   "execution_count": null,
   "metadata": {
    "scrolled": true
   },
   "outputs": [],
   "source": [
    "# Compare the count_subgraph_isomorphisms function to the motifs function\n",
    "motifs(test.graph,3)\n",
    "\n",
    "subgraph.count<-c()\n",
    "for(i in 1:16){\n",
    "subgraph.count[i]<- count_subgraph_isomorphisms(graph.isocreate(size=3,i-1,directed=T),test.graph,method=\"VF2\")\n",
    "}\n",
    "subgraph.count\n",
    "# Note that the counts are significantly different!!"
   ]
  },
  {
   "cell_type": "code",
   "execution_count": null,
   "metadata": {},
   "outputs": [],
   "source": [
    "# What are these two functions doing differently? \n",
    "# Lets look at a simple example\n",
    "g <- graph.formula(1+-+2,1+-+3,2+-+3)\n",
    "plot(g)\n",
    "motifs(g,3)\n",
    "\n",
    "for(i in 1:16){\n",
    "subgraph.count[i]<- count_subgraph_isomorphisms(graph.isocreate(size=3,i-1,directed=T),g,method=\"VF2\")\n",
    "}\n",
    "subgraph.count\n",
    "\n",
    "# Explanation: count_subgraph_isomorphisms considers all possible\n",
    "# permutations of node order as different matches, whereas motifs\n",
    "# will only count them once. In addition, count_subgraph_isomorphisms\n",
    "# counts all the ways in which the nodes can be ordered ignoring\n",
    "# the edges for the disconnected subisomorphims categories"
   ]
  },
  {
   "cell_type": "code",
   "execution_count": null,
   "metadata": {},
   "outputs": [],
   "source": [
    "# count_subgraph_isomorphisms behavior for a disconnected isomorphism\n",
    "gs <- graph.isocreate(size=3,0,directed=T)\n",
    "par(mfrow=c(1,2))\n",
    "plot(g)\n",
    "plot(gs)\n",
    "subgraph.count<-c()\n",
    "count_subgraph_isomorphisms(gs,g,method=\"VF2\")"
   ]
  },
  {
   "cell_type": "code",
   "execution_count": null,
   "metadata": {},
   "outputs": [],
   "source": [
    "# Compare count_subgraph_isomorphisms on a complete directed\n",
    "# graph versus an incomplete directed graph\n",
    "g1 <- graph.formula(1+-+2,1+-+3,2+-+3,2+-+4,3+-+4,1+-+4)\n",
    "g2 <- graph.formula(1+-2,1+-+3,2+-+3,2-+4,3+-+4,1+-+4)\n",
    "\n",
    "par(mfrow=c(1,2))\n",
    "plot(g1)\n",
    "plot(g2)\n",
    "\n",
    "subgraph.count1 <- c()\n",
    "subgraph.count2 <- c()\n",
    "for(i in 1:16){\n",
    "subgraph.count1[i]<- count_subgraph_isomorphisms(graph.isocreate(size=3,i-1,directed=T),g1,method=\"VF2\")\n",
    "subgraph.count2[i]<- count_subgraph_isomorphisms(graph.isocreate(size=3,i-1,directed=T),g2,method=\"VF2\")\n",
    "}\n",
    "subgraph.count1\n",
    "subgraph.count2"
   ]
  },
  {
   "cell_type": "code",
   "execution_count": null,
   "metadata": {},
   "outputs": [],
   "source": [
    "# For the undirected case\n",
    "g <- graph.formula(1-2,1-3,2-3,2-4,3-4,1-4)\n",
    "plot(g)\n",
    "\n",
    "subgraph.count <- c()\n",
    "for(i in 1:4){\n",
    "subgraph.count[i]<- count_subgraph_isomorphisms(graph.isocreate(size=3,i-1,directed=F),g,method=\"VF2\")\n",
    "}\n",
    "subgraph.count\n",
    "\n",
    "motifs(g,3)\n",
    "\n",
    "par(mfrow=c(2,2))\n",
    "plot(graph.isocreate(size=3,0,directed=F))\n",
    "plot(graph.isocreate(size=3,1,directed=F))\n",
    "plot(graph.isocreate(size=3,2,directed=F))\n",
    "plot(graph.isocreate(size=3,3,directed=F))"
   ]
  },
  {
   "cell_type": "code",
   "execution_count": null,
   "metadata": {
    "collapsed": true
   },
   "outputs": [],
   "source": []
  }
 ],
 "metadata": {
  "kernelspec": {
   "display_name": "R",
   "language": "R",
   "name": "ir"
  },
  "language_info": {
   "codemirror_mode": "r",
   "file_extension": ".r",
   "mimetype": "text/x-r-source",
   "name": "R",
   "pygments_lexer": "r",
   "version": "3.4.2"
  }
 },
 "nbformat": 4,
 "nbformat_minor": 2
}
