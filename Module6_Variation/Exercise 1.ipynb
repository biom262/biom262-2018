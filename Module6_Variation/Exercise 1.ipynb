{
 "cells": [
  {
   "cell_type": "code",
   "execution_count": null,
   "metadata": {
    "collapsed": true
   },
   "outputs": [],
   "source": [
    "# Exercise 1: Creating Networks from Data"
   ]
  },
  {
   "cell_type": "code",
   "execution_count": null,
   "metadata": {},
   "outputs": [],
   "source": [
    "# Load relevant libraries\n",
    "# Extensive documentation for iGraph here: http://igraph.org/r/doc/\n",
    "library(igraph)"
   ]
  },
  {
   "cell_type": "code",
   "execution_count": null,
   "metadata": {},
   "outputs": [],
   "source": [
    "# Build a network using basic formulas:\n",
    "graph.onelinkUnD <- graph.formula(A-B)\n",
    "graph.onelinkD <- graph.formula(A-+B) \n",
    "# With this function the (+) sign signifies the \"arrowhead\".\n",
    "\n",
    "# This gives us a two node network with one edge. \n",
    "par(mfrow=c(1,2)) # This is a plotting command that says to plot in a\n",
    "                  # 1 row, 2 column grid so we can view plots side by side\n",
    "plot.igraph(graph.onelinkUnD)\n",
    "plot.igraph(graph.onelinkD)"
   ]
  },
  {
   "cell_type": "code",
   "execution_count": null,
   "metadata": {},
   "outputs": [],
   "source": [
    "# Using graph.formula() you have to write out all edges explicitly\n",
    "graph.fournode<-graph.formula(A-+C,B-+C,C-+D)\n",
    "plot.igraph(graph.fournode)"
   ]
  },
  {
   "cell_type": "code",
   "execution_count": null,
   "metadata": {
    "collapsed": true
   },
   "outputs": [],
   "source": [
    "# Can you plot the 6 node network from the lecture?"
   ]
  },
  {
   "cell_type": "code",
   "execution_count": null,
   "metadata": {},
   "outputs": [],
   "source": [
    "graph.sixnode<-graph.formula(1-1,1-2,1-5,2-5,2-3,3-4,5-4,4-6)\n",
    "plot.igraph(graph.sixnode) # No self loop?"
   ]
  },
  {
   "cell_type": "code",
   "execution_count": null,
   "metadata": {},
   "outputs": [],
   "source": [
    "# Check the adjacency matrix\n",
    "gsixadj<-get.adjacency(graph.sixnode)\n",
    "gsixadj"
   ]
  },
  {
   "cell_type": "code",
   "execution_count": null,
   "metadata": {},
   "outputs": [],
   "source": [
    "gsixadj[1,1] <- 1\n",
    "gsixadj\n",
    "plot.igraph(graph.adjacency(gsixadj))"
   ]
  },
  {
   "cell_type": "code",
   "execution_count": null,
   "metadata": {},
   "outputs": [],
   "source": [
    "# Wait! Now its directed? Check the documentation to see defaults\n",
    "plot.igraph(graph.adjacency(gsixadj,mode=c(\"undirected\")))"
   ]
  },
  {
   "cell_type": "code",
   "execution_count": null,
   "metadata": {},
   "outputs": [],
   "source": [
    "# How about the bipartite network? \n",
    "# First we need to create the corresponding incidence matrix\n",
    "m <- rbind(c(1,0,1),c(1,1,0),c(0,0,1))\n",
    "m <- as.matrix(m)\n",
    "rownames(m) <- c(\"1\",\"2\",\"3\")\n",
    "colnames(m) <- c(\"A\",\"B\",\"C\")\n",
    "m"
   ]
  },
  {
   "cell_type": "code",
   "execution_count": null,
   "metadata": {},
   "outputs": [],
   "source": [
    "# Now create a graph from the incidence matrix\n",
    "# and plot the graph using \"layout=layout_as_bipartite\"\n",
    "g <- graph_from_incidence_matrix(m)\n",
    "plot(g, layout = layout_as_bipartite,\n",
    "     vertex.color=c(\"green\",\"cyan\")[V(g)$type+1])"
   ]
  },
  {
   "cell_type": "code",
   "execution_count": null,
   "metadata": {},
   "outputs": [],
   "source": [
    "# What happens if we use our adjacency matrix from the first graph as \n",
    "# an incidence matrix for an undirected graph?\n",
    "bipartite <- graph_from_incidence_matrix(gsixadj)\n",
    "plot.igraph(bipartite)"
   ]
  },
  {
   "cell_type": "code",
   "execution_count": null,
   "metadata": {},
   "outputs": [],
   "source": [
    "# Creating networks manually is not practical\n",
    "# Better to load them from a file\n",
    "sdata <- read.table(file=\"SimpleNet.tsv\",h=T)\n",
    "head(sdata)"
   ]
  },
  {
   "cell_type": "code",
   "execution_count": null,
   "metadata": {},
   "outputs": [],
   "source": [
    "g <- graph.data.frame(sdata, directed=F)\n",
    "plot.igraph(g)"
   ]
  },
  {
   "cell_type": "code",
   "execution_count": null,
   "metadata": {},
   "outputs": [],
   "source": [
    "sbdata <- read.table(file=\"SimpleBipartite.tsv\",h=T)\n",
    "head(sbdata)"
   ]
  },
  {
   "cell_type": "code",
   "execution_count": null,
   "metadata": {},
   "outputs": [],
   "source": [
    "# Create a bipartite graph from an edge list instead of an incidence matrix\n",
    "g <- graph.data.frame(sbdata, directed = F)\n",
    "V(g)$type <- V(g)$name %in% sbdata[,2]\n",
    "g"
   ]
  },
  {
   "cell_type": "code",
   "execution_count": null,
   "metadata": {},
   "outputs": [],
   "source": [
    "# Plotting bipartite graphs\n",
    "plot.igraph(g)\n",
    "plot.igraph(g, layout = layout_as_bipartite,\n",
    "     vertex.color=c(\"green\",\"cyan\")[V(g)$type+1])"
   ]
  }
 ],
 "metadata": {
  "kernelspec": {
   "display_name": "R",
   "language": "R",
   "name": "ir"
  },
  "language_info": {
   "codemirror_mode": "r",
   "file_extension": ".r",
   "mimetype": "text/x-r-source",
   "name": "R",
   "pygments_lexer": "r",
   "version": "3.4.2"
  }
 },
 "nbformat": 4,
 "nbformat_minor": 2
}
