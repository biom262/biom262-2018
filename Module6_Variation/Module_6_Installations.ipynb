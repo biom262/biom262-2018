{
 "cells": [
  {
   "cell_type": "markdown",
   "metadata": {},
   "source": [
    "# Module 6 Installations"
   ]
  },
  {
   "cell_type": "markdown",
   "metadata": {},
   "source": [
    "Both the R version of 'igraph' and 'NetIndices' have to be installed. 'igraph' is already within conda and can be obtained as described below"
   ]
  },
  {
   "cell_type": "code",
   "execution_count": null,
   "metadata": {
    "collapsed": true
   },
   "outputs": [],
   "source": [
    "%%bash\n",
    "\n",
    "conda install -c r r-igraph"
   ]
  },
  {
   "cell_type": "markdown",
   "metadata": {},
   "source": [
    "To get 'NetIndices' we need to install it from on of the CRAN repositories. Specifyin the RStudio repo worked for me but let me know in case you have issues with getting it."
   ]
  },
  {
   "cell_type": "code",
   "execution_count": null,
   "metadata": {
    "collapsed": true
   },
   "outputs": [],
   "source": [
    "%%R\n",
    "\n",
    "# start an R session\n",
    "\n",
    "install.packages(\"NetIndices\", dependencies=TRUE, repos='http://cran.rstudio.com/')"
   ]
  },
  {
   "cell_type": "markdown",
   "metadata": {},
   "source": [
    "We also want youto install [Cytoscape](http://www.cytoscape.org/download-platforms.html). Please chose the appropriate version for your device. This will require you to install [Java](http://www.oracle.com/technetwork/java/javase/downloads/jre8-downloads-2133155.html) too in case you don't already have it. There is a chance that even after installing Java an error shows up when trying to install Cytoscape. We're currently working on figuring it out"
   ]
  },
  {
   "cell_type": "code",
   "execution_count": null,
   "metadata": {
    "collapsed": true
   },
   "outputs": [],
   "source": []
  }
 ],
 "metadata": {
  "kernelspec": {
   "display_name": "Python 2",
   "language": "python",
   "name": "python2"
  },
  "language_info": {
   "codemirror_mode": {
    "name": "ipython",
    "version": 2
   },
   "file_extension": ".py",
   "mimetype": "text/x-python",
   "name": "python",
   "nbconvert_exporter": "python",
   "pygments_lexer": "ipython2",
   "version": "2.7.13"
  }
 },
 "nbformat": 4,
 "nbformat_minor": 2
}
