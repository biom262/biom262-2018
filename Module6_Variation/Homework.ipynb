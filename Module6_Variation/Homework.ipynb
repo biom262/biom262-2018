{
 "cells": [
  {
   "cell_type": "code",
   "execution_count": 5,
   "metadata": {
    "collapsed": true
   },
   "outputs": [],
   "source": [
    "# The goal of this homework is to gain hands on experience working\n",
    "# with real biological networks, and to start thinking about the \n",
    "# possible ways that choice of network might affect your inference\n",
    "# about the biology that you are studying. \n",
    "#\n",
    "# In this assignment we will focus on comparing Mendelian disease genes,\n",
    "# genes that are frequently somatically mutated in cancer, and genes that\n",
    "# are neither. We would like to understand whether cancer genes are \n",
    "# similar to Mendelian disease genes as has been previously suggested in \n",
    "# the literature: \n",
    "# Torkamani A, Schork NJ. Prediction of cancer driver mutations in protein kinases. \n",
    "# Cancer research. 2008;68(6):1675–82. pmid:18339846 "
   ]
  },
  {
   "cell_type": "code",
   "execution_count": null,
   "metadata": {
    "collapsed": true
   },
   "outputs": [],
   "source": [
    "# Load libraries for network analysis\n",
    "library(igraph)"
   ]
  },
  {
   "cell_type": "code",
   "execution_count": 2,
   "metadata": {},
   "outputs": [
    {
     "data": {
      "text/html": [
       "<table>\n",
       "<thead><tr><th scope=col>Entrez.Gene.IDA</th><th scope=col>Symbol.A</th><th scope=col>Entrez.Gene.IDB</th><th scope=col>Symbol.B</th></tr></thead>\n",
       "<tbody>\n",
       "\t<tr><td>14     </td><td>AAMP   </td><td> 6293  </td><td>VPS52  </td></tr>\n",
       "\t<tr><td>14     </td><td>AAMP   </td><td> 8553  </td><td>BHLHE40</td></tr>\n",
       "\t<tr><td>14     </td><td>AAMP   </td><td>64782  </td><td>AEN    </td></tr>\n",
       "\t<tr><td>15     </td><td>AANAT  </td><td> 4188  </td><td>MDFI   </td></tr>\n",
       "\t<tr><td>15     </td><td>AANAT  </td><td> 8553  </td><td>BHLHE40</td></tr>\n",
       "\t<tr><td>28     </td><td>ABO    </td><td>65983  </td><td>GRAMD3 </td></tr>\n",
       "</tbody>\n",
       "</table>\n"
      ],
      "text/latex": [
       "\\begin{tabular}{r|llll}\n",
       " Entrez.Gene.IDA & Symbol.A & Entrez.Gene.IDB & Symbol.B\\\\\n",
       "\\hline\n",
       "\t 14      & AAMP    &  6293   & VPS52  \\\\\n",
       "\t 14      & AAMP    &  8553   & BHLHE40\\\\\n",
       "\t 14      & AAMP    & 64782   & AEN    \\\\\n",
       "\t 15      & AANAT   &  4188   & MDFI   \\\\\n",
       "\t 15      & AANAT   &  8553   & BHLHE40\\\\\n",
       "\t 28      & ABO     & 65983   & GRAMD3 \\\\\n",
       "\\end{tabular}\n"
      ],
      "text/markdown": [
       "\n",
       "Entrez.Gene.IDA | Symbol.A | Entrez.Gene.IDB | Symbol.B | \n",
       "|---|---|---|---|---|---|\n",
       "| 14      | AAMP    |  6293   | VPS52   | \n",
       "| 14      | AAMP    |  8553   | BHLHE40 | \n",
       "| 14      | AAMP    | 64782   | AEN     | \n",
       "| 15      | AANAT   |  4188   | MDFI    | \n",
       "| 15      | AANAT   |  8553   | BHLHE40 | \n",
       "| 28      | ABO     | 65983   | GRAMD3  | \n",
       "\n",
       "\n"
      ],
      "text/plain": [
       "  Entrez.Gene.IDA Symbol.A Entrez.Gene.IDB Symbol.B\n",
       "1 14              AAMP      6293           VPS52   \n",
       "2 14              AAMP      8553           BHLHE40 \n",
       "3 14              AAMP     64782           AEN     \n",
       "4 15              AANAT     4188           MDFI    \n",
       "5 15              AANAT     8553           BHLHE40 \n",
       "6 28              ABO      65983           GRAMD3  "
      ]
     },
     "metadata": {},
     "output_type": "display_data"
    },
    {
     "data": {
      "text/html": [
       "<table>\n",
       "<thead><tr><th scope=col>entrez_gene_ida</th><th scope=col>symbol_a</th><th scope=col>entrez_gene_idb</th><th scope=col>symbol_b</th></tr></thead>\n",
       "<tbody>\n",
       "\t<tr><td> 4790 </td><td>NFKB1 </td><td>79155 </td><td>TNIP2 </td></tr>\n",
       "\t<tr><td> 7879 </td><td>RAB7A </td><td>83547 </td><td>RILP  </td></tr>\n",
       "\t<tr><td> 3932 </td><td>LCK   </td><td>80306 </td><td>MED28 </td></tr>\n",
       "\t<tr><td>53840 </td><td>TRIM34</td><td>85363 </td><td>TRIM5 </td></tr>\n",
       "\t<tr><td> 5705 </td><td>PSMC5 </td><td> 8856 </td><td>NR1I2 </td></tr>\n",
       "\t<tr><td>10083 </td><td>USH1C </td><td>64072 </td><td>CDH23 </td></tr>\n",
       "</tbody>\n",
       "</table>\n"
      ],
      "text/latex": [
       "\\begin{tabular}{r|llll}\n",
       " entrez\\_gene\\_ida & symbol\\_a & entrez\\_gene\\_idb & symbol\\_b\\\\\n",
       "\\hline\n",
       "\t  4790  & NFKB1  & 79155  & TNIP2 \\\\\n",
       "\t  7879  & RAB7A  & 83547  & RILP  \\\\\n",
       "\t  3932  & LCK    & 80306  & MED28 \\\\\n",
       "\t 53840  & TRIM34 & 85363  & TRIM5 \\\\\n",
       "\t  5705  & PSMC5  &  8856  & NR1I2 \\\\\n",
       "\t 10083  & USH1C  & 64072  & CDH23 \\\\\n",
       "\\end{tabular}\n"
      ],
      "text/markdown": [
       "\n",
       "entrez_gene_ida | symbol_a | entrez_gene_idb | symbol_b | \n",
       "|---|---|---|---|---|---|\n",
       "|  4790  | NFKB1  | 79155  | TNIP2  | \n",
       "|  7879  | RAB7A  | 83547  | RILP   | \n",
       "|  3932  | LCK    | 80306  | MED28  | \n",
       "| 53840  | TRIM34 | 85363  | TRIM5  | \n",
       "|  5705  | PSMC5  |  8856  | NR1I2  | \n",
       "| 10083  | USH1C  | 64072  | CDH23  | \n",
       "\n",
       "\n"
      ],
      "text/plain": [
       "  entrez_gene_ida symbol_a entrez_gene_idb symbol_b\n",
       "1  4790           NFKB1    79155           TNIP2   \n",
       "2  7879           RAB7A    83547           RILP    \n",
       "3  3932           LCK      80306           MED28   \n",
       "4 53840           TRIM34   85363           TRIM5   \n",
       "5  5705           PSMC5     8856           NR1I2   \n",
       "6 10083           USH1C    64072           CDH23   "
      ]
     },
     "metadata": {},
     "output_type": "display_data"
    }
   ],
   "source": [
    "# Read in two networks\n",
    "# First a binary protein interaction network constructed from an unbiased yeast2hybrid experimental screen\n",
    "Y2H <- read.table(file=\"Networks/HI-II-14.tsv\",header=T,sep=\"\\t\")\n",
    "head(Y2H)\n",
    "# Second an literature curated network of high confidence protein interactions\n",
    "lit <- read.table(file=\"Networks/Lit-BM-13.tsv\",header=T,sep=\"\\t\")\n",
    "head(lit)\n",
    "# These networks are hosted here: http://interactome.dfci.harvard.edu/H_sapiens/index.php"
   ]
  },
  {
   "cell_type": "code",
   "execution_count": null,
   "metadata": {
    "collapsed": true
   },
   "outputs": [],
   "source": [
    "# Load networks\n",
    "edgelist <- cbind(as.character(Y2H$Symbol.A),as.character(Y2H$Symbol.B))\n",
    "g <- graph.data.frame(edgelist, directed=F)\n",
    "edgelist2 <- cbind(as.character(lit$symbol_a),as.character(lit$symbol_b))\n",
    "g2 <- graph.data.frame(edgelist2, directed=F)"
   ]
  },
  {
   "cell_type": "code",
   "execution_count": 3,
   "metadata": {
    "collapsed": true
   },
   "outputs": [],
   "source": [
    "# In this homework, we will investigate similarities and differences \n",
    "# in the networks generated by systematic screen versus literature\n",
    "# curation. \n",
    "\n",
    "# 2 points\n",
    "# 1a) How many nodes?\n",
    "\n",
    "# 1b) How many edges? \n",
    "\n",
    "# 1c) Get a list of unique node names - hint: use names() with the solution to 1a\n"
   ]
  },
  {
   "cell_type": "code",
   "execution_count": null,
   "metadata": {
    "collapsed": true
   },
   "outputs": [],
   "source": [
    "# 1d) Compare the node degree distributions of the 2 graphs. Do they both follow a power law distribution?\n"
   ]
  },
  {
   "cell_type": "code",
   "execution_count": null,
   "metadata": {
    "collapsed": true
   },
   "outputs": [],
   "source": [
    "# 1e) Compare the diameters of the graph\n",
    "\n",
    "# Based on these analyses, would you conclude that the graphs are similar? "
   ]
  },
  {
   "cell_type": "code",
   "execution_count": null,
   "metadata": {
    "collapsed": true
   },
   "outputs": [],
   "source": [
    "# Load in disease gene lists\n",
    "mend <- scan(\"OMIM//Mendelian_HGNC.txt\",what=as.character())\n",
    "cancer <- scan(\"Cancer//cancer_genes.2_sources.txt\",what=as.character())\n",
    "length(mend)\n",
    "length(cancer)"
   ]
  },
  {
   "cell_type": "code",
   "execution_count": null,
   "metadata": {
    "collapsed": true
   },
   "outputs": [],
   "source": [
    "# 1 point\n",
    "# 2) Evaluate coverage of different gene sets in the graph\n",
    "# Hint: use this syntax to get the nodes in the graph that are also in a list of interesting genes\n",
    "# nodesinlist <- nodenames[which(nodenames %in% genelist)]\n",
    "# nodesinlist <- nodenames[-which(nodenames %in% genelist)] gives the the names not in the list\n",
    "# You can also try ! which is equivalent to \"not\" in R\n",
    "\n",
    "# 2a) Determine how many mendelian disease genes are in the graph\n",
    "\n",
    "# 2b) Determine how many cancer genes are in the graph\n",
    "\n",
    "# 2c) Make a list of the nodes in the graph that are neither cancer nor mendelian disease genes\n"
   ]
  },
  {
   "cell_type": "code",
   "execution_count": null,
   "metadata": {
    "collapsed": true
   },
   "outputs": [],
   "source": [
    "# 1 point\n",
    "# Repeat for literature based graph \n",
    "# Are more or less of the disease related genes present in the literature derived graph?\n",
    "# 2d) Determine how many mendelian disease genes are in the graph\n",
    "\n",
    "# 2e) Determine how many cancer genes are in the graph\n",
    "\n",
    "# 2f) Make a list of the nodes in the graph that are neither cancer nor mendelian disease genes\n"
   ]
  },
  {
   "cell_type": "code",
   "execution_count": 1,
   "metadata": {
    "collapsed": true,
    "scrolled": true
   },
   "outputs": [],
   "source": [
    "# 2 points\n",
    "# 3) Compare graph measures between disease genes, cancer genes, and non-disease genes in the Y2H network\n",
    "# Hint: You want a number for each gene in the group\n",
    "#       Boxplots are a good way to compare distributions\n",
    "# 3a) plot degree distributions for each class of gene\n",
    "\n",
    "# 3b) plot clustering coeffcient distribution for each class of gene\n",
    "\n",
    "# 3c) plot closeness centrality for each class of gene\n",
    "\n",
    "# 3d) plot betweenness centrality for each class of gene\n",
    "\n"
   ]
  },
  {
   "cell_type": "code",
   "execution_count": null,
   "metadata": {
    "collapsed": true
   },
   "outputs": [],
   "source": [
    "# 2 points\n",
    "# Now repeat for the literarture curated network\n",
    "# Would you draw different conclusions using the literature based network?\n",
    "# 3e) plot degree distributions for each class of gene\n",
    "\n",
    "# 3f) plot clustering coeffcient distribution for each class of gene\n",
    "\n",
    "# 3g) plot closeness centrality for each class of gene\n",
    "\n",
    "# 3h) plot betweenness centrality for each class of gene\n",
    "\n",
    "\n",
    "\n",
    "# Do your conclusions about the properties of these different classes of genes change when you use different networks?"
   ]
  },
  {
   "cell_type": "code",
   "execution_count": null,
   "metadata": {
    "collapsed": true
   },
   "outputs": [],
   "source": [
    "# 2 points\n",
    "# 4) Next compare enrichment for 4 node motifs in the Y2H network versus the literature based network\n",
    "# Hint: There are 6 unique motifs where edges connect all 4 nodes in an undirected graph, \n",
    "#       there are 11 total undirected 4 node motifs when the subgraph doesn't have to be connected\n",
    "\n",
    "# Visualize the possible motifs\n",
    "\n",
    "# Count the number of motifs in each graph\n",
    "\n",
    "# Do the graphs differ in terms of the number motifs? Which motifs are more common in the Y2H network? Which in the literature derived network? "
   ]
  },
  {
   "cell_type": "code",
   "execution_count": null,
   "metadata": {
    "collapsed": true
   },
   "outputs": [],
   "source": [
    "# Bonus: Are these motifs over-represented relative to similar random networks? \n",
    "# Hint: you can perform degree preserving permutation using rewire(g, with = keeping_degseq()) - see igraph documentation\n",
    "#       The niter parameter is the number of edges that will be randomly reassigned\n",
    "# Note: This might be computationally intensive\n",
    "\n"
   ]
  }
 ],
 "metadata": {
  "kernelspec": {
   "display_name": "R",
   "language": "R",
   "name": "ir"
  },
  "language_info": {
   "codemirror_mode": "r",
   "file_extension": ".r",
   "mimetype": "text/x-r-source",
   "name": "R",
   "pygments_lexer": "r",
   "version": "3.4.2"
  }
 },
 "nbformat": 4,
 "nbformat_minor": 1
}
