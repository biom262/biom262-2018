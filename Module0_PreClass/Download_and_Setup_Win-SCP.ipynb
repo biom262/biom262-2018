{
 "cells": [
  {
   "cell_type": "markdown",
   "metadata": {},
   "source": [
    "## Windows users only"
   ]
  },
  {
   "cell_type": "markdown",
   "metadata": {},
   "source": [
    "**Download and Setup Win-SCP**\n",
    "\n",
    "*To be completed after setting up TSCC login with PuTTY:*\n",
    "\n",
    "As a method for file transfer, Windows users might also like to set up Win-SCP, which can be downloaded here. Click on \"Installation Package\" under \"WinSCP 5.11.1\" to begin download of the installer. Once downloaded, run and continue with instructions to finish. You will be aked if you would like to load previously setup host keys from PuTTY. Say yes to continue.\n",
    "\n",
    "In your login screen, select tscc from your host menu on the left. Click login at the bottom and enter your passphrase. If successful, you will be successfully connected to your home directory on TSCC. The files should be listed on the right. You can now download files from TSCC by clicking on them and pressing the \"Download\" button. This is a good method of easily obtaining files from a remote server."
   ]
  },
  {
   "cell_type": "code",
   "execution_count": null,
   "metadata": {
    "collapsed": true
   },
   "outputs": [],
   "source": []
  }
 ],
 "metadata": {
  "kernelspec": {
   "display_name": "Python [Root]",
   "language": "python",
   "name": "Python [Root]"
  },
  "language_info": {
   "codemirror_mode": {
    "name": "ipython",
    "version": 2
   },
   "file_extension": ".py",
   "mimetype": "text/x-python",
   "name": "python",
   "nbconvert_exporter": "python",
   "pygments_lexer": "ipython2",
   "version": "2.7.12"
  }
 },
 "nbformat": 4,
 "nbformat_minor": 2
}
