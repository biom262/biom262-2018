{
 "cells": [
  {
   "cell_type": "markdown",
   "metadata": {},
   "source": [
    "**Import python packages that we will use for analysis**\n",
    "\n",
    "When we import a package as something else, that is creating a shortcut for us to easily call the package. For example, import pandas as pd will allow us to type pd when calling a pandas function rather than pandas. "
   ]
  },
  {
   "cell_type": "code",
   "execution_count": 1,
   "metadata": {},
   "outputs": [],
   "source": [
    "import pandas as pd\n",
    "import numpy as np\n",
    "import seaborn as sns\n",
    "\n",
    "#from lets us import only a part of that package rather than the entire thing. \n",
    "#We only need the pyplot section of matplotlib so we are only importing that.\n",
    "from matplotlib import pyplot as plt\n",
    "\n",
    "#In order for plots to appear in the notebook we need this:\n",
    "%matplotlib inline"
   ]
  },
  {
   "cell_type": "markdown",
   "metadata": {},
   "source": [
    "**Define the directory where the data is located**\n",
    "\n",
    "We are going to store this directory as a variable data_dir."
   ]
  },
  {
   "cell_type": "code",
   "execution_count": 6,
   "metadata": {},
   "outputs": [
    {
     "data": {
      "text/plain": [
       "'/home/ucsd-train02/projects/single_cell_intestine/raw_data/'"
      ]
     },
     "execution_count": 6,
     "metadata": {},
     "output_type": "execute_result"
    }
   ],
   "source": [
    "data_dir = \"/home/ucsd-train02/projects/single_cell_intestine/raw_data/\"\n",
    "#Take a look at the string sotred in the data_dir variable\n",
    "data_dir"
   ]
  },
  {
   "cell_type": "markdown",
   "metadata": {},
   "source": [
    "**Combining strings**\n",
    "\n",
    "To get the full name of the file to read in, we need the directory plus the filename.\n",
    "\n",
    "Combine two strings together in python with the +"
   ]
  },
  {
   "cell_type": "code",
   "execution_count": 8,
   "metadata": {},
   "outputs": [
    {
     "data": {
      "text/plain": [
       "'/home/ucsd-train02/projects/single_cell_intestine/raw_data/batch1_counts.csv'"
      ]
     },
     "execution_count": 8,
     "metadata": {},
     "output_type": "execute_result"
    }
   ],
   "source": [
    "data_dir+\"batch1_counts.csv\""
   ]
  },
  {
   "cell_type": "markdown",
   "metadata": {},
   "source": [
    "Here we combined a variable and a string. Why did this work? \n",
    "\n",
    "Because the variable data_dir is a placeholder for another string (the full path to the directory).\n",
    "\n",
    "We will use this method to read in the csv file using the pandas command read_csv"
   ]
  },
  {
   "cell_type": "markdown",
   "metadata": {},
   "source": [
    "**Load in data with pandas**\n",
    "\n",
    "To call a function from a package, write that package name followed by a period.\n",
    "Tab after the period to see all the functions that are available to you. "
   ]
  },
  {
   "cell_type": "code",
   "execution_count": null,
   "metadata": {},
   "outputs": [],
   "source": [
    "pd."
   ]
  },
  {
   "cell_type": "markdown",
   "metadata": {},
   "source": [
    "We are going to use the read_csv function to load in the data. When you call a function, initiate it with a parenthesis and then include all your arguments inside that parenthesis. Here, we need to give the filename and set the index as the first column. Shift tab tab inside of the parenthesis will bring up the help manual for the function."
   ]
  },
  {
   "cell_type": "code",
   "execution_count": 9,
   "metadata": {},
   "outputs": [
    {
     "name": "stdout",
     "output_type": "stream",
     "text": [
      "(15971, 1385)\n"
     ]
    },
    {
     "data": {
      "text/html": [
       "<div>\n",
       "<style>\n",
       "    .dataframe thead tr:only-child th {\n",
       "        text-align: right;\n",
       "    }\n",
       "\n",
       "    .dataframe thead th {\n",
       "        text-align: left;\n",
       "    }\n",
       "\n",
       "    .dataframe tbody tr th {\n",
       "        vertical-align: top;\n",
       "    }\n",
       "</style>\n",
       "<table border=\"1\" class=\"dataframe\">\n",
       "  <thead>\n",
       "    <tr style=\"text-align: right;\">\n",
       "      <th></th>\n",
       "      <th>B1_AAACATTGTTTGGG_Enterocyte.Immature.Distal</th>\n",
       "      <th>B1_AAACCGTGCCAAGT_Tuft</th>\n",
       "      <th>B1_AAACGCACAGCCTA_Goblet</th>\n",
       "      <th>B1_AAACGCACCAGATC_Endocrine</th>\n",
       "      <th>B1_AAACGCACCGCCTT_Stem</th>\n",
       "      <th>B1_AAACGCACCGTAGT_Stem</th>\n",
       "      <th>B1_AAACGGCTGATAGA_TA.Early</th>\n",
       "      <th>B1_AAACTTGAAGAGTA_Enterocyte.Mature.Proximal</th>\n",
       "      <th>B1_AAACTTGACCACAA_TA.G1</th>\n",
       "      <th>B1_AAAGACGATTGTCT_Enterocyte.Mature.Proximal</th>\n",
       "      <th>...</th>\n",
       "      <th>B1_TTTAGAGAACGGAG_Enterocyte.Immature.Distal</th>\n",
       "      <th>B1_TTTAGAGAGGAAAT_Stem</th>\n",
       "      <th>B1_TTTAGGCTCTCTTA_Paneth</th>\n",
       "      <th>B1_TTTCACGAAGTGTC_TA.Early</th>\n",
       "      <th>B1_TTTCACGACACACA_Enterocyte.Progenitor.Early</th>\n",
       "      <th>B1_TTTCACGAGAGGCA_Stem</th>\n",
       "      <th>B1_TTTCCAGAACGCTA_Goblet</th>\n",
       "      <th>B1_TTTCCAGATGCAAC_Enterocyte.Progenitor</th>\n",
       "      <th>B1_TTTCGAACTACTGG_Stem</th>\n",
       "      <th>B1_TTTCTACTTCACCC_Enterocyte.Progenitor.Late</th>\n",
       "    </tr>\n",
       "  </thead>\n",
       "  <tbody>\n",
       "    <tr>\n",
       "      <th>Mrpl15</th>\n",
       "      <td>2</td>\n",
       "      <td>1</td>\n",
       "      <td>2</td>\n",
       "      <td>2</td>\n",
       "      <td>0</td>\n",
       "      <td>4</td>\n",
       "      <td>0</td>\n",
       "      <td>1</td>\n",
       "      <td>4</td>\n",
       "      <td>0</td>\n",
       "      <td>...</td>\n",
       "      <td>0</td>\n",
       "      <td>3</td>\n",
       "      <td>1</td>\n",
       "      <td>1</td>\n",
       "      <td>0</td>\n",
       "      <td>4</td>\n",
       "      <td>2</td>\n",
       "      <td>3</td>\n",
       "      <td>0</td>\n",
       "      <td>3</td>\n",
       "    </tr>\n",
       "    <tr>\n",
       "      <th>Lypla1</th>\n",
       "      <td>2</td>\n",
       "      <td>0</td>\n",
       "      <td>0</td>\n",
       "      <td>1</td>\n",
       "      <td>0</td>\n",
       "      <td>0</td>\n",
       "      <td>0</td>\n",
       "      <td>0</td>\n",
       "      <td>1</td>\n",
       "      <td>0</td>\n",
       "      <td>...</td>\n",
       "      <td>0</td>\n",
       "      <td>1</td>\n",
       "      <td>0</td>\n",
       "      <td>1</td>\n",
       "      <td>0</td>\n",
       "      <td>0</td>\n",
       "      <td>3</td>\n",
       "      <td>0</td>\n",
       "      <td>0</td>\n",
       "      <td>3</td>\n",
       "    </tr>\n",
       "    <tr>\n",
       "      <th>Gm37988</th>\n",
       "      <td>0</td>\n",
       "      <td>0</td>\n",
       "      <td>0</td>\n",
       "      <td>0</td>\n",
       "      <td>0</td>\n",
       "      <td>0</td>\n",
       "      <td>0</td>\n",
       "      <td>0</td>\n",
       "      <td>0</td>\n",
       "      <td>0</td>\n",
       "      <td>...</td>\n",
       "      <td>0</td>\n",
       "      <td>0</td>\n",
       "      <td>0</td>\n",
       "      <td>0</td>\n",
       "      <td>0</td>\n",
       "      <td>0</td>\n",
       "      <td>0</td>\n",
       "      <td>0</td>\n",
       "      <td>0</td>\n",
       "      <td>0</td>\n",
       "    </tr>\n",
       "    <tr>\n",
       "      <th>Tcea1</th>\n",
       "      <td>0</td>\n",
       "      <td>0</td>\n",
       "      <td>0</td>\n",
       "      <td>0</td>\n",
       "      <td>0</td>\n",
       "      <td>0</td>\n",
       "      <td>0</td>\n",
       "      <td>0</td>\n",
       "      <td>0</td>\n",
       "      <td>0</td>\n",
       "      <td>...</td>\n",
       "      <td>0</td>\n",
       "      <td>1</td>\n",
       "      <td>0</td>\n",
       "      <td>0</td>\n",
       "      <td>0</td>\n",
       "      <td>0</td>\n",
       "      <td>0</td>\n",
       "      <td>2</td>\n",
       "      <td>0</td>\n",
       "      <td>1</td>\n",
       "    </tr>\n",
       "    <tr>\n",
       "      <th>Atp6v1h</th>\n",
       "      <td>0</td>\n",
       "      <td>0</td>\n",
       "      <td>0</td>\n",
       "      <td>0</td>\n",
       "      <td>0</td>\n",
       "      <td>0</td>\n",
       "      <td>0</td>\n",
       "      <td>0</td>\n",
       "      <td>0</td>\n",
       "      <td>0</td>\n",
       "      <td>...</td>\n",
       "      <td>0</td>\n",
       "      <td>0</td>\n",
       "      <td>0</td>\n",
       "      <td>0</td>\n",
       "      <td>0</td>\n",
       "      <td>0</td>\n",
       "      <td>0</td>\n",
       "      <td>0</td>\n",
       "      <td>0</td>\n",
       "      <td>0</td>\n",
       "    </tr>\n",
       "  </tbody>\n",
       "</table>\n",
       "<p>5 rows × 1385 columns</p>\n",
       "</div>"
      ],
      "text/plain": [
       "         B1_AAACATTGTTTGGG_Enterocyte.Immature.Distal  B1_AAACCGTGCCAAGT_Tuft  \\\n",
       "Mrpl15                                              2                       1   \n",
       "Lypla1                                              2                       0   \n",
       "Gm37988                                             0                       0   \n",
       "Tcea1                                               0                       0   \n",
       "Atp6v1h                                             0                       0   \n",
       "\n",
       "         B1_AAACGCACAGCCTA_Goblet  B1_AAACGCACCAGATC_Endocrine  \\\n",
       "Mrpl15                          2                            2   \n",
       "Lypla1                          0                            1   \n",
       "Gm37988                         0                            0   \n",
       "Tcea1                           0                            0   \n",
       "Atp6v1h                         0                            0   \n",
       "\n",
       "         B1_AAACGCACCGCCTT_Stem  B1_AAACGCACCGTAGT_Stem  \\\n",
       "Mrpl15                        0                       4   \n",
       "Lypla1                        0                       0   \n",
       "Gm37988                       0                       0   \n",
       "Tcea1                         0                       0   \n",
       "Atp6v1h                       0                       0   \n",
       "\n",
       "         B1_AAACGGCTGATAGA_TA.Early  \\\n",
       "Mrpl15                            0   \n",
       "Lypla1                            0   \n",
       "Gm37988                           0   \n",
       "Tcea1                             0   \n",
       "Atp6v1h                           0   \n",
       "\n",
       "         B1_AAACTTGAAGAGTA_Enterocyte.Mature.Proximal  \\\n",
       "Mrpl15                                              1   \n",
       "Lypla1                                              0   \n",
       "Gm37988                                             0   \n",
       "Tcea1                                               0   \n",
       "Atp6v1h                                             0   \n",
       "\n",
       "         B1_AAACTTGACCACAA_TA.G1  \\\n",
       "Mrpl15                         4   \n",
       "Lypla1                         1   \n",
       "Gm37988                        0   \n",
       "Tcea1                          0   \n",
       "Atp6v1h                        0   \n",
       "\n",
       "         B1_AAAGACGATTGTCT_Enterocyte.Mature.Proximal  \\\n",
       "Mrpl15                                              0   \n",
       "Lypla1                                              0   \n",
       "Gm37988                                             0   \n",
       "Tcea1                                               0   \n",
       "Atp6v1h                                             0   \n",
       "\n",
       "                             ...                       \\\n",
       "Mrpl15                       ...                        \n",
       "Lypla1                       ...                        \n",
       "Gm37988                      ...                        \n",
       "Tcea1                        ...                        \n",
       "Atp6v1h                      ...                        \n",
       "\n",
       "         B1_TTTAGAGAACGGAG_Enterocyte.Immature.Distal  B1_TTTAGAGAGGAAAT_Stem  \\\n",
       "Mrpl15                                              0                       3   \n",
       "Lypla1                                              0                       1   \n",
       "Gm37988                                             0                       0   \n",
       "Tcea1                                               0                       1   \n",
       "Atp6v1h                                             0                       0   \n",
       "\n",
       "         B1_TTTAGGCTCTCTTA_Paneth  B1_TTTCACGAAGTGTC_TA.Early  \\\n",
       "Mrpl15                          1                           1   \n",
       "Lypla1                          0                           1   \n",
       "Gm37988                         0                           0   \n",
       "Tcea1                           0                           0   \n",
       "Atp6v1h                         0                           0   \n",
       "\n",
       "         B1_TTTCACGACACACA_Enterocyte.Progenitor.Early  \\\n",
       "Mrpl15                                               0   \n",
       "Lypla1                                               0   \n",
       "Gm37988                                              0   \n",
       "Tcea1                                                0   \n",
       "Atp6v1h                                              0   \n",
       "\n",
       "         B1_TTTCACGAGAGGCA_Stem  B1_TTTCCAGAACGCTA_Goblet  \\\n",
       "Mrpl15                        4                         2   \n",
       "Lypla1                        0                         3   \n",
       "Gm37988                       0                         0   \n",
       "Tcea1                         0                         0   \n",
       "Atp6v1h                       0                         0   \n",
       "\n",
       "         B1_TTTCCAGATGCAAC_Enterocyte.Progenitor  B1_TTTCGAACTACTGG_Stem  \\\n",
       "Mrpl15                                         3                       0   \n",
       "Lypla1                                         0                       0   \n",
       "Gm37988                                        0                       0   \n",
       "Tcea1                                          2                       0   \n",
       "Atp6v1h                                        0                       0   \n",
       "\n",
       "         B1_TTTCTACTTCACCC_Enterocyte.Progenitor.Late  \n",
       "Mrpl15                                              3  \n",
       "Lypla1                                              3  \n",
       "Gm37988                                             0  \n",
       "Tcea1                                               1  \n",
       "Atp6v1h                                             0  \n",
       "\n",
       "[5 rows x 1385 columns]"
      ]
     },
     "execution_count": 9,
     "metadata": {},
     "output_type": "execute_result"
    }
   ],
   "source": [
    "#Store the dataframe with the name raw_counts\n",
    "raw_counts = pd.read_csv(data_dir+\"batch1_counts.csv\", index_col=0)\n",
    "\n",
    "#Print the size of the dataframe (number of rows and columns)\n",
    "print(raw_counts.shape)\n",
    "\n",
    "#look at the first 5 rows\n",
    "raw_counts.head()"
   ]
  },
  {
   "cell_type": "markdown",
   "metadata": {},
   "source": [
    "**Select genes for analysis**\n",
    "\n",
    "There is A LOT of dropout in single cell data. Current rough estimates are that only ~10% of the transcriptome is acutally measured in each single cell. Therefore, it is important to only keep the genes for analysis that were detected in enough cells for us to gain meaningful information about them. A commonly used cutoff is to keep genes that were detected with at lest 1 UMI count in 10% of cells. Let's subset this dataframe for only those genes."
   ]
  },
  {
   "cell_type": "code",
   "execution_count": 10,
   "metadata": {},
   "outputs": [
    {
     "data": {
      "text/html": [
       "<div>\n",
       "<style>\n",
       "    .dataframe thead tr:only-child th {\n",
       "        text-align: right;\n",
       "    }\n",
       "\n",
       "    .dataframe thead th {\n",
       "        text-align: left;\n",
       "    }\n",
       "\n",
       "    .dataframe tbody tr th {\n",
       "        vertical-align: top;\n",
       "    }\n",
       "</style>\n",
       "<table border=\"1\" class=\"dataframe\">\n",
       "  <thead>\n",
       "    <tr style=\"text-align: right;\">\n",
       "      <th></th>\n",
       "      <th>B1_AAACATTGTTTGGG_Enterocyte.Immature.Distal</th>\n",
       "      <th>B1_AAACCGTGCCAAGT_Tuft</th>\n",
       "      <th>B1_AAACGCACAGCCTA_Goblet</th>\n",
       "      <th>B1_AAACGCACCAGATC_Endocrine</th>\n",
       "      <th>B1_AAACGCACCGCCTT_Stem</th>\n",
       "      <th>B1_AAACGCACCGTAGT_Stem</th>\n",
       "      <th>B1_AAACGGCTGATAGA_TA.Early</th>\n",
       "      <th>B1_AAACTTGAAGAGTA_Enterocyte.Mature.Proximal</th>\n",
       "      <th>B1_AAACTTGACCACAA_TA.G1</th>\n",
       "      <th>B1_AAAGACGATTGTCT_Enterocyte.Mature.Proximal</th>\n",
       "      <th>...</th>\n",
       "      <th>B1_TTTAGAGAACGGAG_Enterocyte.Immature.Distal</th>\n",
       "      <th>B1_TTTAGAGAGGAAAT_Stem</th>\n",
       "      <th>B1_TTTAGGCTCTCTTA_Paneth</th>\n",
       "      <th>B1_TTTCACGAAGTGTC_TA.Early</th>\n",
       "      <th>B1_TTTCACGACACACA_Enterocyte.Progenitor.Early</th>\n",
       "      <th>B1_TTTCACGAGAGGCA_Stem</th>\n",
       "      <th>B1_TTTCCAGAACGCTA_Goblet</th>\n",
       "      <th>B1_TTTCCAGATGCAAC_Enterocyte.Progenitor</th>\n",
       "      <th>B1_TTTCGAACTACTGG_Stem</th>\n",
       "      <th>B1_TTTCTACTTCACCC_Enterocyte.Progenitor.Late</th>\n",
       "    </tr>\n",
       "  </thead>\n",
       "  <tbody>\n",
       "    <tr>\n",
       "      <th>Mrpl15</th>\n",
       "      <td>True</td>\n",
       "      <td>True</td>\n",
       "      <td>True</td>\n",
       "      <td>True</td>\n",
       "      <td>False</td>\n",
       "      <td>True</td>\n",
       "      <td>False</td>\n",
       "      <td>True</td>\n",
       "      <td>True</td>\n",
       "      <td>False</td>\n",
       "      <td>...</td>\n",
       "      <td>False</td>\n",
       "      <td>True</td>\n",
       "      <td>True</td>\n",
       "      <td>True</td>\n",
       "      <td>False</td>\n",
       "      <td>True</td>\n",
       "      <td>True</td>\n",
       "      <td>True</td>\n",
       "      <td>False</td>\n",
       "      <td>True</td>\n",
       "    </tr>\n",
       "    <tr>\n",
       "      <th>Lypla1</th>\n",
       "      <td>True</td>\n",
       "      <td>False</td>\n",
       "      <td>False</td>\n",
       "      <td>True</td>\n",
       "      <td>False</td>\n",
       "      <td>False</td>\n",
       "      <td>False</td>\n",
       "      <td>False</td>\n",
       "      <td>True</td>\n",
       "      <td>False</td>\n",
       "      <td>...</td>\n",
       "      <td>False</td>\n",
       "      <td>True</td>\n",
       "      <td>False</td>\n",
       "      <td>True</td>\n",
       "      <td>False</td>\n",
       "      <td>False</td>\n",
       "      <td>True</td>\n",
       "      <td>False</td>\n",
       "      <td>False</td>\n",
       "      <td>True</td>\n",
       "    </tr>\n",
       "    <tr>\n",
       "      <th>Gm37988</th>\n",
       "      <td>False</td>\n",
       "      <td>False</td>\n",
       "      <td>False</td>\n",
       "      <td>False</td>\n",
       "      <td>False</td>\n",
       "      <td>False</td>\n",
       "      <td>False</td>\n",
       "      <td>False</td>\n",
       "      <td>False</td>\n",
       "      <td>False</td>\n",
       "      <td>...</td>\n",
       "      <td>False</td>\n",
       "      <td>False</td>\n",
       "      <td>False</td>\n",
       "      <td>False</td>\n",
       "      <td>False</td>\n",
       "      <td>False</td>\n",
       "      <td>False</td>\n",
       "      <td>False</td>\n",
       "      <td>False</td>\n",
       "      <td>False</td>\n",
       "    </tr>\n",
       "    <tr>\n",
       "      <th>Tcea1</th>\n",
       "      <td>False</td>\n",
       "      <td>False</td>\n",
       "      <td>False</td>\n",
       "      <td>False</td>\n",
       "      <td>False</td>\n",
       "      <td>False</td>\n",
       "      <td>False</td>\n",
       "      <td>False</td>\n",
       "      <td>False</td>\n",
       "      <td>False</td>\n",
       "      <td>...</td>\n",
       "      <td>False</td>\n",
       "      <td>True</td>\n",
       "      <td>False</td>\n",
       "      <td>False</td>\n",
       "      <td>False</td>\n",
       "      <td>False</td>\n",
       "      <td>False</td>\n",
       "      <td>True</td>\n",
       "      <td>False</td>\n",
       "      <td>True</td>\n",
       "    </tr>\n",
       "    <tr>\n",
       "      <th>Atp6v1h</th>\n",
       "      <td>False</td>\n",
       "      <td>False</td>\n",
       "      <td>False</td>\n",
       "      <td>False</td>\n",
       "      <td>False</td>\n",
       "      <td>False</td>\n",
       "      <td>False</td>\n",
       "      <td>False</td>\n",
       "      <td>False</td>\n",
       "      <td>False</td>\n",
       "      <td>...</td>\n",
       "      <td>False</td>\n",
       "      <td>False</td>\n",
       "      <td>False</td>\n",
       "      <td>False</td>\n",
       "      <td>False</td>\n",
       "      <td>False</td>\n",
       "      <td>False</td>\n",
       "      <td>False</td>\n",
       "      <td>False</td>\n",
       "      <td>False</td>\n",
       "    </tr>\n",
       "  </tbody>\n",
       "</table>\n",
       "<p>5 rows × 1385 columns</p>\n",
       "</div>"
      ],
      "text/plain": [
       "         B1_AAACATTGTTTGGG_Enterocyte.Immature.Distal  B1_AAACCGTGCCAAGT_Tuft  \\\n",
       "Mrpl15                                           True                    True   \n",
       "Lypla1                                           True                   False   \n",
       "Gm37988                                         False                   False   \n",
       "Tcea1                                           False                   False   \n",
       "Atp6v1h                                         False                   False   \n",
       "\n",
       "         B1_AAACGCACAGCCTA_Goblet  B1_AAACGCACCAGATC_Endocrine  \\\n",
       "Mrpl15                       True                         True   \n",
       "Lypla1                      False                         True   \n",
       "Gm37988                     False                        False   \n",
       "Tcea1                       False                        False   \n",
       "Atp6v1h                     False                        False   \n",
       "\n",
       "         B1_AAACGCACCGCCTT_Stem  B1_AAACGCACCGTAGT_Stem  \\\n",
       "Mrpl15                    False                    True   \n",
       "Lypla1                    False                   False   \n",
       "Gm37988                   False                   False   \n",
       "Tcea1                     False                   False   \n",
       "Atp6v1h                   False                   False   \n",
       "\n",
       "         B1_AAACGGCTGATAGA_TA.Early  \\\n",
       "Mrpl15                        False   \n",
       "Lypla1                        False   \n",
       "Gm37988                       False   \n",
       "Tcea1                         False   \n",
       "Atp6v1h                       False   \n",
       "\n",
       "         B1_AAACTTGAAGAGTA_Enterocyte.Mature.Proximal  \\\n",
       "Mrpl15                                           True   \n",
       "Lypla1                                          False   \n",
       "Gm37988                                         False   \n",
       "Tcea1                                           False   \n",
       "Atp6v1h                                         False   \n",
       "\n",
       "         B1_AAACTTGACCACAA_TA.G1  \\\n",
       "Mrpl15                      True   \n",
       "Lypla1                      True   \n",
       "Gm37988                    False   \n",
       "Tcea1                      False   \n",
       "Atp6v1h                    False   \n",
       "\n",
       "         B1_AAAGACGATTGTCT_Enterocyte.Mature.Proximal  \\\n",
       "Mrpl15                                          False   \n",
       "Lypla1                                          False   \n",
       "Gm37988                                         False   \n",
       "Tcea1                                           False   \n",
       "Atp6v1h                                         False   \n",
       "\n",
       "                             ...                       \\\n",
       "Mrpl15                       ...                        \n",
       "Lypla1                       ...                        \n",
       "Gm37988                      ...                        \n",
       "Tcea1                        ...                        \n",
       "Atp6v1h                      ...                        \n",
       "\n",
       "         B1_TTTAGAGAACGGAG_Enterocyte.Immature.Distal  B1_TTTAGAGAGGAAAT_Stem  \\\n",
       "Mrpl15                                          False                    True   \n",
       "Lypla1                                          False                    True   \n",
       "Gm37988                                         False                   False   \n",
       "Tcea1                                           False                    True   \n",
       "Atp6v1h                                         False                   False   \n",
       "\n",
       "         B1_TTTAGGCTCTCTTA_Paneth  B1_TTTCACGAAGTGTC_TA.Early  \\\n",
       "Mrpl15                       True                        True   \n",
       "Lypla1                      False                        True   \n",
       "Gm37988                     False                       False   \n",
       "Tcea1                       False                       False   \n",
       "Atp6v1h                     False                       False   \n",
       "\n",
       "         B1_TTTCACGACACACA_Enterocyte.Progenitor.Early  \\\n",
       "Mrpl15                                           False   \n",
       "Lypla1                                           False   \n",
       "Gm37988                                          False   \n",
       "Tcea1                                            False   \n",
       "Atp6v1h                                          False   \n",
       "\n",
       "         B1_TTTCACGAGAGGCA_Stem  B1_TTTCCAGAACGCTA_Goblet  \\\n",
       "Mrpl15                     True                      True   \n",
       "Lypla1                    False                      True   \n",
       "Gm37988                   False                     False   \n",
       "Tcea1                     False                     False   \n",
       "Atp6v1h                   False                     False   \n",
       "\n",
       "         B1_TTTCCAGATGCAAC_Enterocyte.Progenitor  B1_TTTCGAACTACTGG_Stem  \\\n",
       "Mrpl15                                      True                   False   \n",
       "Lypla1                                     False                   False   \n",
       "Gm37988                                    False                   False   \n",
       "Tcea1                                       True                   False   \n",
       "Atp6v1h                                    False                   False   \n",
       "\n",
       "         B1_TTTCTACTTCACCC_Enterocyte.Progenitor.Late  \n",
       "Mrpl15                                           True  \n",
       "Lypla1                                           True  \n",
       "Gm37988                                         False  \n",
       "Tcea1                                            True  \n",
       "Atp6v1h                                         False  \n",
       "\n",
       "[5 rows x 1385 columns]"
      ]
     },
     "execution_count": 10,
     "metadata": {},
     "output_type": "execute_result"
    }
   ],
   "source": [
    "# Is the UMI count greater than 0 (at least 1). \n",
    "# I am going to wrap thisthis function in head to make it easy to view the result\n",
    "\n",
    "(raw_counts > 0).head()"
   ]
  },
  {
   "cell_type": "markdown",
   "metadata": {},
   "source": [
    "Notice the result is a True/False (boolean) of whether or not the condition was satisfied. We are going to use .sum to count the number of True values in each row. The number of true values for each gene will tell us how many cells had a count of > 0 for that gene. "
   ]
  },
  {
   "cell_type": "code",
   "execution_count": 14,
   "metadata": {},
   "outputs": [
    {
     "data": {
      "text/plain": [
       "Mrpl15     866\n",
       "Lypla1     479\n",
       "Gm37988      1\n",
       "Tcea1      213\n",
       "Atp6v1h    217\n",
       "dtype: int64"
      ]
     },
     "execution_count": 14,
     "metadata": {},
     "output_type": "execute_result"
    }
   ],
   "source": [
    "#Axis = 1 calculates the sum across the rows (genes) instead of columns (cells)\n",
    "#Again, using head to only look at the first 5 results. \n",
    "\n",
    "(raw_counts > 0).sum(axis=1).head()"
   ]
  },
  {
   "cell_type": "markdown",
   "metadata": {},
   "source": [
    "We are interested in genes that were detected in at least 10% of cells. So we need genes where the sum that we just calculated is at least 10% of the total number of cells we have. First lets get the number corresponding to 10% of the cells."
   ]
  },
  {
   "cell_type": "code",
   "execution_count": 17,
   "metadata": {},
   "outputs": [
    {
     "data": {
      "text/plain": [
       "138.5"
      ]
     },
     "execution_count": 17,
     "metadata": {},
     "output_type": "execute_result"
    }
   ],
   "source": [
    "#all the cell IDs are stored in the columns of our dataframe, \n",
    "#so we can get the total number of cells by finding the length of the columns\n",
    "\n",
    "num_cells = len(raw_counts.columns)\n",
    "0.1*num_cells"
   ]
  },
  {
   "cell_type": "code",
   "execution_count": 21,
   "metadata": {},
   "outputs": [
    {
     "data": {
      "text/plain": [
       "Mrpl15      True\n",
       "Lypla1      True\n",
       "Gm37988    False\n",
       "Tcea1       True\n",
       "Atp6v1h     True\n",
       "dtype: bool"
      ]
     },
     "execution_count": 21,
     "metadata": {},
     "output_type": "execute_result"
    }
   ],
   "source": [
    "#now ask how many of those genes have a sum greater than 0.1% times the number of cells\n",
    "\n",
    "((raw_counts > 0).sum(axis=1) > 0.1*num_cells).head()"
   ]
  },
  {
   "cell_type": "code",
   "execution_count": 23,
   "metadata": {},
   "outputs": [
    {
     "data": {
      "text/plain": [
       "Mrpl15      True\n",
       "Lypla1      True\n",
       "Gm37988    False\n",
       "Tcea1       True\n",
       "Atp6v1h     True\n",
       "dtype: bool"
      ]
     },
     "execution_count": 23,
     "metadata": {},
     "output_type": "execute_result"
    }
   ],
   "source": [
    "#We are going to store this boolean result as the variable genes_to_keep:\n",
    "\n",
    "genes_to_keep = (raw_counts > 0).sum(axis=1) > 0.1*num_cells\n",
    "genes_to_keep.head()"
   ]
  },
  {
   "cell_type": "markdown",
   "metadata": {},
   "source": [
    "Now subset the dataframe to only keep genes that have the True value. "
   ]
  },
  {
   "cell_type": "code",
   "execution_count": 26,
   "metadata": {},
   "outputs": [
    {
     "name": "stdout",
     "output_type": "stream",
     "text": [
      "(5355, 1385)\n"
     ]
    },
    {
     "data": {
      "text/html": [
       "<div>\n",
       "<style>\n",
       "    .dataframe thead tr:only-child th {\n",
       "        text-align: right;\n",
       "    }\n",
       "\n",
       "    .dataframe thead th {\n",
       "        text-align: left;\n",
       "    }\n",
       "\n",
       "    .dataframe tbody tr th {\n",
       "        vertical-align: top;\n",
       "    }\n",
       "</style>\n",
       "<table border=\"1\" class=\"dataframe\">\n",
       "  <thead>\n",
       "    <tr style=\"text-align: right;\">\n",
       "      <th></th>\n",
       "      <th>B1_AAACATTGTTTGGG_Enterocyte.Immature.Distal</th>\n",
       "      <th>B1_AAACCGTGCCAAGT_Tuft</th>\n",
       "      <th>B1_AAACGCACAGCCTA_Goblet</th>\n",
       "      <th>B1_AAACGCACCAGATC_Endocrine</th>\n",
       "      <th>B1_AAACGCACCGCCTT_Stem</th>\n",
       "      <th>B1_AAACGCACCGTAGT_Stem</th>\n",
       "      <th>B1_AAACGGCTGATAGA_TA.Early</th>\n",
       "      <th>B1_AAACTTGAAGAGTA_Enterocyte.Mature.Proximal</th>\n",
       "      <th>B1_AAACTTGACCACAA_TA.G1</th>\n",
       "      <th>B1_AAAGACGATTGTCT_Enterocyte.Mature.Proximal</th>\n",
       "      <th>...</th>\n",
       "      <th>B1_TTTAGAGAACGGAG_Enterocyte.Immature.Distal</th>\n",
       "      <th>B1_TTTAGAGAGGAAAT_Stem</th>\n",
       "      <th>B1_TTTAGGCTCTCTTA_Paneth</th>\n",
       "      <th>B1_TTTCACGAAGTGTC_TA.Early</th>\n",
       "      <th>B1_TTTCACGACACACA_Enterocyte.Progenitor.Early</th>\n",
       "      <th>B1_TTTCACGAGAGGCA_Stem</th>\n",
       "      <th>B1_TTTCCAGAACGCTA_Goblet</th>\n",
       "      <th>B1_TTTCCAGATGCAAC_Enterocyte.Progenitor</th>\n",
       "      <th>B1_TTTCGAACTACTGG_Stem</th>\n",
       "      <th>B1_TTTCTACTTCACCC_Enterocyte.Progenitor.Late</th>\n",
       "    </tr>\n",
       "  </thead>\n",
       "  <tbody>\n",
       "    <tr>\n",
       "      <th>Mrpl15</th>\n",
       "      <td>2</td>\n",
       "      <td>1</td>\n",
       "      <td>2</td>\n",
       "      <td>2</td>\n",
       "      <td>0</td>\n",
       "      <td>4</td>\n",
       "      <td>0</td>\n",
       "      <td>1</td>\n",
       "      <td>4</td>\n",
       "      <td>0</td>\n",
       "      <td>...</td>\n",
       "      <td>0</td>\n",
       "      <td>3</td>\n",
       "      <td>1</td>\n",
       "      <td>1</td>\n",
       "      <td>0</td>\n",
       "      <td>4</td>\n",
       "      <td>2</td>\n",
       "      <td>3</td>\n",
       "      <td>0</td>\n",
       "      <td>3</td>\n",
       "    </tr>\n",
       "    <tr>\n",
       "      <th>Lypla1</th>\n",
       "      <td>2</td>\n",
       "      <td>0</td>\n",
       "      <td>0</td>\n",
       "      <td>1</td>\n",
       "      <td>0</td>\n",
       "      <td>0</td>\n",
       "      <td>0</td>\n",
       "      <td>0</td>\n",
       "      <td>1</td>\n",
       "      <td>0</td>\n",
       "      <td>...</td>\n",
       "      <td>0</td>\n",
       "      <td>1</td>\n",
       "      <td>0</td>\n",
       "      <td>1</td>\n",
       "      <td>0</td>\n",
       "      <td>0</td>\n",
       "      <td>3</td>\n",
       "      <td>0</td>\n",
       "      <td>0</td>\n",
       "      <td>3</td>\n",
       "    </tr>\n",
       "    <tr>\n",
       "      <th>Tcea1</th>\n",
       "      <td>0</td>\n",
       "      <td>0</td>\n",
       "      <td>0</td>\n",
       "      <td>0</td>\n",
       "      <td>0</td>\n",
       "      <td>0</td>\n",
       "      <td>0</td>\n",
       "      <td>0</td>\n",
       "      <td>0</td>\n",
       "      <td>0</td>\n",
       "      <td>...</td>\n",
       "      <td>0</td>\n",
       "      <td>1</td>\n",
       "      <td>0</td>\n",
       "      <td>0</td>\n",
       "      <td>0</td>\n",
       "      <td>0</td>\n",
       "      <td>0</td>\n",
       "      <td>2</td>\n",
       "      <td>0</td>\n",
       "      <td>1</td>\n",
       "    </tr>\n",
       "    <tr>\n",
       "      <th>Atp6v1h</th>\n",
       "      <td>0</td>\n",
       "      <td>0</td>\n",
       "      <td>0</td>\n",
       "      <td>0</td>\n",
       "      <td>0</td>\n",
       "      <td>0</td>\n",
       "      <td>0</td>\n",
       "      <td>0</td>\n",
       "      <td>0</td>\n",
       "      <td>0</td>\n",
       "      <td>...</td>\n",
       "      <td>0</td>\n",
       "      <td>0</td>\n",
       "      <td>0</td>\n",
       "      <td>0</td>\n",
       "      <td>0</td>\n",
       "      <td>0</td>\n",
       "      <td>0</td>\n",
       "      <td>0</td>\n",
       "      <td>0</td>\n",
       "      <td>0</td>\n",
       "    </tr>\n",
       "    <tr>\n",
       "      <th>Rb1cc1</th>\n",
       "      <td>0</td>\n",
       "      <td>0</td>\n",
       "      <td>0</td>\n",
       "      <td>0</td>\n",
       "      <td>0</td>\n",
       "      <td>0</td>\n",
       "      <td>0</td>\n",
       "      <td>0</td>\n",
       "      <td>0</td>\n",
       "      <td>0</td>\n",
       "      <td>...</td>\n",
       "      <td>0</td>\n",
       "      <td>0</td>\n",
       "      <td>0</td>\n",
       "      <td>0</td>\n",
       "      <td>0</td>\n",
       "      <td>0</td>\n",
       "      <td>0</td>\n",
       "      <td>0</td>\n",
       "      <td>2</td>\n",
       "      <td>0</td>\n",
       "    </tr>\n",
       "  </tbody>\n",
       "</table>\n",
       "<p>5 rows × 1385 columns</p>\n",
       "</div>"
      ],
      "text/plain": [
       "         B1_AAACATTGTTTGGG_Enterocyte.Immature.Distal  B1_AAACCGTGCCAAGT_Tuft  \\\n",
       "Mrpl15                                              2                       1   \n",
       "Lypla1                                              2                       0   \n",
       "Tcea1                                               0                       0   \n",
       "Atp6v1h                                             0                       0   \n",
       "Rb1cc1                                              0                       0   \n",
       "\n",
       "         B1_AAACGCACAGCCTA_Goblet  B1_AAACGCACCAGATC_Endocrine  \\\n",
       "Mrpl15                          2                            2   \n",
       "Lypla1                          0                            1   \n",
       "Tcea1                           0                            0   \n",
       "Atp6v1h                         0                            0   \n",
       "Rb1cc1                          0                            0   \n",
       "\n",
       "         B1_AAACGCACCGCCTT_Stem  B1_AAACGCACCGTAGT_Stem  \\\n",
       "Mrpl15                        0                       4   \n",
       "Lypla1                        0                       0   \n",
       "Tcea1                         0                       0   \n",
       "Atp6v1h                       0                       0   \n",
       "Rb1cc1                        0                       0   \n",
       "\n",
       "         B1_AAACGGCTGATAGA_TA.Early  \\\n",
       "Mrpl15                            0   \n",
       "Lypla1                            0   \n",
       "Tcea1                             0   \n",
       "Atp6v1h                           0   \n",
       "Rb1cc1                            0   \n",
       "\n",
       "         B1_AAACTTGAAGAGTA_Enterocyte.Mature.Proximal  \\\n",
       "Mrpl15                                              1   \n",
       "Lypla1                                              0   \n",
       "Tcea1                                               0   \n",
       "Atp6v1h                                             0   \n",
       "Rb1cc1                                              0   \n",
       "\n",
       "         B1_AAACTTGACCACAA_TA.G1  \\\n",
       "Mrpl15                         4   \n",
       "Lypla1                         1   \n",
       "Tcea1                          0   \n",
       "Atp6v1h                        0   \n",
       "Rb1cc1                         0   \n",
       "\n",
       "         B1_AAAGACGATTGTCT_Enterocyte.Mature.Proximal  \\\n",
       "Mrpl15                                              0   \n",
       "Lypla1                                              0   \n",
       "Tcea1                                               0   \n",
       "Atp6v1h                                             0   \n",
       "Rb1cc1                                              0   \n",
       "\n",
       "                             ...                       \\\n",
       "Mrpl15                       ...                        \n",
       "Lypla1                       ...                        \n",
       "Tcea1                        ...                        \n",
       "Atp6v1h                      ...                        \n",
       "Rb1cc1                       ...                        \n",
       "\n",
       "         B1_TTTAGAGAACGGAG_Enterocyte.Immature.Distal  B1_TTTAGAGAGGAAAT_Stem  \\\n",
       "Mrpl15                                              0                       3   \n",
       "Lypla1                                              0                       1   \n",
       "Tcea1                                               0                       1   \n",
       "Atp6v1h                                             0                       0   \n",
       "Rb1cc1                                              0                       0   \n",
       "\n",
       "         B1_TTTAGGCTCTCTTA_Paneth  B1_TTTCACGAAGTGTC_TA.Early  \\\n",
       "Mrpl15                          1                           1   \n",
       "Lypla1                          0                           1   \n",
       "Tcea1                           0                           0   \n",
       "Atp6v1h                         0                           0   \n",
       "Rb1cc1                          0                           0   \n",
       "\n",
       "         B1_TTTCACGACACACA_Enterocyte.Progenitor.Early  \\\n",
       "Mrpl15                                               0   \n",
       "Lypla1                                               0   \n",
       "Tcea1                                                0   \n",
       "Atp6v1h                                              0   \n",
       "Rb1cc1                                               0   \n",
       "\n",
       "         B1_TTTCACGAGAGGCA_Stem  B1_TTTCCAGAACGCTA_Goblet  \\\n",
       "Mrpl15                        4                         2   \n",
       "Lypla1                        0                         3   \n",
       "Tcea1                         0                         0   \n",
       "Atp6v1h                       0                         0   \n",
       "Rb1cc1                        0                         0   \n",
       "\n",
       "         B1_TTTCCAGATGCAAC_Enterocyte.Progenitor  B1_TTTCGAACTACTGG_Stem  \\\n",
       "Mrpl15                                         3                       0   \n",
       "Lypla1                                         0                       0   \n",
       "Tcea1                                          2                       0   \n",
       "Atp6v1h                                        0                       0   \n",
       "Rb1cc1                                         0                       2   \n",
       "\n",
       "         B1_TTTCTACTTCACCC_Enterocyte.Progenitor.Late  \n",
       "Mrpl15                                              3  \n",
       "Lypla1                                              3  \n",
       "Tcea1                                               1  \n",
       "Atp6v1h                                             0  \n",
       "Rb1cc1                                              0  \n",
       "\n",
       "[5 rows x 1385 columns]"
      ]
     },
     "execution_count": 26,
     "metadata": {},
     "output_type": "execute_result"
    }
   ],
   "source": [
    "counts_filtered = raw_counts.loc[genes_to_keep]\n",
    "\n",
    "#How many genes are we left with?\n",
    "print(counts_filtered.shape)\n",
    "counts_filtered.head()"
   ]
  },
  {
   "cell_type": "markdown",
   "metadata": {},
   "source": [
    "**How many UMIs are detected per cell?**\n",
    "\n",
    "In this dataframe, the number of UMIs detected is the sum of the columns. Remember we summed the rows before. How do you get the column sums? Change the axis level!"
   ]
  },
  {
   "cell_type": "code",
   "execution_count": 30,
   "metadata": {},
   "outputs": [
    {
     "data": {
      "text/plain": [
       "B1_AAACATTGTTTGGG_Enterocyte.Immature.Distal    5879\n",
       "B1_AAACCGTGCCAAGT_Tuft                          2726\n",
       "B1_AAACGCACAGCCTA_Goblet                        7517\n",
       "B1_AAACGCACCAGATC_Endocrine                     8071\n",
       "B1_AAACGCACCGCCTT_Stem                          6518\n",
       "dtype: int64"
      ]
     },
     "execution_count": 30,
     "metadata": {},
     "output_type": "execute_result"
    }
   ],
   "source": [
    "counts_filtered.sum(axis=0).head()"
   ]
  },
  {
   "cell_type": "markdown",
   "metadata": {},
   "source": [
    "Let's make a histogram of these counts so we can see how many UMIs are expressed in all of our cells."
   ]
  },
  {
   "cell_type": "code",
   "execution_count": 32,
   "metadata": {},
   "outputs": [
    {
     "name": "stderr",
     "output_type": "stream",
     "text": [
      "/home/ecwheele/anaconda2/envs/cshl-sca-2017/lib/python3.6/site-packages/matplotlib/font_manager.py:1297: UserWarning: findfont: Font family ['sans-serif'] not found. Falling back to DejaVu Sans\n",
      "  (prop.get_family(), self.defaultFamily[fontext]))\n"
     ]
    },
    {
     "data": {
      "image/png": "[encoded data removed]",
      "text/plain": [
       "<matplotlib.figure.Figure at 0x2afb090ad2e8>"
      ]
     },
     "metadata": {},
     "output_type": "display_data"
    }
   ],
   "source": [
    "#make the background color white (default is grey)\n",
    "sns.set_style(\"whitegrid\")\n",
    "\n",
    "#Histogram of the sums we calculated above. Increase the number of bins for higher resolution.\n",
    "#What happens if you use different bin sizes? Try it out!\n",
    "plt.hist(counts_filtered.sum(axis=0), bins=50)\n",
    "\n",
    "#Give the plot an xlabel and a title\n",
    "plt.xlabel(\"number of UMIs per cell\")\n",
    "plt.title('histogram of UMI counts per cell')\n",
    "\n",
    "#This will prevent any text from being printed out other than your plot. \n",
    "#Sometimes these functions automatically print a lot of things that are annoying.\n",
    "plt.show()"
   ]
  },
  {
   "cell_type": "markdown",
   "metadata": {},
   "source": [
    "Do these counts look reasonable? Are there any cells that we should filter out? We can also display this as a boxplot. Or a voilinplot. Check out the code below."
   ]
  },
  {
   "cell_type": "code",
   "execution_count": 39,
   "metadata": {},
   "outputs": [
    {
     "data": {
      "text/plain": [
       "<matplotlib.text.Text at 0x2afb099aec88>"
      ]
     },
     "execution_count": 39,
     "metadata": {},
     "output_type": "execute_result"
    },
    {
     "name": "stderr",
     "output_type": "stream",
     "text": [
      "/home/ecwheele/anaconda2/envs/cshl-sca-2017/lib/python3.6/site-packages/matplotlib/font_manager.py:1297: UserWarning: findfont: Font family ['sans-serif'] not found. Falling back to DejaVu Sans\n",
      "  (prop.get_family(), self.defaultFamily[fontext]))\n"
     ]
    },
    {
     "data": {
      "image/png": "[encoded data removed]",
      "text/plain": [
       "<matplotlib.figure.Figure at 0x2afb08c967b8>"
      ]
     },
     "metadata": {},
     "output_type": "display_data"
    }
   ],
   "source": [
    "#Making axis labels with seaborn plots is a little\n",
    "\n",
    "g = sns.boxplot(counts_filtered.sum(axis=0), orient='v')\n",
    "g.set_ylabel(\"UMI counts per cell\")"
   ]
  },
  {
   "cell_type": "code",
   "execution_count": 40,
   "metadata": {},
   "outputs": [
    {
     "data": {
      "text/plain": [
       "<matplotlib.text.Text at 0x2afb304c4c88>"
      ]
     },
     "execution_count": 40,
     "metadata": {},
     "output_type": "execute_result"
    },
    {
     "name": "stderr",
     "output_type": "stream",
     "text": [
      "/home/ecwheele/anaconda2/envs/cshl-sca-2017/lib/python3.6/site-packages/matplotlib/font_manager.py:1297: UserWarning: findfont: Font family ['sans-serif'] not found. Falling back to DejaVu Sans\n",
      "  (prop.get_family(), self.defaultFamily[fontext]))\n"
     ]
    },
    {
     "data": {
      "image/png": "[encoded data removed]",
      "text/plain": [
       "<matplotlib.figure.Figure at 0x2afb0996f588>"
      ]
     },
     "metadata": {},
     "output_type": "display_data"
    }
   ],
   "source": [
    "g = sns.violinplot(counts_filtered.sum(axis=0), orient='v')\n",
    "g.set_ylabel(\"UMI counts per cell\")"
   ]
  },
  {
   "cell_type": "markdown",
   "metadata": {},
   "source": [
    "**Exercise**\n",
    "\n",
    "Make a histogram, boxplot, and violoinplot for the total counts measured for each gene (instead of cells). What do you notice? "
   ]
  },
  {
   "cell_type": "markdown",
   "metadata": {},
   "source": [
    "**Save Filtered DataFrame**\n",
    "\n",
    "Let's save this new matrix as counts_filtered so we can load it in later for downstream analyses. We will use the pandas function to_csv"
   ]
  },
  {
   "cell_type": "code",
   "execution_count": 38,
   "metadata": {},
   "outputs": [],
   "source": [
    "save_dir = \"/home/ucsd-train02/projects/single_cell_intestine/results/\"\n",
    "\n",
    "counts_filtered.to_csv(save_dir+\"counts_filtered.csv\")"
   ]
  }
 ],
 "metadata": {
  "kernelspec": {
   "display_name": "Python 3 (cshl-sca-2017)",
   "language": "python",
   "name": "python3"
  },
  "language_info": {
   "codemirror_mode": {
    "name": "ipython",
    "version": 3
   },
   "file_extension": ".py",
   "mimetype": "text/x-python",
   "name": "python",
   "nbconvert_exporter": "python",
   "pygments_lexer": "ipython3",
   "version": "3.6.1"
  }
 },
 "nbformat": 4,
 "nbformat_minor": 1
}
