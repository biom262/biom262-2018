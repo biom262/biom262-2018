{
 "cells": [
  {
   "cell_type": "markdown",
   "metadata": {},
   "source": [
    "# Installs\n",
    "**1) Create anaconda environment with python3**\n",
    "\n",
    "    conda create --yes -n cmm262-py3 python=3 scipy numpy jupyter scikit-learn numpy matplotlib seaborn pandas statsmodels seaborn ipykernel\n",
    "    \n",
    "This will install a bunch of packages into it's own isolated environment (and not interfere with anything you have installed so far). \n",
    "\n",
    "To activate this environment. Type:\n",
    "\n",
    "    source activate cmm262-py3\n",
    "    \n",
    "Notice the name of this environment is what we provided in the -n flag above. \n",
    "\n",
    "Now your command line prompt should begin with (cmm262-py3) before your TSCC information. \n",
    "\n",
    "**2) Install phenograph in your environment**\n",
    "\n",
    "We have to use pip to install [phenograph](https://github.com/jacoblevine/PhenoGraph). \n",
    "\n",
    "    pip install git+https://github.com/jacoblevine/phenograph.git\n",
    "    \n",
    "**3) Add this environment as a kernel in jupyter**\n",
    "\n",
    "To access all these packages in jupyter, we need to make a new kernel from this environment. \n",
    "\n",
    "    python -m ipykernel install --user --display-name \"Python 3 (cmm262)\"\n",
    "    \n",
    "**4) Check if it worked!**\n",
    "\n",
    "Open a new notebook using the Python3 cmm262 kernel. "
   ]
  },
  {
   "cell_type": "markdown",
   "metadata": {},
   "source": [
    "# Organizing folders\n",
    "\n",
    "**1) Make new folder for our analyses**\n",
    "\n",
    "I would recommend putting a folder in your home directory where we will save all the results from these analyses. We will also softlink the data folder into that directory for easy access to the data. Let's make a new directory in your projects folder. \n",
    "\n",
    "    cd ~/projects\n",
    "    \n",
    "    mkdir single_cell_intestine\n",
    "    \n",
    "Move into that directory and make a folder for raw data (softlink) and processed data\n",
    "\n",
    "    cd single_cell_intestine\n",
    "    \n",
    "    mkdir raw_data\n",
    "    \n",
    "    cd raw_data\n",
    "    \n",
    "    ln -s /oasis/tscc/scratch/biom200/cmm262/single_cell/raw_data/*.txt ./\n",
    "    "
   ]
  },
  {
   "cell_type": "markdown",
   "metadata": {},
   "source": [
    "# Optional - Seurat for easy analysis of 10x data\n",
    "\n",
    "We will not be using Seurat in this course because it has a lot of \"pre-cooked\" analyses and our goals are to delve deeper into each step to understand what is happening behind the scenes. However, it is a very useful tool to get an easy first-pass look at your data. Especially if you have sequenced with 10X, it can very easily read the output from the CellRanger pipeline. To install and use Seurat in a R notebook through jupyter, follow the comands below. We will not be using this kernel in class, this is for users with their own data they would like to analyze.\n",
    "\n",
    "    \n",
    "\n"
   ]
  },
  {
   "cell_type": "code",
   "execution_count": null,
   "metadata": {},
   "outputs": [],
   "source": []
  }
 ],
 "metadata": {
  "kernelspec": {
   "display_name": "python2-base",
   "language": "python",
   "name": "python2"
  },
  "language_info": {
   "codemirror_mode": {
    "name": "ipython",
    "version": 2
   },
   "file_extension": ".py",
   "mimetype": "text/x-python",
   "name": "python",
   "nbconvert_exporter": "python",
   "pygments_lexer": "ipython2",
   "version": "2.7.12"
  }
 },
 "nbformat": 4,
 "nbformat_minor": 1
}
