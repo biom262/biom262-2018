{
 "cells": [
  {
   "cell_type": "code",
   "execution_count": 1,
   "metadata": {
    "collapsed": true
   },
   "outputs": [],
   "source": [
    "import pandas as pd"
   ]
  },
  {
   "cell_type": "code",
   "execution_count": 3,
   "metadata": {
    "collapsed": false
   },
   "outputs": [
    {
     "data": {
      "text/html": [
       "<div>\n",
       "<table border=\"1\" class=\"dataframe\">\n",
       "  <thead>\n",
       "    <tr style=\"text-align: right;\">\n",
       "      <th></th>\n",
       "      <th>baseMean</th>\n",
       "      <th>log2FoldChange</th>\n",
       "      <th>lfcSE</th>\n",
       "      <th>stat</th>\n",
       "      <th>pvalue</th>\n",
       "      <th>padj</th>\n",
       "    </tr>\n",
       "  </thead>\n",
       "  <tbody>\n",
       "    <tr>\n",
       "      <th>ENSG00000227232.4</th>\n",
       "      <td>69.041623</td>\n",
       "      <td>0.026251</td>\n",
       "      <td>0.305856</td>\n",
       "      <td>0.085829</td>\n",
       "      <td>0.931602</td>\n",
       "      <td>0.963849</td>\n",
       "    </tr>\n",
       "    <tr>\n",
       "      <th>ENSG00000237683.5</th>\n",
       "      <td>22.458930</td>\n",
       "      <td>0.242882</td>\n",
       "      <td>0.437941</td>\n",
       "      <td>0.554600</td>\n",
       "      <td>0.579168</td>\n",
       "      <td>0.726200</td>\n",
       "    </tr>\n",
       "    <tr>\n",
       "      <th>ENSG00000239906.1</th>\n",
       "      <td>6.378754</td>\n",
       "      <td>0.058974</td>\n",
       "      <td>0.499243</td>\n",
       "      <td>0.118128</td>\n",
       "      <td>0.905967</td>\n",
       "      <td>0.949592</td>\n",
       "    </tr>\n",
       "    <tr>\n",
       "      <th>ENSG00000241860.2</th>\n",
       "      <td>32.307452</td>\n",
       "      <td>0.461432</td>\n",
       "      <td>0.389685</td>\n",
       "      <td>1.184116</td>\n",
       "      <td>0.236367</td>\n",
       "      <td>0.390991</td>\n",
       "    </tr>\n",
       "    <tr>\n",
       "      <th>ENSG00000228463.4</th>\n",
       "      <td>68.649304</td>\n",
       "      <td>0.095749</td>\n",
       "      <td>0.303921</td>\n",
       "      <td>0.315044</td>\n",
       "      <td>0.752728</td>\n",
       "      <td>0.851985</td>\n",
       "    </tr>\n",
       "  </tbody>\n",
       "</table>\n",
       "</div>"
      ],
      "text/plain": [
       "                    baseMean  log2FoldChange     lfcSE      stat    pvalue  \\\n",
       "ENSG00000227232.4  69.041623        0.026251  0.305856  0.085829  0.931602   \n",
       "ENSG00000237683.5  22.458930        0.242882  0.437941  0.554600  0.579168   \n",
       "ENSG00000239906.1   6.378754        0.058974  0.499243  0.118128  0.905967   \n",
       "ENSG00000241860.2  32.307452        0.461432  0.389685  1.184116  0.236367   \n",
       "ENSG00000228463.4  68.649304        0.095749  0.303921  0.315044  0.752728   \n",
       "\n",
       "                       padj  \n",
       "ENSG00000227232.4  0.963849  \n",
       "ENSG00000237683.5  0.726200  \n",
       "ENSG00000239906.1  0.949592  \n",
       "ENSG00000241860.2  0.390991  \n",
       "ENSG00000228463.4  0.851985  "
      ]
     },
     "execution_count": 3,
     "metadata": {},
     "output_type": "execute_result"
    }
   ],
   "source": [
    "directory = \"/oasis/tscc/scratch/biom200/cmm262/deseq2/\"\n",
    "deseq = pd.read_csv(directory+\"tardbp_deseq2_results.csv\",index_col=0)\n",
    "deseq.head()"
   ]
  },
  {
   "cell_type": "code",
   "execution_count": 4,
   "metadata": {
    "collapsed": false
   },
   "outputs": [
    {
     "data": {
      "text/html": [
       "<div>\n",
       "<table border=\"1\" class=\"dataframe\">\n",
       "  <thead>\n",
       "    <tr style=\"text-align: right;\">\n",
       "      <th></th>\n",
       "      <th>gene_name</th>\n",
       "    </tr>\n",
       "  </thead>\n",
       "  <tbody>\n",
       "    <tr>\n",
       "      <th>id</th>\n",
       "      <td>sym</td>\n",
       "    </tr>\n",
       "    <tr>\n",
       "      <th>ENSG00000223972.4</th>\n",
       "      <td>DDX11L1</td>\n",
       "    </tr>\n",
       "    <tr>\n",
       "      <th>ENSG00000227232.4</th>\n",
       "      <td>WASH7P</td>\n",
       "    </tr>\n",
       "    <tr>\n",
       "      <th>ENSG00000243485.2</th>\n",
       "      <td>MIR1302-11</td>\n",
       "    </tr>\n",
       "    <tr>\n",
       "      <th>ENSG00000237613.2</th>\n",
       "      <td>FAM138A</td>\n",
       "    </tr>\n",
       "  </tbody>\n",
       "</table>\n",
       "</div>"
      ],
      "text/plain": [
       "                    gene_name\n",
       "id                        sym\n",
       "ENSG00000223972.4     DDX11L1\n",
       "ENSG00000227232.4      WASH7P\n",
       "ENSG00000243485.2  MIR1302-11\n",
       "ENSG00000237613.2     FAM138A"
      ]
     },
     "execution_count": 4,
     "metadata": {},
     "output_type": "execute_result"
    }
   ],
   "source": [
    "gene_names = pd.read_table(\"/oasis/tscc/scratch/biom200/cmm262/gencode.v19.annotation.genenames.txt\",\n",
    "                          index_col=0, names=['gene_name'])\n",
    "gene_names.head()"
   ]
  },
  {
   "cell_type": "code",
   "execution_count": 5,
   "metadata": {
    "collapsed": false
   },
   "outputs": [
    {
     "name": "stdout",
     "output_type": "stream",
     "text": [
      "(16582, 7)\n"
     ]
    },
    {
     "data": {
      "text/html": [
       "<div>\n",
       "<table border=\"1\" class=\"dataframe\">\n",
       "  <thead>\n",
       "    <tr style=\"text-align: right;\">\n",
       "      <th></th>\n",
       "      <th>baseMean</th>\n",
       "      <th>log2FoldChange</th>\n",
       "      <th>lfcSE</th>\n",
       "      <th>stat</th>\n",
       "      <th>pvalue</th>\n",
       "      <th>padj</th>\n",
       "      <th>gene_name</th>\n",
       "    </tr>\n",
       "  </thead>\n",
       "  <tbody>\n",
       "    <tr>\n",
       "      <th>ENSG00000227232.4</th>\n",
       "      <td>69.041623</td>\n",
       "      <td>0.026251</td>\n",
       "      <td>0.305856</td>\n",
       "      <td>0.085829</td>\n",
       "      <td>0.931602</td>\n",
       "      <td>0.963849</td>\n",
       "      <td>WASH7P</td>\n",
       "    </tr>\n",
       "    <tr>\n",
       "      <th>ENSG00000237683.5</th>\n",
       "      <td>22.458930</td>\n",
       "      <td>0.242882</td>\n",
       "      <td>0.437941</td>\n",
       "      <td>0.554600</td>\n",
       "      <td>0.579168</td>\n",
       "      <td>0.726200</td>\n",
       "      <td>AL627309.1</td>\n",
       "    </tr>\n",
       "    <tr>\n",
       "      <th>ENSG00000239906.1</th>\n",
       "      <td>6.378754</td>\n",
       "      <td>0.058974</td>\n",
       "      <td>0.499243</td>\n",
       "      <td>0.118128</td>\n",
       "      <td>0.905967</td>\n",
       "      <td>0.949592</td>\n",
       "      <td>RP11-34P13.14</td>\n",
       "    </tr>\n",
       "    <tr>\n",
       "      <th>ENSG00000241860.2</th>\n",
       "      <td>32.307452</td>\n",
       "      <td>0.461432</td>\n",
       "      <td>0.389685</td>\n",
       "      <td>1.184116</td>\n",
       "      <td>0.236367</td>\n",
       "      <td>0.390991</td>\n",
       "      <td>RP11-34P13.13</td>\n",
       "    </tr>\n",
       "    <tr>\n",
       "      <th>ENSG00000228463.4</th>\n",
       "      <td>68.649304</td>\n",
       "      <td>0.095749</td>\n",
       "      <td>0.303921</td>\n",
       "      <td>0.315044</td>\n",
       "      <td>0.752728</td>\n",
       "      <td>0.851985</td>\n",
       "      <td>AP006222.2</td>\n",
       "    </tr>\n",
       "  </tbody>\n",
       "</table>\n",
       "</div>"
      ],
      "text/plain": [
       "                    baseMean  log2FoldChange     lfcSE      stat    pvalue  \\\n",
       "ENSG00000227232.4  69.041623        0.026251  0.305856  0.085829  0.931602   \n",
       "ENSG00000237683.5  22.458930        0.242882  0.437941  0.554600  0.579168   \n",
       "ENSG00000239906.1   6.378754        0.058974  0.499243  0.118128  0.905967   \n",
       "ENSG00000241860.2  32.307452        0.461432  0.389685  1.184116  0.236367   \n",
       "ENSG00000228463.4  68.649304        0.095749  0.303921  0.315044  0.752728   \n",
       "\n",
       "                       padj      gene_name  \n",
       "ENSG00000227232.4  0.963849         WASH7P  \n",
       "ENSG00000237683.5  0.726200     AL627309.1  \n",
       "ENSG00000239906.1  0.949592  RP11-34P13.14  \n",
       "ENSG00000241860.2  0.390991  RP11-34P13.13  \n",
       "ENSG00000228463.4  0.851985     AP006222.2  "
      ]
     },
     "execution_count": 5,
     "metadata": {},
     "output_type": "execute_result"
    }
   ],
   "source": [
    "deseq_names = deseq.join(gene_names,how=\"left\")\n",
    "print deseq_names.shape\n",
    "deseq_names.head()"
   ]
  },
  {
   "cell_type": "code",
   "execution_count": 6,
   "metadata": {
    "collapsed": false
   },
   "outputs": [
    {
     "data": {
      "text/html": [
       "<div>\n",
       "<table border=\"1\" class=\"dataframe\">\n",
       "  <thead>\n",
       "    <tr style=\"text-align: right;\">\n",
       "      <th></th>\n",
       "      <th>baseMean</th>\n",
       "      <th>log2FoldChange</th>\n",
       "      <th>lfcSE</th>\n",
       "      <th>stat</th>\n",
       "      <th>pvalue</th>\n",
       "      <th>padj</th>\n",
       "      <th>gene_name</th>\n",
       "    </tr>\n",
       "  </thead>\n",
       "  <tbody>\n",
       "    <tr>\n",
       "      <th>ENSG00000120948.11</th>\n",
       "      <td>3367.764458</td>\n",
       "      <td>-1.163006</td>\n",
       "      <td>0.094828</td>\n",
       "      <td>-12.264328</td>\n",
       "      <td>1.407753e-34</td>\n",
       "      <td>8.670479e-33</td>\n",
       "      <td>TARDBP</td>\n",
       "    </tr>\n",
       "  </tbody>\n",
       "</table>\n",
       "</div>"
      ],
      "text/plain": [
       "                       baseMean  log2FoldChange     lfcSE       stat  \\\n",
       "ENSG00000120948.11  3367.764458       -1.163006  0.094828 -12.264328   \n",
       "\n",
       "                          pvalue          padj gene_name  \n",
       "ENSG00000120948.11  1.407753e-34  8.670479e-33    TARDBP  "
      ]
     },
     "execution_count": 6,
     "metadata": {},
     "output_type": "execute_result"
    }
   ],
   "source": [
    "deseq_names.loc[deseq_names['gene_name'] == \"TARDBP\"]"
   ]
  },
  {
   "cell_type": "code",
   "execution_count": null,
   "metadata": {
    "collapsed": true
   },
   "outputs": [],
   "source": []
  }
 ],
 "metadata": {
  "kernelspec": {
   "display_name": "Python [Root]",
   "language": "python",
   "name": "Python [Root]"
  },
  "language_info": {
   "codemirror_mode": {
    "name": "ipython",
    "version": 2
   },
   "file_extension": ".py",
   "mimetype": "text/x-python",
   "name": "python",
   "nbconvert_exporter": "python",
   "pygments_lexer": "ipython2",
   "version": "2.7.12"
  }
 },
 "nbformat": 4,
 "nbformat_minor": 0
}
