{
 "cells": [
  {
   "cell_type": "markdown",
   "metadata": {},
   "source": [
    "## Processing counts for DESeq2"
   ]
  },
  {
   "cell_type": "markdown",
   "metadata": {},
   "source": [
    "Now that we have mapped our reads and ascribed genomic features to them, it is now time to process those counts for differential expression using a program called [DESeq2](\"http://bioconductor.org/packages/release/bioc/html/DESeq2.html\"). However, before we can do that, we need to \"clean\" our counts up a bit. To do so, we will organize our data through Python, in particular using a data-managing package called [Pandas](\"https://pandas.pydata.org/\"). "
   ]
  },
  {
   "cell_type": "markdown",
   "metadata": {},
   "source": [
    "To begin, we need to access a platform where we can run our code. For this, we will use Jupyter Notebooks. You can find instructions for loading a Jupyter notebook [here](\"https://github.com/biom262/biom262-2018/blob/master/Module1_Unix_RNASeq/Tutorials/How_to_load_jupyter_notebooks.ipynb\"). Once you have once set up, open a new Python Notebook [New -> Python 2] and name it someting meaningful."
   ]
  },
  {
   "cell_type": "code",
   "execution_count": 1,
   "metadata": {
    "collapsed": true
   },
   "outputs": [],
   "source": [
    "#First we will import packages that contain functions we will use here. \n",
    "\n",
    "#Pandas is a great python package for dataframe manipulation.\n",
    "import pandas as pd"
   ]
  },
  {
   "cell_type": "markdown",
   "metadata": {},
   "source": [
    "read_table is the command that will read in a tab separated file as a dataframe. See what other pandas read functions are available by pressing tab after pd.read. Auto-complete will show you all the options. \n",
    "\n",
    "We are going to set the index of the dataframe as the first column rather than an arbitrary number. (Try this function both with and without setting the index, how is it different??) If you look at the file we are loading with less on the command line, you will see that there are comments at the top of the file on lines that start with #. We need to tell pandas to ignore those when loading the dataframe. So we will use comment = \"#\".\n",
    "\n",
    "To make sure that all manipulations are doing what we expect, we will also print the shape of the dataframe (do the number of rows and columns make sense) and look at the beginning of the dataframe with df.head()"
   ]
  },
  {
   "cell_type": "code",
   "execution_count": 2,
   "metadata": {
    "collapsed": false
   },
   "outputs": [
    {
     "name": "stdout",
     "output_type": "stream",
     "text": [
      "(57820, 9)\n"
     ]
    },
    {
     "data": {
      "text/html": [
       "<div>\n",
       "<table border=\"1\" class=\"dataframe\">\n",
       "  <thead>\n",
       "    <tr style=\"text-align: right;\">\n",
       "      <th></th>\n",
       "      <th>Chr</th>\n",
       "      <th>Start</th>\n",
       "      <th>End</th>\n",
       "      <th>Strand</th>\n",
       "      <th>Length</th>\n",
       "      <th>/home/ucsd-train40/cmm262/star_alignment/NT_shRNA_hepg2_rep1_Aligned.out.sam</th>\n",
       "      <th>/home/ucsd-train40/cmm262/star_alignment/NT_shRNA_hepg2_rep2_Aligned.out.sam</th>\n",
       "      <th>/home/ucsd-train40/cmm262/star_alignment/TARDBP_shRNA_hepg2_rep1_Aligned.out.sam</th>\n",
       "      <th>/home/ucsd-train40/cmm262/star_alignment/TARDBP_shRNA_hepg2_rep2_Aligned.out.sam</th>\n",
       "    </tr>\n",
       "    <tr>\n",
       "      <th>Geneid</th>\n",
       "      <th></th>\n",
       "      <th></th>\n",
       "      <th></th>\n",
       "      <th></th>\n",
       "      <th></th>\n",
       "      <th></th>\n",
       "      <th></th>\n",
       "      <th></th>\n",
       "      <th></th>\n",
       "    </tr>\n",
       "  </thead>\n",
       "  <tbody>\n",
       "    <tr>\n",
       "      <th>ENSG00000223972.4</th>\n",
       "      <td>chr1;chr1;chr1;chr1;chr1;chr1;chr1;chr1;chr1;c...</td>\n",
       "      <td>11869;11872;11874;12010;12179;12595;12613;1261...</td>\n",
       "      <td>12227;12227;12227;12057;12227;12721;12697;1272...</td>\n",
       "      <td>+;+;+;+;+;+;+;+;+;+;+;+;+;+;+;+</td>\n",
       "      <td>1756</td>\n",
       "      <td>0</td>\n",
       "      <td>0</td>\n",
       "      <td>0</td>\n",
       "      <td>0</td>\n",
       "    </tr>\n",
       "    <tr>\n",
       "      <th>ENSG00000227232.4</th>\n",
       "      <td>chr1;chr1;chr1;chr1;chr1;chr1;chr1;chr1;chr1;c...</td>\n",
       "      <td>14363;14363;14363;14404;14411;14970;14970;1497...</td>\n",
       "      <td>14829;14829;14829;14501;14502;15038;15038;1503...</td>\n",
       "      <td>-;-;-;-;-;-;-;-;-;-;-;-;-;-;-;-;-;-;-;-;-;-;-;...</td>\n",
       "      <td>2073</td>\n",
       "      <td>61</td>\n",
       "      <td>92</td>\n",
       "      <td>69</td>\n",
       "      <td>58</td>\n",
       "    </tr>\n",
       "    <tr>\n",
       "      <th>ENSG00000243485.2</th>\n",
       "      <td>chr1;chr1;chr1;chr1;chr1;chr1</td>\n",
       "      <td>29554;30267;30366;30564;30976;30976</td>\n",
       "      <td>30039;30667;30503;30667;31109;31097</td>\n",
       "      <td>+;+;+;+;+;+</td>\n",
       "      <td>1021</td>\n",
       "      <td>0</td>\n",
       "      <td>0</td>\n",
       "      <td>0</td>\n",
       "      <td>0</td>\n",
       "    </tr>\n",
       "    <tr>\n",
       "      <th>ENSG00000237613.2</th>\n",
       "      <td>chr1;chr1;chr1;chr1;chr1</td>\n",
       "      <td>34554;35245;35277;35721;35721</td>\n",
       "      <td>35174;35481;35481;36081;36073</td>\n",
       "      <td>-;-;-;-;-</td>\n",
       "      <td>1219</td>\n",
       "      <td>0</td>\n",
       "      <td>0</td>\n",
       "      <td>0</td>\n",
       "      <td>0</td>\n",
       "    </tr>\n",
       "    <tr>\n",
       "      <th>ENSG00000268020.2</th>\n",
       "      <td>chr1;chr1;chr1</td>\n",
       "      <td>52473;53049;54830</td>\n",
       "      <td>53312;53067;54936</td>\n",
       "      <td>+;+;+</td>\n",
       "      <td>947</td>\n",
       "      <td>0</td>\n",
       "      <td>0</td>\n",
       "      <td>0</td>\n",
       "      <td>0</td>\n",
       "    </tr>\n",
       "  </tbody>\n",
       "</table>\n",
       "</div>"
      ],
      "text/plain": [
       "                                                                 Chr  \\\n",
       "Geneid                                                                 \n",
       "ENSG00000223972.4  chr1;chr1;chr1;chr1;chr1;chr1;chr1;chr1;chr1;c...   \n",
       "ENSG00000227232.4  chr1;chr1;chr1;chr1;chr1;chr1;chr1;chr1;chr1;c...   \n",
       "ENSG00000243485.2                      chr1;chr1;chr1;chr1;chr1;chr1   \n",
       "ENSG00000237613.2                           chr1;chr1;chr1;chr1;chr1   \n",
       "ENSG00000268020.2                                     chr1;chr1;chr1   \n",
       "\n",
       "                                                               Start  \\\n",
       "Geneid                                                                 \n",
       "ENSG00000223972.4  11869;11872;11874;12010;12179;12595;12613;1261...   \n",
       "ENSG00000227232.4  14363;14363;14363;14404;14411;14970;14970;1497...   \n",
       "ENSG00000243485.2                29554;30267;30366;30564;30976;30976   \n",
       "ENSG00000237613.2                      34554;35245;35277;35721;35721   \n",
       "ENSG00000268020.2                                  52473;53049;54830   \n",
       "\n",
       "                                                                 End  \\\n",
       "Geneid                                                                 \n",
       "ENSG00000223972.4  12227;12227;12227;12057;12227;12721;12697;1272...   \n",
       "ENSG00000227232.4  14829;14829;14829;14501;14502;15038;15038;1503...   \n",
       "ENSG00000243485.2                30039;30667;30503;30667;31109;31097   \n",
       "ENSG00000237613.2                      35174;35481;35481;36081;36073   \n",
       "ENSG00000268020.2                                  53312;53067;54936   \n",
       "\n",
       "                                                              Strand  Length  \\\n",
       "Geneid                                                                         \n",
       "ENSG00000223972.4                    +;+;+;+;+;+;+;+;+;+;+;+;+;+;+;+    1756   \n",
       "ENSG00000227232.4  -;-;-;-;-;-;-;-;-;-;-;-;-;-;-;-;-;-;-;-;-;-;-;...    2073   \n",
       "ENSG00000243485.2                                        +;+;+;+;+;+    1021   \n",
       "ENSG00000237613.2                                          -;-;-;-;-    1219   \n",
       "ENSG00000268020.2                                              +;+;+     947   \n",
       "\n",
       "                   /home/ucsd-train40/cmm262/star_alignment/NT_shRNA_hepg2_rep1_Aligned.out.sam  \\\n",
       "Geneid                                                                                            \n",
       "ENSG00000223972.4                                                  0                              \n",
       "ENSG00000227232.4                                                 61                              \n",
       "ENSG00000243485.2                                                  0                              \n",
       "ENSG00000237613.2                                                  0                              \n",
       "ENSG00000268020.2                                                  0                              \n",
       "\n",
       "                   /home/ucsd-train40/cmm262/star_alignment/NT_shRNA_hepg2_rep2_Aligned.out.sam  \\\n",
       "Geneid                                                                                            \n",
       "ENSG00000223972.4                                                  0                              \n",
       "ENSG00000227232.4                                                 92                              \n",
       "ENSG00000243485.2                                                  0                              \n",
       "ENSG00000237613.2                                                  0                              \n",
       "ENSG00000268020.2                                                  0                              \n",
       "\n",
       "                   /home/ucsd-train40/cmm262/star_alignment/TARDBP_shRNA_hepg2_rep1_Aligned.out.sam  \\\n",
       "Geneid                                                                                                \n",
       "ENSG00000223972.4                                                  0                                  \n",
       "ENSG00000227232.4                                                 69                                  \n",
       "ENSG00000243485.2                                                  0                                  \n",
       "ENSG00000237613.2                                                  0                                  \n",
       "ENSG00000268020.2                                                  0                                  \n",
       "\n",
       "                   /home/ucsd-train40/cmm262/star_alignment/TARDBP_shRNA_hepg2_rep2_Aligned.out.sam  \n",
       "Geneid                                                                                               \n",
       "ENSG00000223972.4                                                  0                                 \n",
       "ENSG00000227232.4                                                 58                                 \n",
       "ENSG00000243485.2                                                  0                                 \n",
       "ENSG00000237613.2                                                  0                                 \n",
       "ENSG00000268020.2                                                  0                                 "
      ]
     },
     "execution_count": 2,
     "metadata": {},
     "output_type": "execute_result"
    }
   ],
   "source": [
    "counts = pd.read_table(\"/home/ucsd-train40/cmm262/featurecounts/featurecounts.txt\", index_col=0,\n",
    "                      comment=\"#\")\n",
    "print counts.shape\n",
    "counts.head()"
   ]
  },
  {
   "cell_type": "code",
   "execution_count": 3,
   "metadata": {
    "collapsed": false
   },
   "outputs": [
    {
     "name": "stdout",
     "output_type": "stream",
     "text": [
      "(57820, 5)\n"
     ]
    },
    {
     "data": {
      "text/html": [
       "<div>\n",
       "<table border=\"1\" class=\"dataframe\">\n",
       "  <thead>\n",
       "    <tr style=\"text-align: right;\">\n",
       "      <th></th>\n",
       "      <th>Length</th>\n",
       "      <th>/home/ucsd-train40/cmm262/star_alignment/NT_shRNA_hepg2_rep1_Aligned.out.sam</th>\n",
       "      <th>/home/ucsd-train40/cmm262/star_alignment/NT_shRNA_hepg2_rep2_Aligned.out.sam</th>\n",
       "      <th>/home/ucsd-train40/cmm262/star_alignment/TARDBP_shRNA_hepg2_rep1_Aligned.out.sam</th>\n",
       "      <th>/home/ucsd-train40/cmm262/star_alignment/TARDBP_shRNA_hepg2_rep2_Aligned.out.sam</th>\n",
       "    </tr>\n",
       "    <tr>\n",
       "      <th>Geneid</th>\n",
       "      <th></th>\n",
       "      <th></th>\n",
       "      <th></th>\n",
       "      <th></th>\n",
       "      <th></th>\n",
       "    </tr>\n",
       "  </thead>\n",
       "  <tbody>\n",
       "    <tr>\n",
       "      <th>ENSG00000223972.4</th>\n",
       "      <td>1756</td>\n",
       "      <td>0</td>\n",
       "      <td>0</td>\n",
       "      <td>0</td>\n",
       "      <td>0</td>\n",
       "    </tr>\n",
       "    <tr>\n",
       "      <th>ENSG00000227232.4</th>\n",
       "      <td>2073</td>\n",
       "      <td>61</td>\n",
       "      <td>92</td>\n",
       "      <td>69</td>\n",
       "      <td>58</td>\n",
       "    </tr>\n",
       "    <tr>\n",
       "      <th>ENSG00000243485.2</th>\n",
       "      <td>1021</td>\n",
       "      <td>0</td>\n",
       "      <td>0</td>\n",
       "      <td>0</td>\n",
       "      <td>0</td>\n",
       "    </tr>\n",
       "    <tr>\n",
       "      <th>ENSG00000237613.2</th>\n",
       "      <td>1219</td>\n",
       "      <td>0</td>\n",
       "      <td>0</td>\n",
       "      <td>0</td>\n",
       "      <td>0</td>\n",
       "    </tr>\n",
       "    <tr>\n",
       "      <th>ENSG00000268020.2</th>\n",
       "      <td>947</td>\n",
       "      <td>0</td>\n",
       "      <td>0</td>\n",
       "      <td>0</td>\n",
       "      <td>0</td>\n",
       "    </tr>\n",
       "  </tbody>\n",
       "</table>\n",
       "</div>"
      ],
      "text/plain": [
       "                   Length  \\\n",
       "Geneid                      \n",
       "ENSG00000223972.4    1756   \n",
       "ENSG00000227232.4    2073   \n",
       "ENSG00000243485.2    1021   \n",
       "ENSG00000237613.2    1219   \n",
       "ENSG00000268020.2     947   \n",
       "\n",
       "                   /home/ucsd-train40/cmm262/star_alignment/NT_shRNA_hepg2_rep1_Aligned.out.sam  \\\n",
       "Geneid                                                                                            \n",
       "ENSG00000223972.4                                                  0                              \n",
       "ENSG00000227232.4                                                 61                              \n",
       "ENSG00000243485.2                                                  0                              \n",
       "ENSG00000237613.2                                                  0                              \n",
       "ENSG00000268020.2                                                  0                              \n",
       "\n",
       "                   /home/ucsd-train40/cmm262/star_alignment/NT_shRNA_hepg2_rep2_Aligned.out.sam  \\\n",
       "Geneid                                                                                            \n",
       "ENSG00000223972.4                                                  0                              \n",
       "ENSG00000227232.4                                                 92                              \n",
       "ENSG00000243485.2                                                  0                              \n",
       "ENSG00000237613.2                                                  0                              \n",
       "ENSG00000268020.2                                                  0                              \n",
       "\n",
       "                   /home/ucsd-train40/cmm262/star_alignment/TARDBP_shRNA_hepg2_rep1_Aligned.out.sam  \\\n",
       "Geneid                                                                                                \n",
       "ENSG00000223972.4                                                  0                                  \n",
       "ENSG00000227232.4                                                 69                                  \n",
       "ENSG00000243485.2                                                  0                                  \n",
       "ENSG00000237613.2                                                  0                                  \n",
       "ENSG00000268020.2                                                  0                                  \n",
       "\n",
       "                   /home/ucsd-train40/cmm262/star_alignment/TARDBP_shRNA_hepg2_rep2_Aligned.out.sam  \n",
       "Geneid                                                                                               \n",
       "ENSG00000223972.4                                                  0                                 \n",
       "ENSG00000227232.4                                                 58                                 \n",
       "ENSG00000243485.2                                                  0                                 \n",
       "ENSG00000237613.2                                                  0                                 \n",
       "ENSG00000268020.2                                                  0                                 "
      ]
     },
     "execution_count": 3,
     "metadata": {},
     "output_type": "execute_result"
    }
   ],
   "source": [
    "#This is the syntax to make a list in python. Lists are surrounded by square brackets. \n",
    "\n",
    "#We don't care about a few columns in the dataframe, so let's get rid of them.\n",
    "\n",
    "cols_to_drop = ['Chr','Start','End','Strand']\n",
    "\n",
    "#The command to get rid of rows is df.drop\n",
    "#We provide a list of columns to drop, and the axis that contains these values (1 is columns, 0 is rows)\n",
    "counts = counts.drop(cols_to_drop, axis=1)\n",
    "print counts.shape\n",
    "counts.head()"
   ]
  },
  {
   "cell_type": "markdown",
   "metadata": {},
   "source": [
    "Notice how dropping 4 columns changed the number of rows in the dataframe. \n",
    "\n",
    "The column names are pretty annoying because they list the full path and the bam file name. Let's rename them to something shorter. We can use\n",
    "\n",
    "    counts.columns\n",
    "    \n",
    "to give us a list of column names. This is easy to copy the ones we want into a dictionary that we will make below. "
   ]
  },
  {
   "cell_type": "code",
   "execution_count": 4,
   "metadata": {
    "collapsed": false
   },
   "outputs": [
    {
     "data": {
      "text/plain": [
       "Index([u'Length',\n",
       "       u'/home/ucsd-train40/cmm262/star_alignment/NT_shRNA_hepg2_rep1_Aligned.out.sam',\n",
       "       u'/home/ucsd-train40/cmm262/star_alignment/NT_shRNA_hepg2_rep2_Aligned.out.sam',\n",
       "       u'/home/ucsd-train40/cmm262/star_alignment/TARDBP_shRNA_hepg2_rep1_Aligned.out.sam',\n",
       "       u'/home/ucsd-train40/cmm262/star_alignment/TARDBP_shRNA_hepg2_rep2_Aligned.out.sam'],\n",
       "      dtype='object')"
      ]
     },
     "execution_count": 4,
     "metadata": {},
     "output_type": "execute_result"
    }
   ],
   "source": [
    "counts.columns"
   ]
  },
  {
   "cell_type": "markdown",
   "metadata": {},
   "source": [
    "A dictionary lets us link a key:value pair. In this instance we are using a key that is the old name and a value that is the new name. We will use this pairing scheme to define all old:new column names and feed that into a function to rename columns. \n",
    "\n",
    "Dictionaries are make with {\"key\":\"value\", \"key2\":\"value2\", \"key3\":\"value3}"
   ]
  },
  {
   "cell_type": "code",
   "execution_count": 5,
   "metadata": {
    "collapsed": true
   },
   "outputs": [],
   "source": [
    "col_names = {'/home/ucsd-train40/cmm262/star_alignment/NT_shRNA_hepg2_rep1_Aligned.out.sam':\"NT_shRNA_hepg2_Rep1\",\n",
    "       '/home/ucsd-train40/cmm262/star_alignment/NT_shRNA_hepg2_rep2_Aligned.out.sam':\"NT_shRNA_hepg2_Rep2\",\n",
    "       '/home/ucsd-train40/cmm262/star_alignment/TARDBP_shRNA_hepg2_rep1_Aligned.out.sam':\"TARDBP_shRNA_hepg2_Rep1\",\n",
    "       '/home/ucsd-train40/cmm262/star_alignment/TARDBP_shRNA_hepg2_rep2_Aligned.out.sam':\"TARDBP_shRNA_hepg2_Rep2\"}"
   ]
  },
  {
   "cell_type": "markdown",
   "metadata": {},
   "source": [
    "You can put a dictionary in the rename function to rename the columns. Let's feed in the dictionary that we made called col_names. Check the shape and head of the dataframe to make sure the changes happened as you expected them to."
   ]
  },
  {
   "cell_type": "code",
   "execution_count": 6,
   "metadata": {
    "collapsed": false
   },
   "outputs": [
    {
     "name": "stdout",
     "output_type": "stream",
     "text": [
      "(57820, 5)\n"
     ]
    },
    {
     "data": {
      "text/html": [
       "<div>\n",
       "<table border=\"1\" class=\"dataframe\">\n",
       "  <thead>\n",
       "    <tr style=\"text-align: right;\">\n",
       "      <th></th>\n",
       "      <th>Length</th>\n",
       "      <th>NT_shRNA_hepg2_Rep1</th>\n",
       "      <th>NT_shRNA_hepg2_Rep2</th>\n",
       "      <th>TARDBP_shRNA_hepg2_Rep1</th>\n",
       "      <th>TARDBP_shRNA_hepg2_Rep2</th>\n",
       "    </tr>\n",
       "    <tr>\n",
       "      <th>Geneid</th>\n",
       "      <th></th>\n",
       "      <th></th>\n",
       "      <th></th>\n",
       "      <th></th>\n",
       "      <th></th>\n",
       "    </tr>\n",
       "  </thead>\n",
       "  <tbody>\n",
       "    <tr>\n",
       "      <th>ENSG00000223972.4</th>\n",
       "      <td>1756</td>\n",
       "      <td>0</td>\n",
       "      <td>0</td>\n",
       "      <td>0</td>\n",
       "      <td>0</td>\n",
       "    </tr>\n",
       "    <tr>\n",
       "      <th>ENSG00000227232.4</th>\n",
       "      <td>2073</td>\n",
       "      <td>61</td>\n",
       "      <td>92</td>\n",
       "      <td>69</td>\n",
       "      <td>58</td>\n",
       "    </tr>\n",
       "    <tr>\n",
       "      <th>ENSG00000243485.2</th>\n",
       "      <td>1021</td>\n",
       "      <td>0</td>\n",
       "      <td>0</td>\n",
       "      <td>0</td>\n",
       "      <td>0</td>\n",
       "    </tr>\n",
       "    <tr>\n",
       "      <th>ENSG00000237613.2</th>\n",
       "      <td>1219</td>\n",
       "      <td>0</td>\n",
       "      <td>0</td>\n",
       "      <td>0</td>\n",
       "      <td>0</td>\n",
       "    </tr>\n",
       "    <tr>\n",
       "      <th>ENSG00000268020.2</th>\n",
       "      <td>947</td>\n",
       "      <td>0</td>\n",
       "      <td>0</td>\n",
       "      <td>0</td>\n",
       "      <td>0</td>\n",
       "    </tr>\n",
       "  </tbody>\n",
       "</table>\n",
       "</div>"
      ],
      "text/plain": [
       "                   Length  NT_shRNA_hepg2_Rep1  NT_shRNA_hepg2_Rep2  \\\n",
       "Geneid                                                                \n",
       "ENSG00000223972.4    1756                    0                    0   \n",
       "ENSG00000227232.4    2073                   61                   92   \n",
       "ENSG00000243485.2    1021                    0                    0   \n",
       "ENSG00000237613.2    1219                    0                    0   \n",
       "ENSG00000268020.2     947                    0                    0   \n",
       "\n",
       "                   TARDBP_shRNA_hepg2_Rep1  TARDBP_shRNA_hepg2_Rep2  \n",
       "Geneid                                                               \n",
       "ENSG00000223972.4                        0                        0  \n",
       "ENSG00000227232.4                       69                       58  \n",
       "ENSG00000243485.2                        0                        0  \n",
       "ENSG00000237613.2                        0                        0  \n",
       "ENSG00000268020.2                        0                        0  "
      ]
     },
     "execution_count": 6,
     "metadata": {},
     "output_type": "execute_result"
    }
   ],
   "source": [
    "counts = counts.rename(columns = col_names)\n",
    "print counts.shape\n",
    "counts.head()"
   ]
  },
  {
   "cell_type": "markdown",
   "metadata": {},
   "source": [
    "You will notice that this dataframe has almost 58,000 genes. That's a lot. And it looks like there might be a lot with very few counts. So we are going to calculate the mean counts across all of our samples and get rid of genes that have a mean count of less than 5.\n",
    "\n",
    "You will notice that our dataframe also contains length information"
   ]
  },
  {
   "cell_type": "code",
   "execution_count": 7,
   "metadata": {
    "collapsed": false
   },
   "outputs": [
    {
     "data": {
      "text/plain": [
       "Index([u'Length', u'NT_shRNA_hepg2_Rep1', u'NT_shRNA_hepg2_Rep2',\n",
       "       u'TARDBP_shRNA_hepg2_Rep1', u'TARDBP_shRNA_hepg2_Rep2'],\n",
       "      dtype='object')"
      ]
     },
     "execution_count": 7,
     "metadata": {},
     "output_type": "execute_result"
    }
   ],
   "source": [
    "counts.columns"
   ]
  },
  {
   "cell_type": "markdown",
   "metadata": {},
   "source": [
    "Let's make a list of the columns that we want to look at when calculating the mean. We don't want to include the Length value in our mean calculation. "
   ]
  },
  {
   "cell_type": "code",
   "execution_count": 8,
   "metadata": {
    "collapsed": true
   },
   "outputs": [],
   "source": [
    "samples = [\"NT_shRNA_hepg2_Rep1\", \"NT_shRNA_hepg2_Rep2\", \"TARDBP_shRNA_hepg2_Rep1\", \"TARDBP_shRNA_hepg2_Rep2\"]"
   ]
  },
  {
   "cell_type": "markdown",
   "metadata": {},
   "source": [
    "Access only those columns by putting the list in square brackets after the name of the dataframe. Calculate mean across the rows with .mean(axis=1). Let's take a look at the first 5 results .head()"
   ]
  },
  {
   "cell_type": "code",
   "execution_count": 9,
   "metadata": {
    "collapsed": false
   },
   "outputs": [
    {
     "data": {
      "text/plain": [
       "Geneid\n",
       "ENSG00000223972.4     0.0\n",
       "ENSG00000227232.4    70.0\n",
       "ENSG00000243485.2     0.0\n",
       "ENSG00000237613.2     0.0\n",
       "ENSG00000268020.2     0.0\n",
       "dtype: float64"
      ]
     },
     "execution_count": 9,
     "metadata": {},
     "output_type": "execute_result"
    }
   ],
   "source": [
    "counts[samples].mean(axis=1).head()"
   ]
  },
  {
   "cell_type": "markdown",
   "metadata": {},
   "source": [
    "Set the filtering cutoff at 5. We want to keep genes that have a mean count value greater than 5. Use a boolean to find out which genes have a mean greater than 5. This returns a True/False array of genes to keep."
   ]
  },
  {
   "cell_type": "code",
   "execution_count": 10,
   "metadata": {
    "collapsed": false
   },
   "outputs": [
    {
     "data": {
      "text/plain": [
       "Geneid\n",
       "ENSG00000223972.4    False\n",
       "ENSG00000227232.4     True\n",
       "ENSG00000243485.2    False\n",
       "ENSG00000237613.2    False\n",
       "ENSG00000268020.2    False\n",
       "ENSG00000240361.1    False\n",
       "ENSG00000186092.4    False\n",
       "ENSG00000238009.2    False\n",
       "ENSG00000239945.1    False\n",
       "ENSG00000233750.3    False\n",
       "ENSG00000237683.5     True\n",
       "ENSG00000268903.1    False\n",
       "ENSG00000269981.1    False\n",
       "ENSG00000239906.1     True\n",
       "ENSG00000241860.2     True\n",
       "ENSG00000222623.1    False\n",
       "ENSG00000241599.1    False\n",
       "ENSG00000228463.4     True\n",
       "ENSG00000241670.2    False\n",
       "ENSG00000237094.7     True\n",
       "ENSG00000250575.1    False\n",
       "ENSG00000233653.3    False\n",
       "ENSG00000224813.2    False\n",
       "ENSG00000235249.1    False\n",
       "ENSG00000269732.1    False\n",
       "ENSG00000256186.1    False\n",
       "ENSG00000236601.1    False\n",
       "ENSG00000236743.1    False\n",
       "ENSG00000236679.2    False\n",
       "ENSG00000231709.1    False\n",
       "                     ...  \n",
       "ENSG00000210107.1     True\n",
       "ENSG00000210112.1     True\n",
       "ENSG00000198763.3     True\n",
       "ENSG00000210117.1     True\n",
       "ENSG00000210127.1     True\n",
       "ENSG00000210135.1    False\n",
       "ENSG00000210140.1     True\n",
       "ENSG00000210144.1     True\n",
       "ENSG00000198804.2     True\n",
       "ENSG00000210151.2     True\n",
       "ENSG00000210154.1     True\n",
       "ENSG00000198712.1     True\n",
       "ENSG00000210156.1     True\n",
       "ENSG00000228253.1     True\n",
       "ENSG00000198899.2     True\n",
       "ENSG00000198938.2     True\n",
       "ENSG00000210164.1     True\n",
       "ENSG00000198840.2     True\n",
       "ENSG00000210174.1    False\n",
       "ENSG00000212907.2     True\n",
       "ENSG00000198886.2     True\n",
       "ENSG00000210176.1     True\n",
       "ENSG00000210184.1    False\n",
       "ENSG00000210191.1     True\n",
       "ENSG00000198786.2     True\n",
       "ENSG00000198695.2     True\n",
       "ENSG00000210194.1     True\n",
       "ENSG00000198727.2     True\n",
       "ENSG00000210195.2     True\n",
       "ENSG00000210196.2     True\n",
       "dtype: bool"
      ]
     },
     "execution_count": 10,
     "metadata": {},
     "output_type": "execute_result"
    }
   ],
   "source": [
    "counts[samples].mean(axis=1) > 5"
   ]
  },
  {
   "cell_type": "markdown",
   "metadata": {},
   "source": [
    "Let's save this result and call it genes_to_keep. Notice a few key things. The True/False is described by the GeneID. The geneid is also the index of our dataframe. This is very important!!"
   ]
  },
  {
   "cell_type": "code",
   "execution_count": 11,
   "metadata": {
    "collapsed": true
   },
   "outputs": [],
   "source": [
    "genes_to_keep = counts[samples].mean(axis=1) > 5"
   ]
  },
  {
   "cell_type": "markdown",
   "metadata": {},
   "source": [
    "Since the geneID is the index of our dataframe, we can use .loc to only keep instances where the geneID is True. So the syntax of the following command is dataframe.loc[]. Inside the square bracket is an array describing for each item in the index, whether or not to keep it. True items are kept, false items are removed. Take a look at how this affects how many rows are in the dataframe with .shape. How many genes are left in our analysis? "
   ]
  },
  {
   "cell_type": "code",
   "execution_count": 12,
   "metadata": {
    "collapsed": false
   },
   "outputs": [
    {
     "name": "stdout",
     "output_type": "stream",
     "text": [
      "(16582, 5)\n"
     ]
    },
    {
     "data": {
      "text/html": [
       "<div>\n",
       "<table border=\"1\" class=\"dataframe\">\n",
       "  <thead>\n",
       "    <tr style=\"text-align: right;\">\n",
       "      <th></th>\n",
       "      <th>Length</th>\n",
       "      <th>NT_shRNA_hepg2_Rep1</th>\n",
       "      <th>NT_shRNA_hepg2_Rep2</th>\n",
       "      <th>TARDBP_shRNA_hepg2_Rep1</th>\n",
       "      <th>TARDBP_shRNA_hepg2_Rep2</th>\n",
       "    </tr>\n",
       "    <tr>\n",
       "      <th>Geneid</th>\n",
       "      <th></th>\n",
       "      <th></th>\n",
       "      <th></th>\n",
       "      <th></th>\n",
       "      <th></th>\n",
       "    </tr>\n",
       "  </thead>\n",
       "  <tbody>\n",
       "    <tr>\n",
       "      <th>ENSG00000227232.4</th>\n",
       "      <td>2073</td>\n",
       "      <td>61</td>\n",
       "      <td>92</td>\n",
       "      <td>69</td>\n",
       "      <td>58</td>\n",
       "    </tr>\n",
       "    <tr>\n",
       "      <th>ENSG00000237683.5</th>\n",
       "      <td>2661</td>\n",
       "      <td>23</td>\n",
       "      <td>21</td>\n",
       "      <td>17</td>\n",
       "      <td>28</td>\n",
       "    </tr>\n",
       "    <tr>\n",
       "      <th>ENSG00000239906.1</th>\n",
       "      <td>323</td>\n",
       "      <td>11</td>\n",
       "      <td>2</td>\n",
       "      <td>5</td>\n",
       "      <td>7</td>\n",
       "    </tr>\n",
       "    <tr>\n",
       "      <th>ENSG00000241860.2</th>\n",
       "      <td>6195</td>\n",
       "      <td>26</td>\n",
       "      <td>32</td>\n",
       "      <td>35</td>\n",
       "      <td>35</td>\n",
       "    </tr>\n",
       "    <tr>\n",
       "      <th>ENSG00000228463.4</th>\n",
       "      <td>3954</td>\n",
       "      <td>77</td>\n",
       "      <td>69</td>\n",
       "      <td>63</td>\n",
       "      <td>66</td>\n",
       "    </tr>\n",
       "  </tbody>\n",
       "</table>\n",
       "</div>"
      ],
      "text/plain": [
       "                   Length  NT_shRNA_hepg2_Rep1  NT_shRNA_hepg2_Rep2  \\\n",
       "Geneid                                                                \n",
       "ENSG00000227232.4    2073                   61                   92   \n",
       "ENSG00000237683.5    2661                   23                   21   \n",
       "ENSG00000239906.1     323                   11                    2   \n",
       "ENSG00000241860.2    6195                   26                   32   \n",
       "ENSG00000228463.4    3954                   77                   69   \n",
       "\n",
       "                   TARDBP_shRNA_hepg2_Rep1  TARDBP_shRNA_hepg2_Rep2  \n",
       "Geneid                                                               \n",
       "ENSG00000227232.4                       69                       58  \n",
       "ENSG00000237683.5                       17                       28  \n",
       "ENSG00000239906.1                        5                        7  \n",
       "ENSG00000241860.2                       35                       35  \n",
       "ENSG00000228463.4                       63                       66  "
      ]
     },
     "execution_count": 12,
     "metadata": {},
     "output_type": "execute_result"
    }
   ],
   "source": [
    "counts_clean = counts.loc[genes_to_keep]\n",
    "print counts_clean.shape\n",
    "counts_clean.head()"
   ]
  },
  {
   "cell_type": "markdown",
   "metadata": {},
   "source": [
    "To find out how many True values were in our array, we can use .sum(). Sum in this case will count the number of Trues. (True has a value of 1, False has a value of 0). genes_to_keep.sum() should match the number of rows in our dataframe. Does it? "
   ]
  },
  {
   "cell_type": "code",
   "execution_count": 13,
   "metadata": {
    "collapsed": false
   },
   "outputs": [
    {
     "data": {
      "text/plain": [
       "16582"
      ]
     },
     "execution_count": 13,
     "metadata": {},
     "output_type": "execute_result"
    }
   ],
   "source": [
    "genes_to_keep.sum()"
   ]
  },
  {
   "cell_type": "markdown",
   "metadata": {},
   "source": [
    "For DESeq2, we need to provide a counts matrix. We are going to use the filtered counts matrix to get rid of the genes with 0 (or nearly 0) counts. But we don't want the length column. Remember to access only a few rows, give the name of the dataframe followed by square brackets. Inside that square bracket, give it a list of the columns you want to use. We made a list called samples so this is the list we will use to keep only our samples and ignore the Length column."
   ]
  },
  {
   "cell_type": "code",
   "execution_count": 14,
   "metadata": {
    "collapsed": false
   },
   "outputs": [
    {
     "data": {
      "text/html": [
       "<div>\n",
       "<table border=\"1\" class=\"dataframe\">\n",
       "  <thead>\n",
       "    <tr style=\"text-align: right;\">\n",
       "      <th></th>\n",
       "      <th>NT_shRNA_hepg2_Rep1</th>\n",
       "      <th>NT_shRNA_hepg2_Rep2</th>\n",
       "      <th>TARDBP_shRNA_hepg2_Rep1</th>\n",
       "      <th>TARDBP_shRNA_hepg2_Rep2</th>\n",
       "    </tr>\n",
       "    <tr>\n",
       "      <th>Geneid</th>\n",
       "      <th></th>\n",
       "      <th></th>\n",
       "      <th></th>\n",
       "      <th></th>\n",
       "    </tr>\n",
       "  </thead>\n",
       "  <tbody>\n",
       "    <tr>\n",
       "      <th>ENSG00000227232.4</th>\n",
       "      <td>61</td>\n",
       "      <td>92</td>\n",
       "      <td>69</td>\n",
       "      <td>58</td>\n",
       "    </tr>\n",
       "    <tr>\n",
       "      <th>ENSG00000237683.5</th>\n",
       "      <td>23</td>\n",
       "      <td>21</td>\n",
       "      <td>17</td>\n",
       "      <td>28</td>\n",
       "    </tr>\n",
       "    <tr>\n",
       "      <th>ENSG00000239906.1</th>\n",
       "      <td>11</td>\n",
       "      <td>2</td>\n",
       "      <td>5</td>\n",
       "      <td>7</td>\n",
       "    </tr>\n",
       "    <tr>\n",
       "      <th>ENSG00000241860.2</th>\n",
       "      <td>26</td>\n",
       "      <td>32</td>\n",
       "      <td>35</td>\n",
       "      <td>35</td>\n",
       "    </tr>\n",
       "    <tr>\n",
       "      <th>ENSG00000228463.4</th>\n",
       "      <td>77</td>\n",
       "      <td>69</td>\n",
       "      <td>63</td>\n",
       "      <td>66</td>\n",
       "    </tr>\n",
       "  </tbody>\n",
       "</table>\n",
       "</div>"
      ],
      "text/plain": [
       "                   NT_shRNA_hepg2_Rep1  NT_shRNA_hepg2_Rep2  \\\n",
       "Geneid                                                        \n",
       "ENSG00000227232.4                   61                   92   \n",
       "ENSG00000237683.5                   23                   21   \n",
       "ENSG00000239906.1                   11                    2   \n",
       "ENSG00000241860.2                   26                   32   \n",
       "ENSG00000228463.4                   77                   69   \n",
       "\n",
       "                   TARDBP_shRNA_hepg2_Rep1  TARDBP_shRNA_hepg2_Rep2  \n",
       "Geneid                                                               \n",
       "ENSG00000227232.4                       69                       58  \n",
       "ENSG00000237683.5                       17                       28  \n",
       "ENSG00000239906.1                        5                        7  \n",
       "ENSG00000241860.2                       35                       35  \n",
       "ENSG00000228463.4                       63                       66  "
      ]
     },
     "execution_count": 14,
     "metadata": {},
     "output_type": "execute_result"
    }
   ],
   "source": [
    "counts_clean[samples].head()"
   ]
  },
  {
   "cell_type": "markdown",
   "metadata": {},
   "source": [
    "Save this dataframe as a csv. First define the directory where you want to save it. Make sure this directory exists (make it on your command line first). Call it deseq_dir. Put it in quotes to tell python this is a string. \n",
    "\n",
    "To save, use .to_csv() and put in the name of the file where you want to save it. This is the directory + a meaningful filename. spaces are important here, don't space between the directory and the string with the file name. Follow the syntax exactly as written below."
   ]
  },
  {
   "cell_type": "code",
   "execution_count": 16,
   "metadata": {
    "collapsed": false
   },
   "outputs": [],
   "source": [
    "deseq_dir = \"/home/ucsd-train40/projects/tardbp_shrna/deseq2/\"\n",
    "\n",
    "counts_clean[samples].to_csv(deseq_dir+\"tardbp_counts_for_deseq2.csv\")"
   ]
  },
  {
   "cell_type": "markdown",
   "metadata": {},
   "source": [
    "DESeq2 also needs a conditions matrix where the row names are the sample names (that exactly match the column names from the counts matrix) and there is one column describing the condition that the sample came from. We can set the row names (index) directly when making a new dataframe by saying index = samples. Remember samples is a list of column names from our counts matrix above. "
   ]
  },
  {
   "cell_type": "code",
   "execution_count": 17,
   "metadata": {
    "collapsed": false
   },
   "outputs": [
    {
     "data": {
      "text/html": [
       "<div>\n",
       "<table border=\"1\" class=\"dataframe\">\n",
       "  <thead>\n",
       "    <tr style=\"text-align: right;\">\n",
       "      <th></th>\n",
       "    </tr>\n",
       "  </thead>\n",
       "  <tbody>\n",
       "    <tr>\n",
       "      <th>NT_shRNA_hepg2_Rep1</th>\n",
       "    </tr>\n",
       "    <tr>\n",
       "      <th>NT_shRNA_hepg2_Rep2</th>\n",
       "    </tr>\n",
       "    <tr>\n",
       "      <th>TARDBP_shRNA_hepg2_Rep1</th>\n",
       "    </tr>\n",
       "    <tr>\n",
       "      <th>TARDBP_shRNA_hepg2_Rep2</th>\n",
       "    </tr>\n",
       "  </tbody>\n",
       "</table>\n",
       "</div>"
      ],
      "text/plain": [
       "Empty DataFrame\n",
       "Columns: []\n",
       "Index: [NT_shRNA_hepg2_Rep1, NT_shRNA_hepg2_Rep2, TARDBP_shRNA_hepg2_Rep1, TARDBP_shRNA_hepg2_Rep2]"
      ]
     },
     "execution_count": 17,
     "metadata": {},
     "output_type": "execute_result"
    }
   ],
   "source": [
    "conditions = pd.DataFrame(index = samples)\n",
    "conditions.head()"
   ]
  },
  {
   "cell_type": "markdown",
   "metadata": {},
   "source": [
    "To make a new column in a dataframe, put square brackets after the dataframe with the new column name in quotes. In this dataframe, we will make a new column called 'condition'. Set this equal to a list of the values that you would like to fill this column. In our case, the values are knockdown or control depending on the sample. Look at the conditions dataframe with head to make sure it is doing what you think it is. "
   ]
  },
  {
   "cell_type": "code",
   "execution_count": 18,
   "metadata": {
    "collapsed": true
   },
   "outputs": [],
   "source": [
    "conditions['condition'] = ['control','control','knockdown','knockdown']"
   ]
  },
  {
   "cell_type": "code",
   "execution_count": 19,
   "metadata": {
    "collapsed": false
   },
   "outputs": [
    {
     "data": {
      "text/html": [
       "<div>\n",
       "<table border=\"1\" class=\"dataframe\">\n",
       "  <thead>\n",
       "    <tr style=\"text-align: right;\">\n",
       "      <th></th>\n",
       "      <th>condition</th>\n",
       "    </tr>\n",
       "  </thead>\n",
       "  <tbody>\n",
       "    <tr>\n",
       "      <th>NT_shRNA_hepg2_Rep1</th>\n",
       "      <td>control</td>\n",
       "    </tr>\n",
       "    <tr>\n",
       "      <th>NT_shRNA_hepg2_Rep2</th>\n",
       "      <td>control</td>\n",
       "    </tr>\n",
       "    <tr>\n",
       "      <th>TARDBP_shRNA_hepg2_Rep1</th>\n",
       "      <td>knockdown</td>\n",
       "    </tr>\n",
       "    <tr>\n",
       "      <th>TARDBP_shRNA_hepg2_Rep2</th>\n",
       "      <td>knockdown</td>\n",
       "    </tr>\n",
       "  </tbody>\n",
       "</table>\n",
       "</div>"
      ],
      "text/plain": [
       "                         condition\n",
       "NT_shRNA_hepg2_Rep1        control\n",
       "NT_shRNA_hepg2_Rep2        control\n",
       "TARDBP_shRNA_hepg2_Rep1  knockdown\n",
       "TARDBP_shRNA_hepg2_Rep2  knockdown"
      ]
     },
     "execution_count": 19,
     "metadata": {},
     "output_type": "execute_result"
    }
   ],
   "source": [
    "conditions.head()"
   ]
  },
  {
   "cell_type": "markdown",
   "metadata": {},
   "source": [
    "Save this dataframe the same way we did before."
   ]
  },
  {
   "cell_type": "code",
   "execution_count": 20,
   "metadata": {
    "collapsed": true
   },
   "outputs": [],
   "source": [
    "conditions.to_csv(deseq_dir+\"tardbp_conditions_for_deseq2.csv\")"
   ]
  },
  {
   "cell_type": "markdown",
   "metadata": {},
   "source": [
    "We also want to save the counts matrix with the Length column (we need this to calculate TPM and FPKM later). Take a look at that dataframe to make sure it is what we want and save it to the featurecounts directory that you have likely already made. "
   ]
  },
  {
   "cell_type": "code",
   "execution_count": 21,
   "metadata": {
    "collapsed": true
   },
   "outputs": [],
   "source": [
    "featurecounts_dir = '/home/ucsd-train40/projects/tardbp_shrna/featurecounts/'\n",
    "\n",
    "counts_clean.to_csv(featurecounts_dir + 'tardbp_counts_with_length.csv')"
   ]
  },
  {
   "cell_type": "code",
   "execution_count": null,
   "metadata": {
    "collapsed": true
   },
   "outputs": [],
   "source": []
  }
 ],
 "metadata": {
  "kernelspec": {
   "display_name": "Python [Root]",
   "language": "python",
   "name": "Python [Root]"
  },
  "language_info": {
   "codemirror_mode": {
    "name": "ipython",
    "version": 2
   },
   "file_extension": ".py",
   "mimetype": "text/x-python",
   "name": "python",
   "nbconvert_exporter": "python",
   "pygments_lexer": "ipython2",
   "version": "2.7.12"
  }
 },
 "nbformat": 4,
 "nbformat_minor": 0
}
