{
 "cells": [
  {
   "cell_type": "markdown",
   "metadata": {},
   "source": [
    "# Screens in unix"
   ]
  },
  {
   "cell_type": "markdown",
   "metadata": {},
   "source": [
    "Unix has the capability to use 'terminal multiplexer'. They were initially developped to avoid losing all the information in a session when the internet connection was disrupted.\n",
    "\n",
    "There are a few of these terminal multiplexers out there, the one I prefer to use is 'screen' (another popular one would be Tmux) because it's very easy to use.\n",
    "\n",
    "Below are the most important commands but if you want to know more feel free to check out the manual or look on the web."
   ]
  },
  {
   "cell_type": "code",
   "execution_count": 1,
   "metadata": {
    "collapsed": true
   },
   "outputs": [],
   "source": [
    "man screen"
   ]
  },
  {
   "cell_type": "markdown",
   "metadata": {},
   "source": [
    "Just setting up a screen can be useful but it is better to name it. To view what screens you have available type: screen -ls"
   ]
  },
  {
   "cell_type": "code",
   "execution_count": null,
   "metadata": {
    "collapsed": true
   },
   "outputs": [],
   "source": [
    "# non informative screen names:\n",
    "pfiaux$ screen -ls\n",
    "There are screens on:\n",
    "        37394.pts-10.iblm-cluster-1     (Attached)\n",
    "        23116.pts-12.iblm-cluster-1     (Attached)\n",
    "2 Sockets in /var/run/screen/S-pfiaux."
   ]
  },
  {
   "cell_type": "code",
   "execution_count": null,
   "metadata": {
    "collapsed": true
   },
   "outputs": [],
   "source": [
    "# naming screens when creating them is a lot better\n",
    "# do so by specifying the flag '-S'\n",
    "pfiaux$ screen -S myFirstScreen\n",
    "pfiaux$ screen -ls\n",
    "There are screens on:\n",
    "        37394.pts-10.iblm-cluster-1     (Attached)\n",
    "        23116.pts-12.iblm-cluster-1     (Attached)\n",
    "        39792.myFirstScreen     (Attached)"
   ]
  },
  {
   "cell_type": "markdown",
   "metadata": {},
   "source": [
    "In the examples so far all screens are currently being used (Attached). To jump from one screen to another within the same shell use the detach function (-d detaches, -r re-attaches):"
   ]
  },
  {
   "cell_type": "code",
   "execution_count": null,
   "metadata": {
    "collapsed": true
   },
   "outputs": [],
   "source": [
    "pfiaux$ screen -d 39792.myFirstScreen\n",
    "[remote detached]\n",
    "pfiaux$ screen -r 23116.pts-12.iblm-cluster-1"
   ]
  },
  {
   "cell_type": "markdown",
   "metadata": {},
   "source": [
    "If already in a screen use hotkey commands to jump around"
   ]
  },
  {
   "cell_type": "code",
   "execution_count": null,
   "metadata": {
    "collapsed": true
   },
   "outputs": [],
   "source": [
    "$ <ctrl> + a\n",
    "$ d"
   ]
  },
  {
   "cell_type": "markdown",
   "metadata": {},
   "source": [
    "To terminate a screen use:"
   ]
  },
  {
   "cell_type": "code",
   "execution_count": null,
   "metadata": {
    "collapsed": true
   },
   "outputs": [],
   "source": [
    "$ <ctrl> + a\n",
    "$ k"
   ]
  }
 ],
 "metadata": {
  "kernelspec": {
   "display_name": "Python 2",
   "language": "python",
   "name": "python2"
  },
  "language_info": {
   "codemirror_mode": {
    "name": "ipython",
    "version": 2
   },
   "file_extension": ".py",
   "mimetype": "text/x-python",
   "name": "python",
   "nbconvert_exporter": "python",
   "pygments_lexer": "ipython2",
   "version": "2.7.13"
  }
 },
 "nbformat": 4,
 "nbformat_minor": 2
}
