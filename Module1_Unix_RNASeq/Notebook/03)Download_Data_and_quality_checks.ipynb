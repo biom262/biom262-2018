{
 "cells": [
  {
   "cell_type": "markdown",
   "metadata": {},
   "source": [
    "# Download fastq files from the web and run fastqc to look at the quality of the sequencing run"
   ]
  },
  {
   "cell_type": "markdown",
   "metadata": {},
   "source": [
    "**Step 1: Download dataset**\n",
    "\n",
    "\n",
    "First we will download the data from the [ENCODE](https://www.encodeproject.org/) website. There are many different experiments and datasets available here. You can download both raw and fully processed data. For our learning purposes, we will download the raw data (fastq). Let's take a look at knockdown of TARDBP (or TDP-43) in the HepG2 cell line (data [here](https://www.encodeproject.org/experiments/ENCSR527QNC/)). \n",
    "\n",
    "Let's find the fastq files now. Go down to the \"Files\" section and click on the \"File details\" tab. Under the \"Raw sequencing data\" we can find our fastq files. When you have found the link to the fastq files, right click on it and select \"copy Link Address\". ENCODE also has processed data files that have already been aligned (to different genome builds GRCh38 V28 or hg19) and quantified. In order to run the entire pipeline, we only want the raw reads stored in fastq.  \n",
    "\n",
    "Then on TSCC, put your file in the proper directory by first moving into the directory where you would like your data to end up, and then pasting the link you have copied after the \"wget\" command. (Remember this is what we did when we downloaded Anaconda). Keep in mind that this data is paired-end, so there are two reads per dataset (R1 and R2). So you will need to download two files per sample. \n",
    "\n",
    "    cd ~/raw_data/\n",
    "    \n",
    "Let's make a directory in raw_data specifically for the raw data for this project. \n",
    "\n",
    "    mkdir ~/raw_data/tardbp_shrna/\n",
    "    \n",
    "Then move into that directory before running wget. REMEMBER TO USE TABS TO EASILY MOVE BETWEEN DIRECTORIES. \n",
    "\n",
    "    cd ~/raw_data/tardbp_shrna/\n",
    "\n",
    "    wget https://www.encodeproject.org/files/ENCFF682WVW/@@download/ENCFF682WVW.fastq.gz\n",
    "    \n",
    "    wget https://www.encodeproject.org/files/ENCFF637BLZ/@@download/ENCFF637BLZ.fastq.gz\n",
    "    \n",
    "*NOTE* - to avoid a backlog on the head node with all of us downloading the same datasets, please make a softlinks to the files that I have already downloaded and stored them in our shared folder for later use:\n",
    "\n",
    "    ~/cmm262/fastqs/\n",
    "    \n",
    "    \n",
    "Here you will find fastq files named:\n",
    "    \n",
    "    NT_cont_shRNA_HepG2_Rep1_R1.fastq.gz\n",
    "    NT_cont_shRNA_HepG2_Rep1_R2.fastq.gz\n",
    "    NT_cont_shRNA_HepG2_Rep2_R1.fastq.gz\n",
    "    NT_cont_shRNA_HepG2_Rep2_R2.fastq.gz\n",
    "    \n",
    "    \n",
    "    TARDBP_shRNA_HepG2_Rep1_R1.fastq.gz   \n",
    "    TARDBP_shRNA_HepG2_Rep1_R2.fastq.gz\n",
    "    TARDBP_shRNA_HepG2_Rep2_R1.fastq.gz\n",
    "    TARDBP_shRNA_HepG2_Rep2_R2.fastq.gz\n",
    "      \n",
    "\n",
    "\n",
    "\n",
    "***Note*** If you do plan on downloading datasets, be sure use mv to rename your files something more meaningful. It is too difficult to go throug the remainder of the pipeline steps with coded language:\n",
    "\n",
    "    mv ENCFF682WVW.fastq.gz TARDBP_shRNA_HepG2_Rep1_R1.fastq.gz\n",
    "    mv ENCFF637BLZ.fastq.gz TARDBP_shRNA_HepG2_Rep1_R2.fastq.gz"
   ]
  },
  {
   "cell_type": "markdown",
   "metadata": {},
   "source": [
    "**Step 2: Run fastqc to check the sequencing quality of the reads that you downloaded. Remember that we installed fastqc with:**\n",
    "\n",
    "    conda install -c bioconda fastqc\n",
    "    \n",
    "You can see that it has installed properly with:\n",
    "\n",
    "    which fastqc\n",
    "    \n",
    "The output should be something like:\n",
    "\n",
    "    ~/anaconda2/bin/fastqc\n",
    "    \n",
    "*Q. Why is it finding the program in this location?*\n",
    "\n",
    "Let's make a directory in projects for our new fto_shrna project, and make another directory within that folder for the restuls of our fastqc run.\n",
    "\n",
    "    mkdir ~/projects/tardbp_shrna/\n",
    "    mkdir ~/projects/tardbp_shrna/fastqc/\n",
    "    \n",
    "Reminder, you could aternatively use the -p flag to make the fastqc directory and its parent directory (tardbp_shrna/) in one step:\n",
    "\n",
    "    mkdir -p ~/projects/tardbp_shrna/fastqc/\n",
    "    \n",
    "\n",
    "Let's run fastqc on one of our downloaded and renamed files to check the quality of your sequencing results. Remember to specify the *full path* of where your datasets are stored and where you want the processed data to end up. You will have to do this one one file at a time. REMEMBER TO USE TABS TO AVOID TYPOS! The -o argument is used to specify the location of the output files.\n",
    "\n",
    "    fastqc ~/raw_data/tardbp_shrna/TARDBP_shRNA_HepG2_Rep1_R1.fastq.gz -o ~/projects/tardbp_shrna/fastqc/\n",
    "    \n",
    "\n",
    "If you could not download the files yourself, run from the shared folder \n",
    "    \n",
    "    fastqc ~/cmm262/fastqs/TARDBP_shRNA_HepG2_Rep1_R1.fastq.gz -o ~/projects/tardbp_shrna/fastqc/\n",
    "\n",
    "This wil take a few minutes to run. When finished, you should have a .zip file and a .html file.\n"
   ]
  },
  {
   "cell_type": "markdown",
   "metadata": {},
   "source": [
    "**Step 3: View your output files in a web browser:**\n",
    "\n",
    "\n",
    "In order to see the results, we will need to first make it accessible from our personal computer using a secure copy. This will basically log into your TSCC account, pull out the desired file, and put it in the desired destination (in this case, your desktop):\n",
    "\n",
    "\n",
    "***FileZilla***\n",
    "\n",
    "We will use [FileZilla](https://filezilla-project.org/) as a means to securely copy files from TSCC to your computer. Follow these [instructions'](\"https://github.com/biom262/biom262-2018/blob/master/Module0_PreClass/filezilla_fileTransfer_setup.pdf\") to install FileZilla on your home computer. \n",
    "\n",
    "Once you connect to TSCC, navigate to your file of interest. Change your \"Local site\" in the upper left to your Desktop (or some location you can navigate to easily), then double-click the file of interest. It will copy from the source and be placed in your Local site. Let's do that for our fastqc .html file:\n",
    "\n",
    "    TARDBP_shRNA_HepG2_Rep1_R1_fastqc.html\n"
   ]
  },
  {
   "cell_type": "markdown",
   "metadata": {},
   "source": [
    "*If you cannot get connected through Filezilla, try the following options based upon you operating system:*\n",
    "\n",
    "\n",
    "***Windows*** \n",
    "\n",
    "Use WIN-SCP (downloaded in [this notebook](\"https://github.com/biom262/biom262-2018/blob/master/Module0_PreClass/0.1_Additional_Downloads.ipynb\") to download the .html file from your results to your Desktop. When you see the icon appear, click on it. It should open a web page in your default web browser.\n",
    "\n",
    "***Mac***\n",
    "\n",
    "To perform a secure copy from your remote computer to your home computer, we will need to use the scp command. The general structure is: \n",
    "\n",
    "    scp remote@host:/absolute_path_to_file/file Destination_on_home\n",
    "    \n",
    "In my case, it would look something like:\n",
    "    \n",
    "    scp ucsd-train40@tscc.sdsc.edu:/home/ucsd-train40/projects/tardbp_shrna/fastqc/TARDBP_shRNA_HepG2_Rep1_R1_fastqc.html ~/Desktop/\n"
   ]
  },
  {
   "cell_type": "markdown",
   "metadata": {
    "collapsed": true
   },
   "source": [
    "We're using an ENCODE dataset because they are well stadardized and monitored for quality, easy to access, and useful for pairwise comparison. However, if you would like to find out how to download other publically available data, such as datasets available on the [Gene Expression Omnibus](\"https://www.ncbi.nlm.nih.gov/geo/\") (GEO), check out this [notebook](\"https://github.com/biom262/biom262-2018/blob/master/Module1_Unix_RNASeq/Tutorials/Download_data_from_GEO.ipynb\") in the Tutorials section."
   ]
  },
  {
   "cell_type": "code",
   "execution_count": null,
   "metadata": {
    "collapsed": true
   },
   "outputs": [],
   "source": []
  }
 ],
 "metadata": {
  "kernelspec": {
   "display_name": "Python [Root]",
   "language": "python",
   "name": "Python [Root]"
  },
  "language_info": {
   "codemirror_mode": {
    "name": "ipython",
    "version": 2
   },
   "file_extension": ".py",
   "mimetype": "text/x-python",
   "name": "python",
   "nbconvert_exporter": "python",
   "pygments_lexer": "ipython2",
   "version": "2.7.12"
  }
 },
 "nbformat": 4,
 "nbformat_minor": 1
}
