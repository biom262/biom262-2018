{
 "cells": [
  {
   "cell_type": "markdown",
   "metadata": {},
   "source": [
    "The following is a guide to reinstalling anaconda and company.\n",
    "\n",
    "First step: remove anaconda. (Steps taken from [Stackoverflow](https://stackoverflow.com/questions/22585235/python-anaconda-how-to-safely-uninstall))\n"
   ]
  },
  {
   "cell_type": "code",
   "execution_count": null,
   "metadata": {
    "collapsed": true
   },
   "outputs": [],
   "source": [
    "conda install anaconda-clean   # install the package anaconda clean\n",
    "anaconda-clean --yes           # clean all anaconda related files and directories \n",
    "rm -rf ~/anaconda2             # removes the entire anaconda directory\n",
    "\n",
    "rm -rf ~/.anaconda_backup       # anaconda clean creates a back_up of files/dirs, remove it \n",
    "                                # (conda list; cmd shouldn't respond after the clean up)"
   ]
  },
  {
   "cell_type": "markdown",
   "metadata": {},
   "source": [
    "Then reinstall anaconda"
   ]
  },
  {
   "cell_type": "code",
   "execution_count": null,
   "metadata": {
    "collapsed": true
   },
   "outputs": [],
   "source": [
    "bash Anaconda2-4.4.0-Linux-x86_64.sh\n",
    "\n",
    "# remember to source your .bashrc\n",
    "source .bashrc\n",
    "\n",
    "#check that installation was correct. You should see a path like: ~/anaconda2/bin/python\n",
    "which python"
   ]
  },
  {
   "cell_type": "markdown",
   "metadata": {},
   "source": [
    "Reinstall packages used in week 1:"
   ]
  },
  {
   "cell_type": "code",
   "execution_count": null,
   "metadata": {
    "collapsed": true
   },
   "outputs": [],
   "source": [
    "conda install -c bioconda STAR\n",
    "\n",
    "conda install -c bioconda fastqc\n",
    "\n",
    "conda install -c conda-forge -c bioconda samtools bzip2\n",
    "\n",
    "conda install -c bioconda subread"
   ]
  },
  {
   "cell_type": "markdown",
   "metadata": {},
   "source": [
    "Check that all are installed properly"
   ]
  },
  {
   "cell_type": "code",
   "execution_count": null,
   "metadata": {
    "collapsed": true
   },
   "outputs": [],
   "source": [
    "which STAR\n",
    "\n",
    "which fastqc\n",
    "\n",
    "which samtools\n",
    "\n",
    "which featureCounts"
   ]
  },
  {
   "cell_type": "markdown",
   "metadata": {},
   "source": [
    "Now follow the [installation steps](https://github.com/biom262/biom262-2018/blob/master/Module1_Unix_RNASeq/Notebook/10)_Installing_R.ipynb) for R again. Already after the first step R should be installed so you can check after each step if things are still working by starting R and quitting again."
   ]
  },
  {
   "cell_type": "code",
   "execution_count": null,
   "metadata": {
    "collapsed": true
   },
   "outputs": [],
   "source": []
  }
 ],
 "metadata": {
  "kernelspec": {
   "display_name": "Python 2",
   "language": "python",
   "name": "python2"
  },
  "language_info": {
   "codemirror_mode": {
    "name": "ipython",
    "version": 2
   },
   "file_extension": ".py",
   "mimetype": "text/x-python",
   "name": "python",
   "nbconvert_exporter": "python",
   "pygments_lexer": "ipython2",
   "version": "2.7.13"
  }
 },
 "nbformat": 4,
 "nbformat_minor": 2
}
