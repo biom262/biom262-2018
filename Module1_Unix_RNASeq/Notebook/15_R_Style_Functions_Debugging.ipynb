{
 "cells": [
  {
   "cell_type": "markdown",
   "metadata": {},
   "source": [
    "# R programming style"
   ]
  },
  {
   "cell_type": "markdown",
   "metadata": {},
   "source": [
    "Everyone has a unique way of thinknig about programatical problems. While this can lead to many great solutions it becomes problematic if a unique way of thinking becomes a unique way of program annotation and a nightmare for someone else to look at, reproduce or debug.\n",
    "\n",
    "In order to have as much consistency across the board it is recommended that all programmers follow a language specific style. This helps with legebility and orienting yourself within your own code after not having used it for a few months\n",
    "\n",
    "I personally follow Google's recommended [style for R](https://google.github.io/styleguide/Rguide.xml). Their guide also covers a wie variety of other languages and I highly suggest you at least skim it before starting to program. It will make your life easier in so many different ways.\n",
    "\n",
    "Below I've selected a few which I would strongly recommend. Style is of course entirely up to you but I highly recommend that you decide on one early and then stick to it for consistency."
   ]
  },
  {
   "cell_type": "code",
   "execution_count": null,
   "metadata": {
    "collapsed": true
   },
   "outputs": [],
   "source": [
    "# Assignments\n",
    "x <- 5  # good\n",
    "x = 5  # bad\n",
    "\n",
    "# Variables\n",
    "variable.name <- c()  # preferred\n",
    "variableName <- c()   # accepted\n",
    "variable_name <- c() # bad\n",
    "\n",
    "# Functions\n",
    "FunctionName <- function{}  # good\n",
    "function_name <- function{}  # bad\n",
    "functionName <- function{}  # bad\n",
    "\n",
    "# Spacing\n",
    "tab.prior <- table(df[df$days.from.opt < 0, \"campaign.id\"])  # good\n",
    "tab.prior <- table(df[df$days.from.opt<0,\"campaign.id\"])  # bad\n",
    "\n",
    "# if - else setup\n",
    "#################\n",
    "# good\n",
    "if (condition) {\n",
    "  one or more lines\n",
    "} else {\n",
    "  one or more lines\n",
    "}\n",
    "\n",
    "#################\n",
    "# bad\n",
    "if (condition) {\n",
    "  one or more lines\n",
    "}\n",
    "else {\n",
    "  one or more lines\n",
    "}"
   ]
  },
  {
   "cell_type": "markdown",
   "metadata": {},
   "source": [
    "Lastly, make sure you always comment your code. This is emphasized in every course, at some point igenored by many students until the day when bad practice comes around to bite you. Set your habits from the beginning and stick to them. It will take an extra 20s at the benefit of avoiding hours of painfully going though a cryptic script."
   ]
  },
  {
   "cell_type": "code",
   "execution_count": null,
   "metadata": {
    "collapsed": true
   },
   "outputs": [],
   "source": [
    "# given an input label file, extract the label coordinates\n",
    "# input:\n",
    "#   input.label.file: file containing the location of the label files (pos:../EnhancerPos.csv)\n",
    "#   input.specs: specification list\n",
    "# output: label data frame,\n",
    "#   columns: label, chrom, start, end\n",
    "obtain_label_df <- function(input.label.file, input.specs){\n",
    "  read.labels <- scan(input.label.file,what='character')\n",
    "\n",
    "  label.coords <- c()\n",
    "  for(lab in read.labels){\n",
    "    temp.lab <- strsplit(lab, ':')[[1]][1]\n",
    "    temp.file <- strsplit(lab, ':')[[1]][2]\n",
    "    if(temp.lab != input.specs$labelHierarchy[1]){\n",
    "      temp.lab.coord <- read.csv(temp.file, as.is = TRUE)\n",
    "      temp.out.lab.coord <- cbind.data.frame(label = rep(temp.lab,nrow(temp.lab.coord)), chrom = temp.lab.coord[,1],\n",
    "        start = temp.lab.coord[,2], end = temp.lab.coord[,3])\n",
    "      label.coords <- rbind(label.coords, temp.out.lab.coord)\n",
    "    }\n",
    "  }\n",
    "  return(label.coords)\n",
    "}\n"
   ]
  },
  {
   "cell_type": "markdown",
   "metadata": {},
   "source": [
    "# R Functions"
   ]
  },
  {
   "cell_type": "markdown",
   "metadata": {},
   "source": [
    "Functions are used to link several operations which can be repeated by typing just one command instead of having to re-type the whole thing. If you find yourself doing something over and over again it should probably go into a function...\n",
    "\n",
    "Functions help you clean up your code and make things more organized. Better organized means both less mistakes and it's easier to catch mistakes.\n",
    "\n",
    "The greating things about functions is that once they're tested adequatly you never have to look at them again. As long as the input is correct, the output will be correct too."
   ]
  },
  {
   "cell_type": "code",
   "execution_count": null,
   "metadata": {
    "collapsed": true
   },
   "outputs": [],
   "source": [
    "# structure\n",
    "\n",
    "# my_function documentation\n",
    "my_function <- function(my.input.argument){\n",
    "    # some operation(s)\n",
    "    return(output)\n",
    "}"
   ]
  },
  {
   "cell_type": "markdown",
   "metadata": {},
   "source": [
    "All R functions have three parts: a body(), formals(), and the environment()"
   ]
  },
  {
   "cell_type": "code",
   "execution_count": 3,
   "metadata": {
    "collapsed": true
   },
   "outputs": [],
   "source": [
    "# in an applied example, let's run our DESeq2 analysis completely in a function\n",
    "suppressPackageStartupMessages(require(DESeq2))\n",
    "\n",
    "counts <- read.csv('/home/ucsd-train40/cmm262/deseq2/tardbp_counts_for_deseq2.csv',\n",
    "                  header=TRUE, row.names=1)\n",
    "\n",
    "col.data <- read.csv('/home/ucsd-train40/cmm262/deseq2/tardbp_conditions_for_deseq2.csv',\n",
    "                  header=TRUE, row.names=1)"
   ]
  },
  {
   "cell_type": "code",
   "execution_count": 13,
   "metadata": {},
   "outputs": [
    {
     "name": "stderr",
     "output_type": "stream",
     "text": [
      "estimating size factors\n",
      "estimating dispersions\n",
      "gene-wise dispersion estimates\n",
      "mean-dispersion relationship\n",
      "final dispersion estimates\n",
      "fitting model and testing\n"
     ]
    },
    {
     "data": {
      "text/html": [
       "<ol class=list-inline>\n",
       "\t<li>16582</li>\n",
       "\t<li>6</li>\n",
       "</ol>\n"
      ],
      "text/latex": [
       "\\begin{enumerate*}\n",
       "\\item 16582\n",
       "\\item 6\n",
       "\\end{enumerate*}\n"
      ],
      "text/markdown": [
       "1. 16582\n",
       "2. 6\n",
       "\n",
       "\n"
      ],
      "text/plain": [
       "[1] 16582     6"
      ]
     },
     "metadata": {},
     "output_type": "display_data"
    }
   ],
   "source": [
    "# function which takes a data frame, coverts it into DESeq2 format and aanalyszes it\n",
    "# output is a data frame of the results\n",
    "# how would we fill in this function?\n",
    "deseq2_analysis <- function(input.counts, input.cols){\n",
    "    # function body\n",
    "}\n",
    "\n",
    "function.res <- deseq2_analysis()\n",
    "dim(function.res)"
   ]
  },
  {
   "cell_type": "markdown",
   "metadata": {},
   "source": [
    "If we were courious about the implementation of a function we can always view details by simply enetering it in the interface without braces"
   ]
  },
  {
   "cell_type": "code",
   "execution_count": 15,
   "metadata": {},
   "outputs": [
    {
     "data": {
      "text/html": [
       "<pre class=language-r><code>function (countData, colData, design, tidy = FALSE, ignoreRank = FALSE, \n",
       "<span style=white-space:pre-wrap>    ...) </span>\n",
       "{\n",
       "<span style=white-space:pre-wrap>    if (tidy) {</span>\n",
       "<span style=white-space:pre-wrap>        stopifnot(ncol(countData) &gt; 1)</span>\n",
       "<span style=white-space:pre-wrap>        rownms &lt;- as.character(countData[, 1])</span>\n",
       "<span style=white-space:pre-wrap>        countData &lt;- countData[, -1, drop = FALSE]</span>\n",
       "<span style=white-space:pre-wrap>        rownames(countData) &lt;- rownms</span>\n",
       "<span style=white-space:pre-wrap>    }</span>\n",
       "<span style=white-space:pre-wrap>    stopifnot(ncol(countData) == nrow(colData))</span>\n",
       "<span style=white-space:pre-wrap>    countData &lt;- as.matrix(countData)</span>\n",
       "<span style=white-space:pre-wrap>    if (is(colData, \"data.frame\")) </span>\n",
       "<span style=white-space:pre-wrap>        colData &lt;- as(colData, \"DataFrame\")</span>\n",
       "<span style=white-space:pre-wrap>    if (!is.null(rownames(colData)) &amp; !is.null(colnames(countData))) {</span>\n",
       "<span style=white-space:pre-wrap>        if (all(sort(rownames(colData)) == sort(colnames(countData)))) {</span>\n",
       "<span style=white-space:pre-wrap>            if (!all(rownames(colData) == colnames(countData))) {</span>\n",
       "<span style=white-space:pre-wrap>                stop(paste(\"rownames of the colData:\\n  \", paste(rownames(colData), </span>\n",
       "<span style=white-space:pre-wrap>                  collapse = \",\"), \"\\n  are not in the same order as the colnames of the countData:\\n  \", </span>\n",
       "<span style=white-space:pre-wrap>                  paste(colnames(countData), collapse = \",\")))</span>\n",
       "<span style=white-space:pre-wrap>            }</span>\n",
       "<span style=white-space:pre-wrap>        }</span>\n",
       "<span style=white-space:pre-wrap>    }</span>\n",
       "<span style=white-space:pre-wrap>    if (is.null(rownames(colData)) &amp; !is.null(colnames(countData))) {</span>\n",
       "<span style=white-space:pre-wrap>        rownames(colData) &lt;- colnames(countData)</span>\n",
       "<span style=white-space:pre-wrap>    }</span>\n",
       "<span style=white-space:pre-wrap>    se &lt;- SummarizedExperiment(assays = SimpleList(counts = countData), </span>\n",
       "<span style=white-space:pre-wrap>        colData = colData, ...)</span>\n",
       "<span style=white-space:pre-wrap>    object &lt;- DESeqDataSet(se, design = design, ignoreRank)</span>\n",
       "<span style=white-space:pre-wrap>    return(object)</span>\n",
       "}</code></pre>"
      ],
      "text/latex": [
       "\\begin{minted}{r}\n",
       "function (countData, colData, design, tidy = FALSE, ignoreRank = FALSE, \n",
       "    ...) \n",
       "\\{\n",
       "    if (tidy) \\{\n",
       "        stopifnot(ncol(countData) > 1)\n",
       "        rownms <- as.character(countData{[}, 1{]})\n",
       "        countData <- countData{[}, -1, drop = FALSE{]}\n",
       "        rownames(countData) <- rownms\n",
       "    \\}\n",
       "    stopifnot(ncol(countData) == nrow(colData))\n",
       "    countData <- as.matrix(countData)\n",
       "    if (is(colData, \"data.frame\")) \n",
       "        colData <- as(colData, \"DataFrame\")\n",
       "    if (!is.null(rownames(colData)) \\& !is.null(colnames(countData))) \\{\n",
       "        if (all(sort(rownames(colData)) == sort(colnames(countData)))) \\{\n",
       "            if (!all(rownames(colData) == colnames(countData))) \\{\n",
       "                stop(paste(\"rownames of the colData:\\textbackslash{}n  \", paste(rownames(colData), \n",
       "                  collapse = \",\"), \"\\textbackslash{}n  are not in the same order as the colnames of the countData:\\textbackslash{}n  \", \n",
       "                  paste(colnames(countData), collapse = \",\")))\n",
       "            \\}\n",
       "        \\}\n",
       "    \\}\n",
       "    if (is.null(rownames(colData)) \\& !is.null(colnames(countData))) \\{\n",
       "        rownames(colData) <- colnames(countData)\n",
       "    \\}\n",
       "    se <- SummarizedExperiment(assays = SimpleList(counts = countData), \n",
       "        colData = colData, ...)\n",
       "    object <- DESeqDataSet(se, design = design, ignoreRank)\n",
       "    return(object)\n",
       "\\}\n",
       "\\end{minted}"
      ],
      "text/markdown": [
       "```r\n",
       "function (countData, colData, design, tidy = FALSE, ignoreRank = FALSE, \n",
       "    ...) \n",
       "{\n",
       "    if (tidy) {\n",
       "        stopifnot(ncol(countData) > 1)\n",
       "        rownms <- as.character(countData[, 1])\n",
       "        countData <- countData[, -1, drop = FALSE]\n",
       "        rownames(countData) <- rownms\n",
       "    }\n",
       "    stopifnot(ncol(countData) == nrow(colData))\n",
       "    countData <- as.matrix(countData)\n",
       "    if (is(colData, \"data.frame\")) \n",
       "        colData <- as(colData, \"DataFrame\")\n",
       "    if (!is.null(rownames(colData)) & !is.null(colnames(countData))) {\n",
       "        if (all(sort(rownames(colData)) == sort(colnames(countData)))) {\n",
       "            if (!all(rownames(colData) == colnames(countData))) {\n",
       "                stop(paste(\"rownames of the colData:\\n  \", paste(rownames(colData), \n",
       "                  collapse = \",\"), \"\\n  are not in the same order as the colnames of the countData:\\n  \", \n",
       "                  paste(colnames(countData), collapse = \",\")))\n",
       "            }\n",
       "        }\n",
       "    }\n",
       "    if (is.null(rownames(colData)) & !is.null(colnames(countData))) {\n",
       "        rownames(colData) <- colnames(countData)\n",
       "    }\n",
       "    se <- SummarizedExperiment(assays = SimpleList(counts = countData), \n",
       "        colData = colData, ...)\n",
       "    object <- DESeqDataSet(se, design = design, ignoreRank)\n",
       "    return(object)\n",
       "}\n",
       "```"
      ],
      "text/plain": [
       "function (countData, colData, design, tidy = FALSE, ignoreRank = FALSE, \n",
       "    ...) \n",
       "{\n",
       "    if (tidy) {\n",
       "        stopifnot(ncol(countData) > 1)\n",
       "        rownms <- as.character(countData[, 1])\n",
       "        countData <- countData[, -1, drop = FALSE]\n",
       "        rownames(countData) <- rownms\n",
       "    }\n",
       "    stopifnot(ncol(countData) == nrow(colData))\n",
       "    countData <- as.matrix(countData)\n",
       "    if (is(colData, \"data.frame\")) \n",
       "        colData <- as(colData, \"DataFrame\")\n",
       "    if (!is.null(rownames(colData)) & !is.null(colnames(countData))) {\n",
       "        if (all(sort(rownames(colData)) == sort(colnames(countData)))) {\n",
       "            if (!all(rownames(colData) == colnames(countData))) {\n",
       "                stop(paste(\"rownames of the colData:\\\\n  \", paste(rownames(colData), \n",
       "                  collapse = \",\"), \"\\\\n  are not in the same order as the colnames of the countData:\\\\n  \", \n",
       "                  paste(colnames(countData), collapse = \",\")))\n",
       "            }\n",
       "        }\n",
       "    }\n",
       "    if (is.null(rownames(colData)) & !is.null(colnames(countData))) {\n",
       "        rownames(colData) <- colnames(countData)\n",
       "    }\n",
       "    se <- SummarizedExperiment(assays = SimpleList(counts = countData), \n",
       "        colData = colData, ...)\n",
       "    object <- DESeqDataSet(se, design = design, ignoreRank)\n",
       "    return(object)\n",
       "}\n",
       "<bytecode: 0x10edd5a0>\n",
       "<environment: namespace:DESeq2>"
      ]
     },
     "metadata": {},
     "output_type": "display_data"
    }
   ],
   "source": [
    "DESeqDataSetFromMatrix"
   ]
  },
  {
   "cell_type": "markdown",
   "metadata": {},
   "source": [
    "A sub category of functions is called Primitive functions. You can't view their code because they are implemented in C. They are usually used for mathematical operations."
   ]
  },
  {
   "cell_type": "code",
   "execution_count": 16,
   "metadata": {},
   "outputs": [
    {
     "data": {
      "text/html": [
       "<pre class=language-r><code>.Primitive(\"sum\")</code></pre>"
      ],
      "text/latex": [
       "\\begin{minted}{r}\n",
       ".Primitive(\"sum\")\n",
       "\\end{minted}"
      ],
      "text/markdown": [
       "```r\n",
       ".Primitive(\"sum\")\n",
       "```"
      ],
      "text/plain": [
       "function (..., na.rm = FALSE)  .Primitive(\"sum\")"
      ]
     },
     "metadata": {},
     "output_type": "display_data"
    }
   ],
   "source": [
    "sum"
   ]
  },
  {
   "cell_type": "markdown",
   "metadata": {},
   "source": [
    "Lexical scoping in R: a few things to be aware of"
   ]
  },
  {
   "cell_type": "code",
   "execution_count": null,
   "metadata": {
    "collapsed": true
   },
   "outputs": [],
   "source": [
    "# what will the output below return? An error or something else\n",
    "x <- 2\n",
    "g <- function(){\n",
    "    y <- 1\n",
    "    c(x, y)\n",
    "}\n",
    "g()\n",
    "rm(x, g)"
   ]
  },
  {
   "cell_type": "code",
   "execution_count": null,
   "metadata": {
    "collapsed": true
   },
   "outputs": [],
   "source": [
    "# try predicting the output below\n",
    "x <- 2\n",
    "g <- function(){\n",
    "    x <- 5\n",
    "    x\n",
    "}\n",
    "print(g())"
   ]
  },
  {
   "cell_type": "markdown",
   "metadata": {},
   "source": [
    "There is an additional set of functions from the 'apply' family which are commonly used. As the name suggests they apply a function over and over again and are use as and alternative to for loops."
   ]
  },
  {
   "cell_type": "code",
   "execution_count": 19,
   "metadata": {},
   "outputs": [
    {
     "data": {
      "text/html": [
       "<ol class=list-inline>\n",
       "\t<li>2.84545553488207</li>\n",
       "\t<li>-4.98944314211982</li>\n",
       "\t<li>-0.72355727165838</li>\n",
       "\t<li>0.784522609033587</li>\n",
       "\t<li>-0.175278881461411</li>\n",
       "\t<li>-0.220223464087952</li>\n",
       "</ol>\n"
      ],
      "text/latex": [
       "\\begin{enumerate*}\n",
       "\\item 2.84545553488207\n",
       "\\item -4.98944314211982\n",
       "\\item -0.72355727165838\n",
       "\\item 0.784522609033587\n",
       "\\item -0.175278881461411\n",
       "\\item -0.220223464087952\n",
       "\\end{enumerate*}\n"
      ],
      "text/markdown": [
       "1. 2.84545553488207\n",
       "2. -4.98944314211982\n",
       "3. -0.72355727165838\n",
       "4. 0.784522609033587\n",
       "5. -0.175278881461411\n",
       "6. -0.220223464087952\n",
       "\n",
       "\n"
      ],
      "text/plain": [
       "[1]  2.8454555 -4.9894431 -0.7235573  0.7845226 -0.1752789 -0.2202235"
      ]
     },
     "metadata": {},
     "output_type": "display_data"
    },
    {
     "data": {
      "text/html": [
       "<ol class=list-inline>\n",
       "\t<li>2.84545553488207</li>\n",
       "\t<li>-4.98944314211982</li>\n",
       "\t<li>-0.72355727165838</li>\n",
       "\t<li>0.784522609033587</li>\n",
       "\t<li>-0.175278881461411</li>\n",
       "\t<li>-0.220223464087952</li>\n",
       "</ol>\n"
      ],
      "text/latex": [
       "\\begin{enumerate*}\n",
       "\\item 2.84545553488207\n",
       "\\item -4.98944314211982\n",
       "\\item -0.72355727165838\n",
       "\\item 0.784522609033587\n",
       "\\item -0.175278881461411\n",
       "\\item -0.220223464087952\n",
       "\\end{enumerate*}\n"
      ],
      "text/markdown": [
       "1. 2.84545553488207\n",
       "2. -4.98944314211982\n",
       "3. -0.72355727165838\n",
       "4. 0.784522609033587\n",
       "5. -0.175278881461411\n",
       "6. -0.220223464087952\n",
       "\n",
       "\n"
      ],
      "text/plain": [
       "[1]  2.8454555 -4.9894431 -0.7235573  0.7845226 -0.1752789 -0.2202235"
      ]
     },
     "metadata": {},
     "output_type": "display_data"
    }
   ],
   "source": [
    "# using the 'apply' function\n",
    "# Construct a 5x6 matrix\n",
    "X <- matrix(rnorm(30), nrow=5, ncol=6)\n",
    "\n",
    "# Sum the values of each column with `apply()`\n",
    "apply(X, 2, sum)\n",
    "\n",
    "#the above is equivalent to:\n",
    "col.sums <- c()\n",
    "for(i in 1:ncol(X)){\n",
    "    col.sums <- c(col.sums, sum(X[,i]))\n",
    "}\n",
    "col.sums\n"
   ]
  },
  {
   "cell_type": "code",
   "execution_count": 23,
   "metadata": {},
   "outputs": [
    {
     "data": {
      "text/html": [
       "<dl>\n",
       "\t<dt>$first</dt>\n",
       "\t\t<dd>55</dd>\n",
       "\t<dt>$second</dt>\n",
       "\t\t<dd>165</dd>\n",
       "\t<dt>$third</dt>\n",
       "\t\t<dd>5050</dd>\n",
       "</dl>\n"
      ],
      "text/latex": [
       "\\begin{description}\n",
       "\\item[\\$first] 55\n",
       "\\item[\\$second] 165\n",
       "\\item[\\$third] 5050\n",
       "\\end{description}\n"
      ],
      "text/markdown": [
       "$first\n",
       ":   55\n",
       "$second\n",
       ":   165\n",
       "$third\n",
       ":   5050\n",
       "\n",
       "\n"
      ],
      "text/plain": [
       "$first\n",
       "[1] 55\n",
       "\n",
       "$second\n",
       "[1] 165\n",
       "\n",
       "$third\n",
       "[1] 5050\n"
      ]
     },
     "metadata": {},
     "output_type": "display_data"
    },
    {
     "data": {
      "text/html": [
       "<dl class=dl-horizontal>\n",
       "\t<dt>first</dt>\n",
       "\t\t<dd>55</dd>\n",
       "\t<dt>second</dt>\n",
       "\t\t<dd>165</dd>\n",
       "\t<dt>third</dt>\n",
       "\t\t<dd>5050</dd>\n",
       "</dl>\n"
      ],
      "text/latex": [
       "\\begin{description*}\n",
       "\\item[first] 55\n",
       "\\item[second] 165\n",
       "\\item[third] 5050\n",
       "\\end{description*}\n"
      ],
      "text/markdown": [
       "first\n",
       ":   55second\n",
       ":   165third\n",
       ":   5050\n",
       "\n"
      ],
      "text/plain": [
       " first second  third \n",
       "    55    165   5050 "
      ]
     },
     "metadata": {},
     "output_type": "display_data"
    },
    {
     "data": {
      "text/html": [
       "<dl>\n",
       "\t<dt>$first</dt>\n",
       "\t\t<dd>'Pseudocount sum is: 65'</dd>\n",
       "\t<dt>$second</dt>\n",
       "\t\t<dd>'Pseudocount sum is: 176'</dd>\n",
       "\t<dt>$third</dt>\n",
       "\t\t<dd>'Pseudocount sum is: 5150'</dd>\n",
       "</dl>\n"
      ],
      "text/latex": [
       "\\begin{description}\n",
       "\\item[\\$first] 'Pseudocount sum is: 65'\n",
       "\\item[\\$second] 'Pseudocount sum is: 176'\n",
       "\\item[\\$third] 'Pseudocount sum is: 5150'\n",
       "\\end{description}\n"
      ],
      "text/markdown": [
       "$first\n",
       ":   'Pseudocount sum is: 65'\n",
       "$second\n",
       ":   'Pseudocount sum is: 176'\n",
       "$third\n",
       ":   'Pseudocount sum is: 5150'\n",
       "\n",
       "\n"
      ],
      "text/plain": [
       "$first\n",
       "[1] \"Pseudocount sum is: 65\"\n",
       "\n",
       "$second\n",
       "[1] \"Pseudocount sum is: 176\"\n",
       "\n",
       "$third\n",
       "[1] \"Pseudocount sum is: 5150\"\n"
      ]
     },
     "metadata": {},
     "output_type": "display_data"
    }
   ],
   "source": [
    "# lapply goes over lists instead:\n",
    "my.list <- list(first = c(1:10), second = c(10:20), third = (1:100))\n",
    "\n",
    "# the output is again in list format\n",
    "lapply(my.list, sum)\n",
    "\n",
    "# use sapply to have the ouput in vector format\n",
    "sapply(my.list, sum)\n",
    "\n",
    "# can replace the sum function by something else:\n",
    "# x as input to the function corresponds to each element of the list\n",
    "lapply(my.list, function(x) {\n",
    "    intermediate <- x + 1\n",
    "    final <- paste0('Pseudocount sum is: ', sum(intermediate))\n",
    "    final\n",
    "})"
   ]
  },
  {
   "cell_type": "markdown",
   "metadata": {
    "collapsed": true
   },
   "source": [
    "# R debugging"
   ]
  },
  {
   "cell_type": "markdown",
   "metadata": {},
   "source": [
    "The majority of the time sent on a programming assignment will be in the realm of debugging. A lot for times user and machine have different ideas on what should be done in a given function which is the cause for error. On way to minimize the number of error made is by writing clear code, having meaningful variable and function names, and testing each step separately. It is generally considred bad practive to write an entire program or pipeline of potentially a few hundered lines and have it ork on the first go. If you incrementally test different sections (compartementalize) you'll be able to move a lot faster.\n",
    "\n",
    "The main debugging functions in R are: browser(), debug(), traceback(), recover(). Here we will only take a look at the first two but I recommend you take the time to read up on the other two as well so you know in what situation which debugging tool will prove most useful.\n",
    "\n",
    "Note: debugging in notebooks does not really work so use an interactive R session instead"
   ]
  },
  {
   "cell_type": "markdown",
   "metadata": {},
   "source": [
    "browser(): This stops wherever you set the browser() option and allows you to poke around. This is useful if you already have an idea where the error might be sitting."
   ]
  },
  {
   "cell_type": "code",
   "execution_count": 18,
   "metadata": {},
   "outputs": [
    {
     "name": "stdout",
     "output_type": "stream",
     "text": [
      "Called from: browser_function_example(4)\n",
      "debug at <text>#4: y <- x + a\n",
      "debug at <text>#5: return(y)\n"
     ]
    },
    {
     "data": {
      "text/html": [
       "6"
      ],
      "text/latex": [
       "6"
      ],
      "text/markdown": [
       "6"
      ],
      "text/plain": [
       "[1] 6"
      ]
     },
     "metadata": {},
     "output_type": "display_data"
    }
   ],
   "source": [
    "browser_function_example <- function(x){\n",
    "    a  <- 2\n",
    "    browser()\n",
    "    y <- x + a\n",
    "    return(y)\n",
    "}\n",
    "\n",
    "browser_function_example(4)"
   ]
  },
  {
   "cell_type": "markdown",
   "metadata": {},
   "source": [
    "debug(): This will allow you to go step-by-step through the entire function. You can debug multiple functions at the same time. The advantage of this is you have a bit more control over the debug session than in browser() and you can 'look ahead' by pre-debugging functions you might know could also be error prone.\n",
    "\n",
    "Try to 'pre-debug' the inner_function() while debuggin the outer_function(). If you find a mistake, how could you fit it without having to start over?"
   ]
  },
  {
   "cell_type": "code",
   "execution_count": 24,
   "metadata": {
    "collapsed": true
   },
   "outputs": [],
   "source": [
    "outer_function <- function(x){\n",
    "    some.const <- 5\n",
    "    var.sum <- some.const + x\n",
    "    \n",
    "    out.var <- inner_function(var.sum)\n",
    "    return(out.var)\n",
    "}\n",
    "\n",
    "inner_function <- function(x){\n",
    "    inner.prod <- x * 10\n",
    "    out.string <- paste('The product is:', iner.prod)\n",
    "    return(out.string)\n",
    "}"
   ]
  },
  {
   "cell_type": "markdown",
   "metadata": {},
   "source": [
    "# Useful R tricks"
   ]
  },
  {
   "cell_type": "markdown",
   "metadata": {},
   "source": [
    "Loading R libraries: Every time you load a library you're adding a new environment to R. The library specific functions become available because R searches all environments for your function call. Sometimes you override an existing function by loading a new library. You can reference the package-specific function via the package specifier."
   ]
  },
  {
   "cell_type": "code",
   "execution_count": null,
   "metadata": {
    "collapsed": true
   },
   "outputs": [],
   "source": [
    "# example for loading a library and calling a library-specific function.\n",
    "suppressPackageStartupMessages(require(pROC))\n",
    "\n",
    "pROC::auc(roc_obj)"
   ]
  },
  {
   "cell_type": "markdown",
   "metadata": {},
   "source": [
    "Installing libraries:"
   ]
  },
  {
   "cell_type": "code",
   "execution_count": null,
   "metadata": {
    "collapsed": true
   },
   "outputs": [],
   "source": [
    "# General guide for installing packages in R\n",
    "# 1. Install standard packages within R:\n",
    "#  install.packages('whatever')\n",
    "#  install.packages(\"MESS\", dependencies=TRUE, repos='http://cran.rstudio.com/')\n",
    "# 2. Install Bioconductor packages within R\n",
    "#  source(\"http://bioconductor.org/biocLite.R\")\n",
    "#  biocLite('DESeq2')\n",
    "# 3. If all else fails; use sledgehammer approach and install from source:\n",
    "#  download tarball (.tar) or gzipped tarball (.tar.gz)\n",
    "#  install.packages('edgeR_3.18.1.tar.gz',repos=NULL,type='source')"
   ]
  },
  {
   "cell_type": "markdown",
   "metadata": {},
   "source": [
    "Directory switching:"
   ]
  },
  {
   "cell_type": "code",
   "execution_count": null,
   "metadata": {
    "collapsed": true
   },
   "outputs": [],
   "source": [
    "# current location\n",
    "getwd()\n",
    "\n",
    "#change directory; the directory change is the same format as with unix but has to be given as string\n",
    "setwd('anaconda2')"
   ]
  },
  {
   "cell_type": "markdown",
   "metadata": {},
   "source": [
    "Adding your own scripts: To add a file containing functions or a workflow use the source() function. The script you're sourcing can contain functions, variable assignemnts, loading packages etc."
   ]
  },
  {
   "cell_type": "code",
   "execution_count": null,
   "metadata": {
    "collapsed": true
   },
   "outputs": [],
   "source": [
    "source('my_script.r')"
   ]
  },
  {
   "cell_type": "markdown",
   "metadata": {},
   "source": [
    "Timing functions: When dealing with large amounts of data certain functions can become a bottleneck. To get an idea what running time to expect and whether you might have to re-write a function you can time how long it takes to run on a subset, or a few instances."
   ]
  },
  {
   "cell_type": "code",
   "execution_count": 26,
   "metadata": {},
   "outputs": [
    {
     "data": {
      "text/plain": [
       "   user  system elapsed \n",
       "  0.009   0.000   0.010 "
      ]
     },
     "metadata": {},
     "output_type": "display_data"
    }
   ],
   "source": [
    "ptm <- proc.time()  # record the current time\n",
    "h <- 5 + 1 #function to be performed/timed\n",
    "proc.time() - ptm  # obtain the time difference"
   ]
  },
  {
   "cell_type": "code",
   "execution_count": null,
   "metadata": {
    "collapsed": true
   },
   "outputs": [],
   "source": []
  }
 ],
 "metadata": {
  "kernelspec": {
   "display_name": "R",
   "language": "R",
   "name": "ir"
  },
  "language_info": {
   "codemirror_mode": "r",
   "file_extension": ".r",
   "mimetype": "text/x-r-source",
   "name": "R",
   "pygments_lexer": "r",
   "version": "3.4.1"
  }
 },
 "nbformat": 4,
 "nbformat_minor": 2
}
