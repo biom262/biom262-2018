{
 "cells": [
  {
   "cell_type": "markdown",
   "metadata": {},
   "source": [
    "To install R we're using anaconda. These installations will take a while so be patient. You will be asked several time whetehr you want to update or install certain packages; say 'yes' to everything. This way we all have the same setup\n",
    "\n",
    "We start by getting the basic R version along with some essential R packages which are useful\n",
    "\n",
    "Note: you should enter line by line, don't copy paste everything since the next command will be the answer for a installation question which is obviously not valid. Take it step by step and do it right the first time else you might have to re-install everything, including Anaconda (I speak from experience)"
   ]
  },
  {
   "cell_type": "code",
   "execution_count": null,
   "metadata": {
    "collapsed": true
   },
   "outputs": [],
   "source": [
    "%%bash\n",
    "conda install -c r r\n",
    "\n",
    "conda install -c r r-essentials\n",
    "\n",
    "conda install -c r r-xml\n",
    "\n",
    "conda install gcc\n",
    "\n",
    "conda install -c r rpy2"
   ]
  },
  {
   "cell_type": "markdown",
   "metadata": {},
   "source": [
    "Check if you installed everything as it should:"
   ]
  },
  {
   "cell_type": "code",
   "execution_count": null,
   "metadata": {
    "collapsed": true
   },
   "outputs": [],
   "source": [
    "%%bash\n",
    "which R"
   ]
  },
  {
   "cell_type": "markdown",
   "metadata": {},
   "source": [
    "Your should see something like: ~/anaconda2/bin/R"
   ]
  },
  {
   "cell_type": "markdown",
   "metadata": {},
   "source": [
    "To analyze our data we will use DESeq2. Install that too. Start an R session by typing into the shell: \n",
    "R \n",
    "\n",
    "Your screen will switch to the R interpreter. We will install the package DESeq2 for differential gene expression. In your interpreter type:"
   ]
  },
  {
   "cell_type": "code",
   "execution_count": null,
   "metadata": {
    "collapsed": true
   },
   "outputs": [],
   "source": [
    "source(\"http://bioconductor.org/biocLite.R\")\n",
    "\n",
    "biocLite(\"DESeq2\")"
   ]
  },
  {
   "cell_type": "markdown",
   "metadata": {},
   "source": [
    "After a long session of installing packages and prompting you whether or not you want to update (yes) you might get a wanring or 'on-zero exit'message for certain packages. You can ignore this for now. \n",
    "\n",
    "    Warning messages:\n",
    "\n",
    "    1: In install.packages(update[instlib == l, \"Package\"], l, contriburl = contriburl,  :\n",
    "\n",
    "      installation of package 'pbdZMQ' had non-zero exit status\n",
    "  \n",
    "    2: In install.packages(update[instlib == l, \"Package\"], l, contriburl = contriburl,  :\n",
    "\n",
    "      installation of package 'XML' had non-zero exit status\n",
    "  \n",
    "\n",
    "\n",
    "All that matters is that if you load the library you don't get any errors."
   ]
  },
  {
   "cell_type": "code",
   "execution_count": null,
   "metadata": {
    "collapsed": true
   },
   "outputs": [],
   "source": [
    "#loading the library should give a bunch of messages but no error\n",
    "library(DESeq2)"
   ]
  }
 ],
 "metadata": {
  "kernelspec": {
   "display_name": "Python 2",
   "language": "python",
   "name": "python2"
  },
  "language_info": {
   "codemirror_mode": {
    "name": "ipython",
    "version": 2
   },
   "file_extension": ".py",
   "mimetype": "text/x-python",
   "name": "python",
   "nbconvert_exporter": "python",
   "pygments_lexer": "ipython2",
   "version": "2.7.13"
  }
 },
 "nbformat": 4,
 "nbformat_minor": 2
}
