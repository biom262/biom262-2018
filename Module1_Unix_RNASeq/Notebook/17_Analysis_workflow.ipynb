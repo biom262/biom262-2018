{
 "cells": [
  {
   "cell_type": "markdown",
   "metadata": {},
   "source": [
    "Using different functions we can now start to build workflows. Let's recreate the result obtained from DESeq2."
   ]
  },
  {
   "cell_type": "code",
   "execution_count": 3,
   "metadata": {},
   "outputs": [
    {
     "name": "stderr",
     "output_type": "stream",
     "text": [
      "estimating size factors\n",
      "estimating dispersions\n",
      "gene-wise dispersion estimates\n",
      "mean-dispersion relationship\n",
      "final dispersion estimates\n",
      "fitting model and testing\n"
     ]
    }
   ],
   "source": [
    "suppressPackageStartupMessages(require(DESeq2))\n",
    "\n",
    "counts <- read.csv('/home/ucsd-train40/cmm262/deseq2/tardbp_counts_for_deseq2.csv',\n",
    "                  header=TRUE, row.names=1)\n",
    "\n",
    "col.data <- read.csv('/home/ucsd-train40/cmm262/deseq2/tardbp_conditions_for_deseq2.csv',\n",
    "                  header=TRUE, row.names=1)\n",
    "\n",
    "function.res <- deseq2_analysis()"
   ]
  },
  {
   "cell_type": "markdown",
   "metadata": {},
   "source": [
    "We now want to see how do your results look specifically for chromosome 1.\n",
    "\n",
    "Think about how you can retireve this information from the data you have...."
   ]
  }
 ],
 "metadata": {
  "kernelspec": {
   "display_name": "R",
   "language": "R",
   "name": "ir"
  },
  "language_info": {
   "codemirror_mode": "r",
   "file_extension": ".r",
   "mimetype": "text/x-r-source",
   "name": "R",
   "pygments_lexer": "r",
   "version": "3.4.1"
  }
 },
 "nbformat": 4,
 "nbformat_minor": 2
}
