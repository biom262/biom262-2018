{
 "cells": [
  {
   "cell_type": "markdown",
   "metadata": {},
   "source": [
    "# Install instructions for Week 10 lectures"
   ]
  },
  {
   "cell_type": "markdown",
   "metadata": {},
   "source": [
    "**1) Install PLINK**\n",
    "\n",
    "    conda install -c biobuilds plink=1.07\n",
    "    \n",
    "**2) Install admixture**\n",
    "\n",
    "This one is not available in anaconda, so we are going to get the source code from [here](https://www.genetics.ucla.edu/software/admixture/download.html).\n",
    "\n",
    "    cd ~/software\n",
    "    \n",
    "    wget https://www.genetics.ucla.edu/software/admixture/binaries/admixture_linux-1.3.0.tar.gz\n",
    "    \n",
    "    tar -xvf admixture_linux-1.3.0.tar.gz\n",
    "    \n",
    "Add this path to your ~/.bashrc. REMEMBER TO CHANGE ## TO YOUR NUMBER\n",
    "\n",
    "    export PATH=\"/home/ucsd-train##/software/admixture_linux-1.3.0/:$PATH\"\n",
    "    \n",
    "**3) Install R package Vegan and Permute**\n",
    "\n",
    "    conda install -c bioconda r-permute\n",
    "    \n",
    "Now vegan. If you try to do this first, you might get an error that says it depends on permute and that has not been installed yet.\n",
    "\n",
    "    conda install -c bioconda r-vegan\n",
    "    \n",
    "    \n",
    "    "
   ]
  },
  {
   "cell_type": "code",
   "execution_count": null,
   "metadata": {
    "collapsed": true
   },
   "outputs": [],
   "source": []
  }
 ],
 "metadata": {
  "kernelspec": {
   "display_name": "Python 2",
   "language": "python",
   "name": "python2"
  },
  "language_info": {
   "codemirror_mode": {
    "name": "ipython",
    "version": 2
   },
   "file_extension": ".py",
   "mimetype": "text/x-python",
   "name": "python",
   "nbconvert_exporter": "python",
   "pygments_lexer": "ipython2",
   "version": "2.7.13"
  }
 },
 "nbformat": 4,
 "nbformat_minor": 1
}
